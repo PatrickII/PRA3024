{
  "nbformat": 4,
  "nbformat_minor": 0,
  "metadata": {
    "colab": {
      "name": "Kopie von LHCb_2021.ipynb",
      "provenance": [],
      "collapsed_sections": [],
      "include_colab_link": true
    },
    "kernelspec": {
      "name": "python2",
      "display_name": "Python 2"
    }
  },
  "cells": [
    {
      "cell_type": "markdown",
      "metadata": {
        "id": "view-in-github",
        "colab_type": "text"
      },
      "source": [
        "<a href=\"https://colab.research.google.com/github/PatrickII/PRA3024/blob/main/Kopie_von_LHCb_2021.ipynb\" target=\"_parent\"><img src=\"https://colab.research.google.com/assets/colab-badge.svg\" alt=\"Open In Colab\"/></a>"
      ]
    },
    {
      "cell_type": "code",
      "metadata": {
        "id": "XY7QVs2iGI-C",
        "colab": {
          "base_uri": "https://localhost:8080/"
        },
        "outputId": "298401ab-fe91-443a-d943-730cff7cd218"
      },
      "source": [
        "from google.colab import drive\n",
        "drive.mount('/content/drive')"
      ],
      "execution_count": 1,
      "outputs": [
        {
          "output_type": "stream",
          "text": [
            "Mounted at /content/drive\n"
          ],
          "name": "stdout"
        }
      ]
    },
    {
      "cell_type": "markdown",
      "metadata": {
        "id": "1JafiSIrvEKW"
      },
      "source": [
        "Welcome to Week 4!\n",
        "\n",
        "We will be focussing in Particle Physics Analysis and detecting matter/antimatter assymetries in the production of certain types of particles. ![LHCb detector](https://www1b.physik.rwth-aachen.de/~schael/LHCb_files/LHCB%20PREVIEW-white-bg.jpg)\n",
        "\n",
        "The data we are using comes from LHCb - one of the experiments at LHC. It is a highly specialised detector aimed at detecting decays involving the B-quark. Unlike the other major experiments, LHCb detects particles very close to the source and looks almost exclusively in the forward direction - this gives the detector many advantages compared to other experiments at LHC.\n",
        "\n",
        "In order to get started, we need to access the [ROOT framework](https://root.cern.ch/) and download some datafiles into this machine.\n",
        "\n",
        "If you are using Google Colab then you need to ensure that you are using Python 2:\n",
        "\n",
        "Before we start - we have to use Python2 (not Python 3), so we should choose this as an option in \"Runtime\" -> \"Change Runtime Type\" at the top or create a new notebook in Python2 by appending \"&runtime=python2\" to the URL."
      ]
    },
    {
      "cell_type": "code",
      "metadata": {
        "id": "vFclIR72w0mU",
        "colab": {
          "base_uri": "https://localhost:8080/"
        },
        "outputId": "47ed9a78-a1fb-4ee1-d37c-f39f78567aa3"
      },
      "source": [
        "#Colab only\n",
        "#we are going to make a directory called APPS\n",
        "!mkdir -p APPS\n",
        "#Now we move to our directory called APPS and we download ROOT from the CERN server, this version is chosen because it runs on this machine - if you want to run this locally check the versions!\n",
        "!cd APPS && wget https://root.cern.ch/download/root_v6.13.08.Linux-ubuntu18-x86_64-gcc7.3.tar.gz \n",
        "#Now we extract our downloaded file:\n",
        "!cd APPS && tar -xf root_v6.13.08.Linux-ubuntu18-x86_64-gcc7.3.tar.gz\n"
      ],
      "execution_count": 2,
      "outputs": [
        {
          "output_type": "stream",
          "text": [
            "--2021-03-01 18:35:39--  https://root.cern.ch/download/root_v6.13.08.Linux-ubuntu18-x86_64-gcc7.3.tar.gz\n",
            "Resolving root.cern.ch (root.cern.ch)... 137.138.18.236, 2001:1458:201:ee::100:6\n",
            "Connecting to root.cern.ch (root.cern.ch)|137.138.18.236|:443... connected.\n",
            "HTTP request sent, awaiting response... 200 OK\n",
            "Length: 137415272 (131M) [application/x-gzip]\n",
            "Saving to: ‘root_v6.13.08.Linux-ubuntu18-x86_64-gcc7.3.tar.gz’\n",
            "\n",
            "root_v6.13.08.Linux 100%[===================>] 131.05M  25.2MB/s    in 5.8s    \n",
            "\n",
            "2021-03-01 18:35:45 (22.6 MB/s) - ‘root_v6.13.08.Linux-ubuntu18-x86_64-gcc7.3.tar.gz’ saved [137415272/137415272]\n",
            "\n"
          ],
          "name": "stdout"
        }
      ]
    },
    {
      "cell_type": "code",
      "metadata": {
        "id": "COPyXIvbxqht",
        "colab": {
          "base_uri": "https://localhost:8080/"
        },
        "outputId": "8582eaca-3a3e-4f49-9adb-fa835711c314"
      },
      "source": [
        "#Colab only:\n",
        "#now we can extract some files from ROOT and ensure that we can access the libraries. We use some python key words to get access to the right files:\n",
        "\n",
        "import sys\n",
        "\n",
        "sys.path.append(\"/content/APPS/root/lib\")\n",
        "\n",
        "import ctypes\n",
        "\n",
        "\n",
        "ctypes.cdll.LoadLibrary('/content/APPS/root/lib/libCore.so')\n",
        "\n",
        "ctypes.cdll.LoadLibrary('/content/APPS/root/lib/libThread.so')\n",
        "\n",
        "ctypes.cdll.LoadLibrary('/content/APPS/root/lib/libImt.so')\n",
        "\n",
        "ctypes.cdll.LoadLibrary('/content/APPS/root/lib/libRIO.so')\n",
        "\n",
        "ctypes.cdll.LoadLibrary('/content/APPS/root/lib/libNet.so')\n",
        "\n",
        "ctypes.cdll.LoadLibrary('/content/APPS/root/lib/libTree.so')\n",
        "\n",
        "ctypes.cdll.LoadLibrary('/content/APPS/root/lib/libMathCore.so')\n",
        "\n",
        "ctypes.cdll.LoadLibrary('/content/APPS/root/lib/libMathMore.so')\n",
        "\n",
        "ctypes.cdll.LoadLibrary('/content/APPS/root/lib/libMatrix.so')\n",
        "\n",
        "ctypes.cdll.LoadLibrary('/content/APPS/root/lib/libHist.so')\n",
        "\n",
        "ctypes.cdll.LoadLibrary('/content/APPS/root/lib/libGraf.so')\n",
        "\n",
        "ctypes.cdll.LoadLibrary('/content/APPS/root/lib/libPyROOT.so')\n",
        "\n",
        "ctypes.cdll.LoadLibrary('/content/APPS/root/lib/libGpad.so')\n",
        "\n",
        "ctypes.cdll.LoadLibrary('/content/APPS/root/lib/libGraf3d.so')\n",
        "\n",
        "ctypes.cdll.LoadLibrary('/content/APPS/root/lib/libMultiProc.so')\n",
        "\n",
        "ctypes.cdll.LoadLibrary('/content/APPS/root/lib/libMinuit.so')\n",
        "\n",
        "ctypes.cdll.LoadLibrary('/content/APPS/root/lib/libFoam.so')"
      ],
      "execution_count": 3,
      "outputs": [
        {
          "output_type": "execute_result",
          "data": {
            "text/plain": [
              "<CDLL '/content/APPS/root/lib/libFoam.so', handle 5596122ec800 at 7f6bac94b7d0>"
            ]
          },
          "metadata": {
            "tags": []
          },
          "execution_count": 3
        }
      ]
    },
    {
      "cell_type": "code",
      "metadata": {
        "id": "QTVz7NQMyDCb",
        "colab": {
          "base_uri": "https://localhost:8080/",
          "height": 607
        },
        "outputId": "1884d9ac-20bf-4316-fa86-b6b5b3ce8aa1"
      },
      "source": [
        "#Now we can check if we have everything working as we expect: \n",
        "#Import brings the ROOT framework into our python environment.\n",
        "import ROOT\n",
        "#We define a 1 dimensional histogram, with 100 bins which ranges from -4 to +4\n",
        "h = ROOT.TH1F(\"gauss\",\"Example histogram\",100,-4,4)\n",
        "#Fill the histogram with gaussian (random) distribution\n",
        "h.FillRandom(\"gaus\")\n",
        "#make a Canvas (i.e. a drawing)\n",
        "c = ROOT.TCanvas(\"myCanvasName\",\"The Canvas Title\",800,600)\n",
        "#Draw my histogram\n",
        "h.Draw()\n",
        "#Show me the canvas\n",
        "c.Draw()"
      ],
      "execution_count": 4,
      "outputs": [
        {
          "output_type": "stream",
          "text": [
            "Welcome to JupyROOT 6.13/08\n"
          ],
          "name": "stdout"
        },
        {
          "output_type": "display_data",
          "data": {
            "image/png": "[encoded data removed]",
            "text/plain": [
              "<IPython.core.display.Image object>"
            ]
          },
          "metadata": {
            "tags": []
          }
        }
      ]
    },
    {
      "cell_type": "markdown",
      "metadata": {
        "id": "VXW1M6XB0tXP"
      },
      "source": [
        "All being well - this should give no errors and we should have some kind of Gaussian distribution above.\n",
        "\n",
        "The next step is to get our data file - you can find it on Canvas here: https://maastrichtuniversity.instructure.com/courses/5826/files/553829?module_item_id=115201\n",
        "\n",
        "Then upload it either directly or to your Google Drive and then mount this to your Colab environment"
      ]
    },
    {
      "cell_type": "code",
      "metadata": {
        "id": "Co476pbmBvBB",
        "colab": {
          "base_uri": "https://localhost:8080/",
          "height": 654
        },
        "outputId": "69f5d34a-6449-445d-b891-822d3995079b"
      },
      "source": [
        "#Since we need to use ROOT, we must first import this into Python:\n",
        "import ROOT\n",
        "#Then we open the ROOT file using the TFile command. - note you need to make this file path correct for your own setup!\n",
        "f = ROOT.TFile.Open(\"/content/drive/MyDrive/B2HHH_MagnetUp.root\", \"READONLY\")\n",
        "#From our file, we have to extract the DecayTree \n",
        "tree=f.Get(\"data\")\n",
        "#Now we can grab some variables as a test:\n",
        "ymomentum = ROOT.RooRealVar(\"H1_PY\",\"H1 Y Momentum\",-3000,3000,\"MeV/c\")\n",
        "xmomentum = ROOT.RooRealVar(\"H1_PX\",\"H1 X Momentum\",-3000,3000,\"MeV/c\")\n",
        "zmomentum = ROOT.RooRealVar(\"H1_PZ\",\"H1 Z Momentum\",-3000,3000,\"MeV/c\")\n",
        "# We then create a dataset for us to play with\n",
        "data = ROOT.RooDataSet(\"data\",\"data set\", tree, ROOT.RooArgSet(xmomentum,ymomentum,zmomentum), \"1==1\")\n",
        "# Now we create a canvas, plot our data onto the canvas and draw it:\n",
        "c = ROOT.TCanvas(\"c\",\"c\")\n",
        "frame = xmomentum.frame()\n",
        "data.plotOn(frame)\n",
        "frame.Draw()\n",
        "c.Draw()"
      ],
      "execution_count": 5,
      "outputs": [
        {
          "output_type": "stream",
          "text": [
            "\n",
            "\u001b[1mRooFit v3.60 -- Developed by Wouter Verkerke and David Kirkby\u001b[0m \n",
            "                Copyright (C) 2000-2013 NIKHEF, University of California & Stanford University\n",
            "                All rights reserved, please read http://roofit.sourceforge.net/license.txt\n",
            "\n",
            "[#1] INFO:Eval -- RooAbsReal::attachToTree(H1_PX) TTree Float_t branch H1_PX will be converted to double precision\n",
            "[#1] INFO:Eval -- RooAbsReal::attachToTree(H1_PY) TTree Float_t branch H1_PY will be converted to double precision\n",
            "[#1] INFO:Eval -- RooAbsReal::attachToTree(H1_PZ) TTree Float_t branch H1_PZ will be converted to double precision\n",
            "[#1] INFO:Eval -- RooTreeDataStore::loadValues(data) Ignored 3305139 out of range events\n"
          ],
          "name": "stdout"
        },
        {
          "output_type": "display_data",
          "data": {
            "image/png": "[encoded data removed]",
            "text/plain": [
              "<IPython.core.display.Image object>"
            ]
          },
          "metadata": {
            "tags": []
          }
        }
      ]
    },
    {
      "cell_type": "markdown",
      "metadata": {
        "id": "4e4n4iS3IJZi"
      },
      "source": [
        "#Why are we here?\n",
        "\n",
        "This week is about finding out something about one of the fundemental questions in physics. Why do we have \"stuff\".\n",
        "\n",
        "According to many of our models, and according to many measurements in particle physics, matter and anti-matter appear to be produced in equal quantities.\n",
        "\n",
        "However, when one looks at the Universe in general, we have more matter than anti-matter left - so there need to be some processes where anti-matter and matter are not produced equally. You can find out more about the Matter/Anti-Matter Asymmetry [here](http://press.web.cern.ch/backgrounders/matterantimatter-asymmetry)\n",
        "\n",
        "One place we look for this asymetry is in [charge-partity (CP) violation](https://www.symmetrymagazine.org/article/october-2005/explain-it-in-60-seconds) in particle physics processes. This essentially says that the processes that happen in the anti-particle version of a decay do not **exactly** match to the processes that happen in the particle version of the decay.\n",
        "\n",
        "\n",
        "\n",
        "---\n",
        "\n",
        "\n",
        "\n",
        "At LHCb, we produce both particle of the  B<sup>+</sup> meson and it's antiparticle the B<sup>-</sup> meson.\n",
        "\n",
        "We cannot detect these mesons directly. They decay into other things before we have a chance to measure them properly. So we collect data on the decay products, often called daughter particles. There are 524 [documented](http://pdg.lbl.gov/2014/listings/rpp2014-list-B-plus-minus.pdf) ways that the B<sup>+/-</sup> decays into various combinations. In order to simplify the process, we choose decay combinations that are convenient or have particular properties.\n",
        "\n",
        "In this analysis, we will take the process:-\n",
        "\n",
        "B<sup>+</sup>->K<sup>+</sup> + K<sup>+</sup>  + K<sup>-</sup>\n",
        "\n",
        "or\n",
        "\n",
        "B<sup>-</sup>->K<sup>-</sup> + K<sup>-</sup>  + K<sup>+</sup>\n",
        "\n",
        "\n",
        "To do so, we are given the following data for each event in our system:-\n",
        "\n",
        "![alt text](https://raw.githubusercontent.com/lhcb/opendata-project/80d64a3796e593fc8f9b257e85f32ae2e54f131f/Images/Variables.png)\n",
        "\n",
        "Here, H1 is the detected daughter particle (so a Kaon or a Pion), **not** the B-meson - the mother particle. Normally we would have to do some reconstruction from the decay products (the Daughters) to the Mother to be able to make some conclusions.\n",
        "\n",
        "Let's get started with working with this data:"
      ]
    },
    {
      "cell_type": "markdown",
      "metadata": {
        "id": "LOhfj7kfP-ao"
      },
      "source": [
        "*For* our analysis, the momentum of each of the daughter particles is split into the three cartesian components. We have combined these into a variable called H1_Ptot"
      ]
    },
    {
      "cell_type": "code",
      "metadata": {
        "id": "Y4keyoyTPjsK",
        "colab": {
          "base_uri": "https://localhost:8080/",
          "height": 581
        },
        "outputId": "300d6308-68bd-46d2-c5f6-9bae280d0e60"
      },
      "source": [
        "\r\n",
        "#Here make a plot of the Total momentum of each of the three daughters\r\n",
        "h1totmomentum = ROOT.RooRealVar(\"H1_Ptot\",\"H1 Tot Momentum\", 0,300000,\"MeV/c\")\r\n",
        "h2totmomentum = ROOT.RooRealVar(\"H2_Ptot\",\"H2 Tot Momentum\", 0,300000,\"MeV/c\")\r\n",
        "h3totmomentum = ROOT.RooRealVar(\"H3_Ptot\",\"H3 Tot Momentum\", 0,300000,\"MeV/c\")\r\n",
        "\r\n",
        "# We then create a dataset for us to play with\r\n",
        "data = ROOT.RooDataSet(\"data\",\"data set\", tree, ROOT.RooArgSet(h1totmomentum, h2totmomentum, h3totmomentum), \"1==1\")\r\n",
        "\r\n",
        "\r\n",
        "\r\n",
        "# Now we create a canvas, plot our data onto the canvas and draw it:\r\n",
        "c = ROOT.TCanvas(\"c\",\"c\")\r\n",
        "frame = h1totmomentum.frame()\r\n",
        "data.plotOn(frame)\r\n",
        "frame.Draw()\r\n",
        "c.Draw()\r\n"
      ],
      "execution_count": 6,
      "outputs": [
        {
          "output_type": "stream",
          "text": [
            "[#1] INFO:Eval -- RooAbsReal::attachToTree(H1_Ptot) TTree Float_t branch H1_Ptot will be converted to double precision\n",
            "[#1] INFO:Eval -- RooAbsReal::attachToTree(H2_Ptot) TTree Float_t branch H2_Ptot will be converted to double precision\n",
            "[#1] INFO:Eval -- RooAbsReal::attachToTree(H3_Ptot) TTree Float_t branch H3_Ptot will be converted to double precision\n",
            "[#1] INFO:Eval -- RooTreeDataStore::loadValues(data) Ignored 39167 out of range events\n"
          ],
          "name": "stdout"
        },
        {
          "output_type": "stream",
          "text": [
            "Warning in <TCanvas::Constructor>: Deleting canvas with same name: c\n"
          ],
          "name": "stderr"
        },
        {
          "output_type": "display_data",
          "data": {
            "image/png": "[encoded data removed]",
            "text/plain": [
              "<IPython.core.display.Image object>"
            ]
          },
          "metadata": {
            "tags": []
          }
        }
      ]
    },
    {
      "cell_type": "code",
      "metadata": {
        "colab": {
          "base_uri": "https://localhost:8080/",
          "height": 507
        },
        "id": "9DyLn3tkjzao",
        "outputId": "e6d5a52f-16f9-4b32-e643-a15f8bbd9768"
      },
      "source": [
        "c = ROOT.TCanvas(\"c\",\"c\")\r\n",
        "frame = h2totmomentum.frame()\r\n",
        "data.plotOn(frame)\r\n",
        "frame.Draw()\r\n",
        "c.Draw()"
      ],
      "execution_count": 7,
      "outputs": [
        {
          "output_type": "stream",
          "text": [
            "Warning in <TCanvas::Constructor>: Deleting canvas with same name: c\n"
          ],
          "name": "stderr"
        },
        {
          "output_type": "display_data",
          "data": {
            "image/png": "[encoded data removed]",
            "text/plain": [
              "<IPython.core.display.Image object>"
            ]
          },
          "metadata": {
            "tags": []
          }
        }
      ]
    },
    {
      "cell_type": "code",
      "metadata": {
        "colab": {
          "base_uri": "https://localhost:8080/",
          "height": 507
        },
        "id": "IT-_sUlmjz0w",
        "outputId": "b6b5b0c3-a8d7-4146-fb2a-e056490f4006"
      },
      "source": [
        "c = ROOT.TCanvas(\"c\",\"c\")\r\n",
        "frame = h3totmomentum.frame()\r\n",
        "data.plotOn(frame)\r\n",
        "frame.Draw()\r\n",
        "c.Draw()"
      ],
      "execution_count": 8,
      "outputs": [
        {
          "output_type": "stream",
          "text": [
            "Warning in <TCanvas::Constructor>: Deleting canvas with same name: c\n"
          ],
          "name": "stderr"
        },
        {
          "output_type": "display_data",
          "data": {
            "image/png": "[encoded data removed]",
            "text/plain": [
              "<IPython.core.display.Image object>"
            ]
          },
          "metadata": {
            "tags": []
          }
        }
      ]
    },
    {
      "cell_type": "markdown",
      "metadata": {
        "id": "C1lXLMCoR1Gi"
      },
      "source": [
        "Now plot the total momentum for the mother (M_Ptot)"
      ]
    },
    {
      "cell_type": "code",
      "metadata": {
        "id": "6kdbiNpPR1QG",
        "colab": {
          "base_uri": "https://localhost:8080/",
          "height": 544
        },
        "outputId": "38d06f1a-7ea5-4769-b6b6-524fcccdf531"
      },
      "source": [
        "#use the histogram plotting tools, plot the momentum of the mother\r\n",
        "mtotmomentum = ROOT.RooRealVar(\"M_Ptot\",\"M Tot Momentum\", 0,250000,\"MeV/c\")\r\n",
        "\r\n",
        "# We then create a dataset for us to play with\r\n",
        "data = ROOT.RooDataSet(\"data\",\"data set\", tree, ROOT.RooArgSet(mtotmomentum), \"1==1\")\r\n",
        "\r\n",
        "\r\n",
        "\r\n",
        "# Now we create a canvas, plot our data onto the canvas and draw it:\r\n",
        "c = ROOT.TCanvas(\"c\",\"c\")\r\n",
        "frame = mtotmomentum.frame()\r\n",
        "data.plotOn(frame)\r\n",
        "frame.Draw()\r\n",
        "c.Draw()"
      ],
      "execution_count": 9,
      "outputs": [
        {
          "output_type": "stream",
          "text": [
            "[#1] INFO:Eval -- RooAbsReal::attachToTree(M_Ptot) TTree Float_t branch M_Ptot will be converted to double precision\n",
            "[#1] INFO:Eval -- RooTreeDataStore::loadValues(data) Ignored 285464 out of range events\n"
          ],
          "name": "stdout"
        },
        {
          "output_type": "stream",
          "text": [
            "Warning in <TCanvas::Constructor>: Deleting canvas with same name: c\n"
          ],
          "name": "stderr"
        },
        {
          "output_type": "display_data",
          "data": {
            "image/png": "[encoded data removed]",
            "text/plain": [
              "<IPython.core.display.Image object>"
            ]
          },
          "metadata": {
            "tags": []
          }
        }
      ]
    },
    {
      "cell_type": "markdown",
      "metadata": {
        "id": "Gj5qv5kqSMIF"
      },
      "source": [
        "Let's take a look at the whole data file that is available to us by looking at one specific entry - number 45"
      ]
    },
    {
      "cell_type": "code",
      "metadata": {
        "id": "QMkih_6SSG8I",
        "colab": {
          "base_uri": "https://localhost:8080/"
        },
        "outputId": "d627bf57-633d-4efd-f577-b1654edf62a6"
      },
      "source": [
        "tree.Show(45)"
      ],
      "execution_count": 10,
      "outputs": [
        {
          "output_type": "stream",
          "text": [
            "======> EVENT:45\n",
            " B_FlightDistance = 4.71407\n",
            " B_VertexChi2    = 11.5278\n",
            " H1_PX           = 133.376\n",
            " H1_PY           = -1293.52\n",
            " H1_PZ           = 33534.2\n",
            " H1_ProbK        = 0.00735235\n",
            " H1_ProbPi       = 0.204907\n",
            " H1_Charge       = 1\n",
            " H1_IPChi2       = 22.9885\n",
            " H1_isMuon       = 0\n",
            " H2_PX           = 518.943\n",
            " H2_PY           = -1966.2\n",
            " H2_PZ           = 52184.7\n",
            " H2_ProbK        = 0.00482044\n",
            " H2_ProbPi       = 0.266655\n",
            " H2_Charge       = -1\n",
            " H2_IPChi2       = 20.5652\n",
            " H2_isMuon       = 0\n",
            " H3_PX           = 1383.62\n",
            " H3_PY           = -2008.35\n",
            " H3_PZ           = 12154\n",
            " H3_ProbK        = 0.0800247\n",
            " H3_ProbPi       = 0.403711\n",
            " H3_Charge       = -1\n",
            " H3_IPChi2       = 1584.95\n",
            " H3_isMuon       = 0\n",
            " H1_Ptot         = 33559.4\n",
            " H1_type         = 1\n",
            " H1_E            = 33559.7\n",
            " H2_Ptot         = 52224.4\n",
            " H2_type         = 1\n",
            " H2_E            = 52224.5\n",
            " H3_Ptot         = 12396.2\n",
            " H3_type         = 1\n",
            " H3_E            = 12397\n",
            " M_Ptot          = 98035.7\n",
            " M_E             = 98181.3\n",
            " M_m0            = 5343.69\n"
          ],
          "name": "stdout"
        }
      ]
    },
    {
      "cell_type": "markdown",
      "metadata": {
        "id": "w3sqwtNTUEJd"
      },
      "source": [
        "We have now completed the initial steps and begun to work through what we need to with the data. This is a perfect moment to take a coffee!"
      ]
    },
    {
      "cell_type": "markdown",
      "metadata": {
        "id": "6RhWWqt3a8_e"
      },
      "source": [
        "Having discovered all of the relevant information about our daughter particles, we need to combine the measurements about them into a single mother - which will be our B<sup>+</sup> or our B<sup>-</sup>\r\n",
        "\r\n",
        "Having found our momentum and energy, we can use these quantities to find our experimental mass (not the theoretical mass as we have used for the reconstruction).\r\n",
        "\r\n",
        "When we calculate this, we will get a distribution of masses. This is due to errors in the measurements made either by the detector, or in the experiment itself. We hope to have a reasonably narrow peak to work with, but, sometimes this is not possible.\r\n",
        "\r\n",
        "Additionally there will be other particles in the detector - which means our daughters might have come from two or even three different processes. Events which don't come from the same process will give a higher or lower mass than we are looking for. This is typically called the *background* while events which come from our event of interest are called the *signal*"
      ]
    },
    {
      "cell_type": "code",
      "metadata": {
        "id": "onr7-8CMbbFf",
        "colab": {
          "base_uri": "https://localhost:8080/",
          "height": 526
        },
        "outputId": "c26bbfa3-6c07-4df7-ef78-384dd063a6f7"
      },
      "source": [
        "#Now plot a histogram of the range of masses of the B meson.\r\n",
        "#Does this match what we would expect from theory?\r\n",
        "\r\n",
        "mmass = ROOT.RooRealVar(\"M_m0\", \"M Mass Distribution\", 0,10000,\"MeV/c\")\r\n",
        "# We then create a dataset for us to play with\r\n",
        "data = ROOT.RooDataSet(\"data\",\"data set\", tree, ROOT.RooArgSet(mmass), \"1==1\")\r\n",
        "\r\n",
        "\r\n",
        "\r\n",
        "# Now we create a canvas, plot our data onto the canvas and draw it:\r\n",
        "c = ROOT.TCanvas(\"c\",\"c\")\r\n",
        "frame = mmass.frame()\r\n",
        "data.plotOn(frame)\r\n",
        "frame.Draw()\r\n",
        "c.Draw()"
      ],
      "execution_count": 11,
      "outputs": [
        {
          "output_type": "stream",
          "text": [
            "[#1] INFO:Eval -- RooAbsReal::attachToTree(M_m0) TTree Float_t branch M_m0 will be converted to double precision\n"
          ],
          "name": "stdout"
        },
        {
          "output_type": "stream",
          "text": [
            "Warning in <TCanvas::Constructor>: Deleting canvas with same name: c\n"
          ],
          "name": "stderr"
        },
        {
          "output_type": "display_data",
          "data": {
            "image/png": "[encoded data removed]",
            "text/plain": [
              "<IPython.core.display.Image object>"
            ]
          },
          "metadata": {
            "tags": []
          }
        }
      ]
    },
    {
      "cell_type": "markdown",
      "metadata": {
        "id": "MWGFKFnXb0RP"
      },
      "source": [
        "We know that some of our particles are the B+ and some are the B- particle. There will also be some particles in our system that are not coming from a genuine B+/- or are a B+/- but are not constructed from Kaons.\r\n",
        "\r\n",
        "We have some tools available to help:-\r\n",
        "\r\n",
        "  *  During detection, software attributes the probability of a particle being a Kaon or a Pion (in the H1_ProbK or H1_ProbPi variable)\r\n",
        "  * The detector also knows if the particle was a Muon - since it has detectors specifically for these. So it can attribute a 0 or a 1 to this probability\r\n",
        "  * The reconstructed vertex has a some kind of quality associated with it (we call this the Vertex χ2 (this is the variable B_VertexChi2). This is the statistical measure that determines how well we found a single point to be the source of all three particles.\r\n",
        "\r\n"
      ]
    },
    {
      "cell_type": "markdown",
      "metadata": {
        "id": "fEpnSmH4b9HZ"
      },
      "source": [
        "**In** order to get a better result, we should select our data to have the properties we desire and make some rules (often called a selection) to cut away data we don't want to include for various reasons. e.g. we know we don't have any muons in our decay - so any time H1/H2/H3 are a muon they should be excluded. The other variables are not so clear - so we can plot them to make a decision."
      ]
    },
    {
      "cell_type": "code",
      "metadata": {
        "id": "k0vikJp0cAvv",
        "colab": {
          "base_uri": "https://localhost:8080/",
          "height": 562
        },
        "outputId": "4011ec51-aca4-4f29-dde0-490b629a1097"
      },
      "source": [
        "#Make plots of H1/H2/H3 _ProbK on one plot\r\n",
        "\r\n",
        "\r\n",
        "h1k = ROOT.RooRealVar(\"H1_ProbK\", \"H1 Prob Kaon\", 0,1,\"MeV/c\")\r\n",
        "h2k = ROOT.RooRealVar(\"H2_ProbK\", \"H2 Prob Kaon\", 0,1,\"MeV/c\")\r\n",
        "h3k = ROOT.RooRealVar(\"H3_ProbK\", \"H3 Prob Kaon\", 0,1,\"MeV/c\")\r\n",
        "\r\n",
        "# We then create a dataset for us to play with\r\n",
        "datah1 = ROOT.RooDataSet(\"data\",\"data set\", tree, ROOT.RooArgSet(h1k), \"1==1\")\r\n",
        "datah2 = ROOT.RooDataSet(\"data\",\"data set\", tree, ROOT.RooArgSet(h2k), \"1==1\")\r\n",
        "datah3 = ROOT.RooDataSet(\"data\",\"data set\", tree, ROOT.RooArgSet(h3k), \"1==1\")\r\n",
        "\r\n",
        "# Now we create a canvas, plot our data onto the canvas and draw it:\r\n",
        "c = ROOT.TCanvas(\"c\",\"c\")\r\n",
        "frame1 = h1k.frame()\r\n",
        "frame2 = h2k.frame()\r\n",
        "frame3 = h3k.frame()\r\n",
        "\r\n",
        "datah1.plotOn(frame1)\r\n",
        "datah2.plotOn(frame2)\r\n",
        "datah3.plotOn(frame3)\r\n",
        "frame2.Draw(\"same\")\r\n",
        "frame3.Draw(\"same\")\r\n",
        "frame1.Draw(\"same\")\r\n",
        "c.Draw()"
      ],
      "execution_count": 12,
      "outputs": [
        {
          "output_type": "stream",
          "text": [
            "[#1] INFO:Eval -- RooAbsReal::attachToTree(H1_ProbK) TTree Float_t branch H1_ProbK will be converted to double precision\n",
            "[#1] INFO:Eval -- RooAbsReal::attachToTree(H2_ProbK) TTree Float_t branch H2_ProbK will be converted to double precision\n",
            "[#1] INFO:Eval -- RooAbsReal::attachToTree(H3_ProbK) TTree Float_t branch H3_ProbK will be converted to double precision\n"
          ],
          "name": "stdout"
        },
        {
          "output_type": "stream",
          "text": [
            "Warning in <TCanvas::Constructor>: Deleting canvas with same name: c\n"
          ],
          "name": "stderr"
        },
        {
          "output_type": "display_data",
          "data": {
            "image/png": "[encoded data removed]",
            "text/plain": [
              "<IPython.core.display.Image object>"
            ]
          },
          "metadata": {
            "tags": []
          }
        }
      ]
    },
    {
      "cell_type": "code",
      "metadata": {
        "colab": {
          "base_uri": "https://localhost:8080/",
          "height": 562
        },
        "id": "IY7yVLkIGuvP",
        "outputId": "0322b7c8-43c8-4ddb-ab6a-b095b6f1ae74"
      },
      "source": [
        "#Make plots of H1/H2/H3 _ProbPi on one plot\r\n",
        "\r\n",
        "\r\n",
        "h1p = ROOT.RooRealVar(\"H1_ProbPi\", \"H1 Prob Pion\", 0,1,\"MeV/c\")\r\n",
        "h2p = ROOT.RooRealVar(\"H2_ProbPi\", \"H2 Prob Pion\", 0,1,\"MeV/c\")\r\n",
        "h3p = ROOT.RooRealVar(\"H3_ProbPi\", \"H3 Prob Pion\", 0,1,\"MeV/c\")\r\n",
        "\r\n",
        "# We then create a dataset for us to play with\r\n",
        "datah1 = ROOT.RooDataSet(\"data\",\"data set\", tree, ROOT.RooArgSet(h1p), \"1==1\")\r\n",
        "datah2 = ROOT.RooDataSet(\"data\",\"data set\", tree, ROOT.RooArgSet(h2p), \"1==1\")\r\n",
        "datah3 = ROOT.RooDataSet(\"data\",\"data set\", tree, ROOT.RooArgSet(h3p), \"1==1\")\r\n",
        "\r\n",
        "# Now we create a canvas, plot our data onto the canvas and draw it:\r\n",
        "c = ROOT.TCanvas(\"c\",\"c\")\r\n",
        "frame1 = h1p.frame()\r\n",
        "frame2 = h2p.frame()\r\n",
        "frame3 = h3p.frame()\r\n",
        "\r\n",
        "datah1.plotOn(frame1)\r\n",
        "datah2.plotOn(frame2)\r\n",
        "datah3.plotOn(frame3)\r\n",
        "frame1.Draw()\r\n",
        "frame2.Draw(\"same\")\r\n",
        "frame3.Draw(\"same\")\r\n",
        "c.Draw()"
      ],
      "execution_count": 13,
      "outputs": [
        {
          "output_type": "stream",
          "text": [
            "[#1] INFO:Eval -- RooAbsReal::attachToTree(H1_ProbPi) TTree Float_t branch H1_ProbPi will be converted to double precision\n",
            "[#1] INFO:Eval -- RooAbsReal::attachToTree(H2_ProbPi) TTree Float_t branch H2_ProbPi will be converted to double precision\n",
            "[#1] INFO:Eval -- RooAbsReal::attachToTree(H3_ProbPi) TTree Float_t branch H3_ProbPi will be converted to double precision\n"
          ],
          "name": "stdout"
        },
        {
          "output_type": "stream",
          "text": [
            "Warning in <TCanvas::Constructor>: Deleting canvas with same name: c\n"
          ],
          "name": "stderr"
        },
        {
          "output_type": "display_data",
          "data": {
            "image/png": "[encoded data removed]",
            "text/plain": [
              "<IPython.core.display.Image object>"
            ]
          },
          "metadata": {
            "tags": []
          }
        }
      ]
    },
    {
      "cell_type": "code",
      "metadata": {
        "colab": {
          "base_uri": "https://localhost:8080/",
          "height": 526
        },
        "id": "HH1iOBJhHZjt",
        "outputId": "6fe4fe70-b326-4e60-b375-8d770dbbd440"
      },
      "source": [
        "#For all our particles, make a plot of the B_VertexChi2\r\n",
        "\r\n",
        "mchi = ROOT.RooRealVar(\"B_VertexChi2\", \"B Vertex Chi^2\", 0,12.5,\"MeV/c\")\r\n",
        "# We then create a dataset for us to play with\r\n",
        "data = ROOT.RooDataSet(\"data\",\"data set\", tree, ROOT.RooArgSet(mchi), \"1==1\")\r\n",
        "\r\n",
        "\r\n",
        "\r\n",
        "# Now we create a canvas, plot our data onto the canvas and draw it:\r\n",
        "c = ROOT.TCanvas(\"c\",\"c\")\r\n",
        "frame = mchi.frame()\r\n",
        "data.plotOn(frame)\r\n",
        "frame.Draw()\r\n",
        "c.Draw()"
      ],
      "execution_count": 14,
      "outputs": [
        {
          "output_type": "stream",
          "text": [
            "[#1] INFO:Eval -- RooAbsReal::attachToTree(B_VertexChi2) TTree Float_t branch B_VertexChi2 will be converted to double precision\n"
          ],
          "name": "stdout"
        },
        {
          "output_type": "stream",
          "text": [
            "Warning in <TCanvas::Constructor>: Deleting canvas with same name: c\n"
          ],
          "name": "stderr"
        },
        {
          "output_type": "display_data",
          "data": {
            "image/png": "[encoded data removed]",
            "text/plain": [
              "<IPython.core.display.Image object>"
            ]
          },
          "metadata": {
            "tags": []
          }
        }
      ]
    },
    {
      "cell_type": "markdown",
      "metadata": {
        "id": "DWmxBkZ0cDx1"
      },
      "source": [
        "Using these plots, we can now make a preselection string. This is a text string that looks like "
      ]
    },
    {
      "cell_type": "code",
      "metadata": {
        "id": "U1IGKyZXcGJP"
      },
      "source": [
        "#This example is for each daughter particle to have a Probability of being a Pion being more than 90% and H1 to not be a muon\r\n",
        "#This is not a good choice of selection - you should make your own :)\r\n",
        "selection=(\"H1_ProbPi>0.65&H2_ProbPi>0.65&H3_ProbPi>0.65&!H1_isMuon&!H2_isMuon&!H3_isMuon\")"
      ],
      "execution_count": 66,
      "outputs": []
    },
    {
      "cell_type": "code",
      "metadata": {
        "id": "MxD7JMeicMu0"
      },
      "source": [
        "#To apply the selection - we can use the copytree command:\r\n",
        "#selection=(\"H1_ProbK>0.9\")\r\n",
        "CutTree=tree.CopyTree(selection)\r\n",
        "\r\n",
        "#So now we take our data in tree and apply selection to it (so only events which comply with those rules are kept) and put the new data in CutTree"
      ],
      "execution_count": 67,
      "outputs": []
    },
    {
      "cell_type": "code",
      "metadata": {
        "id": "hmmsoUwEcOir",
        "colab": {
          "base_uri": "https://localhost:8080/",
          "height": 507
        },
        "outputId": "c3a77ead-ea0b-45b1-9b79-90d99ee81bfa"
      },
      "source": [
        "#Now as a good check, we should see the effect of applying our cuts.\r\n",
        "#On one histogram, plot the B meson mass, from both the tree (pre-cuts) and the CutTree (post-cuts)\r\n",
        "#What do you notice about your histogram now?\r\n",
        "\r\n",
        "#mmass = ROOT.RooRealVar(\"M_m0\", \"Meson mass Tree - CutTree\", 2000,6500,\"MeV/c\")\r\n",
        "# We then create a dataset for us to play with\r\n",
        "#data = ROOT.RooDataSet(\"data\",\"data set\", CutTree, ROOT.RooArgSet(mchi), \"1==1\")\r\n",
        "#data2 = ROOT.RooDataSet(\"data\",\"data set\", tree, ROOT.RooArgSet(mchi), \"1==1\")\r\n",
        "\r\n",
        "\r\n",
        "# Now we create a canvas, plot our data onto the canvas and draw it:\r\n",
        "c = ROOT.TCanvas(\"c\",\"c\")\r\n",
        "#frame = mmass.frame()\r\n",
        "#frame2 = mmass.frame()\r\n",
        "#data.plotOn(frame)\r\n",
        "#data2.plotOn(frame2)\r\n",
        "#frame.Draw()\r\n",
        "#c.Draw()\r\n",
        "\r\n",
        "tree.Draw(\"M_ m0>>Meson mass Tree(700, 2000,6500)\")\r\n",
        "CutTree.Draw(\"M_ m0>>Meson mass CutTree(700, 2000,6500)\")\r\n",
        "\r\n",
        "histogram1 = ROOT.gDirectory.Get(\"Meson mass Tree\")\r\n",
        "histogram1.SetLineColor(2)\r\n",
        "\r\n",
        "histogram2 = ROOT.gDirectory.Get(\"Meson mass CutTree\")\r\n",
        "histogram2.SetLineColor(4)\r\n",
        "\r\n",
        "histogram1.Draw()\r\n",
        "histogram2.Draw(\"same\")\r\n",
        "\r\n",
        "c.Draw()"
      ],
      "execution_count": 68,
      "outputs": [
        {
          "output_type": "stream",
          "text": [
            "Warning in <TCanvas::Constructor>: Deleting canvas with same name: c\n"
          ],
          "name": "stderr"
        },
        {
          "output_type": "display_data",
          "data": {
            "image/png": "[encoded data removed]",
            "text/plain": [
              "<IPython.core.display.Image object>"
            ]
          },
          "metadata": {
            "tags": []
          }
        }
      ]
    },
    {
      "cell_type": "markdown",
      "metadata": {
        "id": "N1tResqvcMgQ"
      },
      "source": [
        "#How do we count the number of events?\r\n",
        "\r\n",
        "We now have a histogram of events that we have reconstructed as a B meson. But some of these events are caused by a co-incidence of events which would still occur if there were no B mesons actually produced. We call this the background. Background and signal are indistinguishable now as the detector cannot tell the difference and our cuts were unable to remove the events for physics reasons. We can do some statistical analysis, if we know the approximate shapes of our signal and our background. Just like a least-squares fitting we can run a fit routine to minimise the error between the fitted curve and our data. As an example, if we know our data has an exponential background and a gaussian signal:\r\n",
        "\r\n",
        "![Gaussian+Exp Background](https://twiki.cern.ch/twiki/pub/RooStats/RooStatsTutorialsJune2013/GausExpModelFit.png)\r\n",
        "\r\n",
        "Here the red line represents our signal, the blue dotted line is our background and the solid blue line is our combined curve. The graph also shows the number of signal events and the number of background events. The signal now is a tiny fraction of the total data shown in the plot.\r\n",
        "\r\n",
        "In order to do this, we need to build a fit model, around which the software can try to fit our data.\r\n",
        "\r\n",
        "We use RooFit for this, which includes:\r\n",
        "* Gaussian\r\n",
        "* Exponential\r\n",
        "* Chebychev\r\n",
        "* Crystal Ball\r\n",
        "* Breit-Wigner\r\n",
        "\r\n",
        "As well as several other choices.\r\n",
        "\r\n",
        "Typically exponential and Chebychev functions are used for background and Gaussian, Crystal Ball and Breit-Wigner are used for signal. We can also combine them (e.g. 1 crystal ball, 1 gaussian, 1 exponential) in various ways."
      ]
    },
    {
      "cell_type": "code",
      "metadata": {
        "id": "R_7q_HY1qhiS"
      },
      "source": [
        "#define physical measurment that we want to fit using RooRealVar\r\n",
        "# var = ROOT.RooRealVar =(\"Variable from Python\", \"Nickname\",Min, Max, Units)\r\n",
        "mass = ROOT.RooRealVar(\"M_m0\",\"Mass\",5100,5500,\"MeV/C^{2}\")\r\n",
        "\r\n",
        "\r\n",
        "\r\n",
        "#passing the rest of the variables into the model\r\n",
        "#For the RooRealVar the last three parameters are given, \"starting value\" and min/max values\r\n",
        "gaussMean = ROOT.RooRealVar(\"Mean\",\"Mean\",5300,5000,5500)\r\n",
        "gaussWidth = ROOT.RooRealVar(\"Width\",\"Width\",20,0,50)\r\n",
        "\r\n",
        "#Now we have enough to make our Model for the signal:\r\n",
        "\r\n",
        "Gauss=ROOT.RooGaussian(\"Gaussian Signal\",\"Gauss\",mass,gaussMean,gaussWidth)\r\n",
        "Gauss_Norm= ROOT.RooRealVar(\"Gauss_Norm\",\"Signal Yield\", tree.GetEntries()/30, 0, tree.GetEntries() * 3)\r\n",
        "#We also need a background, so let's use a (simple) exponential:\r\n",
        "\r\n",
        "exponent=ROOT.RooRealVar(\"exponent\", \"C\", -0.02, -2, +2)\r\n",
        "exp_Norm= ROOT.RooRealVar(\"exp_Norm\",\"Background Yield\", tree.GetEntries()/30, 0, tree.GetEntries() * 2)\r\n",
        "\r\n",
        "#Define the  model for the background:\r\n",
        "\r\n",
        "Bkgnd=ROOT.RooExponential(\"Exponential Background\",\"Bkgnd\",mass,exponent)\r\n",
        "\r\n",
        "#Now we need to combine these two functions into a single PDF (probability density function)\r\n",
        "#and we need to add the normalisation factors at the end as scaling factors\r\n",
        "\r\n",
        "model=ROOT.RooAddPdf(\"Full Model\",\"model\",ROOT.RooArgList(Gauss,Bkgnd),ROOT.RooArgList(Gauss_Norm, exp_Norm) )"
      ],
      "execution_count": 71,
      "outputs": []
    },
    {
      "cell_type": "code",
      "metadata": {
        "id": "PL-qVvs-dw86",
        "colab": {
          "base_uri": "https://localhost:8080/"
        },
        "outputId": "0c728e9f-2455-432c-b289-cf9fc7915f83"
      },
      "source": [
        "#Put our data set into a RooDataSet structure\r\n",
        "\r\n",
        "data_to_fit=ROOT.RooDataSet(\"Data Set\",\"data_to_fit\", CutTree, ROOT.RooArgSet(mass))\r\n",
        "\r\n",
        "#Then we can do the fitting:\r\n",
        "\r\n",
        "model.fitTo(data_to_fit)\r\n",
        "\r\n",
        "#if everything went well, you will see the outputs of RooFit below"
      ],
      "execution_count": 72,
      "outputs": [
        {
          "output_type": "execute_result",
          "data": {
            "text/plain": [
              "<ROOT.RooFitResult object at 0x(nil)>"
            ]
          },
          "metadata": {
            "tags": []
          },
          "execution_count": 72
        },
        {
          "output_type": "stream",
          "text": [
            "[#1] INFO:Eval -- RooAbsReal::attachToTree(M_m0) TTree Float_t branch M_m0 will be converted to double precision\n",
            "[#1] INFO:Eval -- RooTreeDataStore::loadValues(Data Set) Ignored 137907 out of range events\n",
            "[#1] INFO:Minization -- p.d.f. provides expected number of events, including extended term in likelihood.\n",
            "[#1] INFO:Minization -- RooMinimizer::optimizeConst: activating const optimization\n",
            "[#1] INFO:Minization --  The following expressions will be evaluated in cache-and-track mode: (Gaussian Signal,Exponential Background)\n",
            " **********\n",
            " **   73 **SET PRINT           1\n",
            " **********\n",
            " **********\n",
            " **   74 **SET NOGRAD\n",
            " **********\n",
            " PARAMETER DEFINITIONS:\n",
            "    NO.   NAME         VALUE      STEP SIZE      LIMITS\n",
            "     1 Gauss_Norm   1.14006e+05  5.70030e+04    0.00000e+00  1.02606e+07\n",
            " MINUIT WARNING IN PARAM DEF\n",
            " ============== LIMITS ON PARAM1 TOO FAR APART.\n",
            " PARAMETER DEFINITIONS:\n",
            "    NO.   NAME         VALUE      STEP SIZE      LIMITS\n",
            "     2 Mean         5.30000e+03  5.00000e+01    5.00000e+03  5.50000e+03\n",
            "     3 Width        2.00000e+01  5.00000e+00    0.00000e+00  5.00000e+01\n",
            "     4 exp_Norm     1.14006e+05  5.70030e+04    0.00000e+00  6.84039e+06\n",
            "     5 exponent    -2.00000e-02  4.00000e-01   -2.00000e+00  2.00000e+00\n",
            " **********\n",
            " **   75 **SET ERR         0.5\n",
            " **********\n",
            " **********\n",
            " **   76 **SET PRINT           1\n",
            " **********\n",
            " **********\n",
            " **   77 **SET STR           1\n",
            " **********\n",
            " NOW USING STRATEGY  1: TRY TO BALANCE SPEED AGAINST RELIABILITY\n",
            " **********\n",
            " **   78 **MIGRAD        2500           1\n",
            " **********\n",
            " FIRST CALL TO USER FUNCTION AT NEW START POINT, WITH IFLAG=4.\n",
            " START MIGRAD MINIMIZATION.  STRATEGY  1.  CONVERGENCE WHEN EDM .LT. 1.00e-03\n",
            " FCN=-24672.5 FROM MIGRAD    STATUS=INITIATE       22 CALLS          23 TOTAL\n",
            "                     EDM= unknown      STRATEGY= 1      NO ERROR MATRIX       \n",
            "  EXT PARAMETER               CURRENT GUESS       STEP         FIRST   \n",
            "  NO.   NAME      VALUE            ERROR          SIZE      DERIVATIVE \n",
            "   1  Gauss_Norm   1.14006e+05   5.70030e+04   5.48559e-02   9.25953e+05\n",
            "   2  Mean         5.30000e+03   5.00000e+01   2.05758e-01  -1.77913e+04\n",
            "   3  Width        2.00000e+01   5.00000e+00   2.05758e-01  -3.33394e+04\n",
            "   4  exp_Norm     1.14006e+05   5.70030e+04   6.73657e-02   6.11269e+05\n",
            "   5  exponent    -2.00000e-02   4.00000e-01   2.01369e-01  -8.67968e+06\n",
            "                               ERR DEF= 0.5\n",
            " MIGRAD MINIMIZATION HAS CONVERGED.\n",
            " MIGRAD WILL VERIFY CONVERGENCE AND ERROR MATRIX.\n",
            " COVARIANCE MATRIX CALCULATED SUCCESSFULLY\n",
            " FCN=-193836 FROM MIGRAD    STATUS=CONVERGED     431 CALLS         432 TOTAL\n",
            "                     EDM=2.12213e-05    STRATEGY= 1      ERROR MATRIX ACCURATE \n",
            "  EXT PARAMETER                                   STEP         FIRST   \n",
            "  NO.   NAME      VALUE            ERROR          SIZE      DERIVATIVE \n",
            "   1  Gauss_Norm   3.73939e+03   1.45765e+02   1.73109e-04   1.25454e+00\n",
            "   2  Mean         5.28301e+03   7.89144e-01   9.58224e-04  -1.02032e+00\n",
            "   3  Width        1.97341e+01   7.99645e-01   8.16130e-03   4.32677e-02\n",
            "   4  exp_Norm     4.65416e+04   2.52976e+02   1.20052e-04  -8.80618e-03\n",
            "   5  exponent    -1.18967e-03   4.06116e-05   6.14309e-06   1.39074e+02\n",
            "                               ERR DEF= 0.5\n",
            " EXTERNAL ERROR MATRIX.    NDIM=  25    NPAR=  5    ERR DEF=0.5\n",
            "  2.125e+04 -8.795e+00 -6.595e+01 -1.748e+04  8.965e-05 \n",
            " -8.795e+00  6.227e-01  6.359e-02  8.771e+00 -3.178e-06 \n",
            " -6.595e+01  6.359e-02  6.397e-01  6.576e+01 -5.266e-07 \n",
            " -1.748e+04  8.771e+00  6.576e+01  6.400e+04 -8.945e-05 \n",
            "  8.965e-05 -3.178e-06 -5.266e-07 -8.945e-05  1.649e-09 \n",
            " PARAMETER  CORRELATION COEFFICIENTS  \n",
            "       NO.  GLOBAL      1      2      3      4      5\n",
            "        1  0.64375   1.000 -0.076 -0.566 -0.474  0.015\n",
            "        2  0.14213  -0.076  1.000  0.101  0.044 -0.099\n",
            "        3  0.57225  -0.566  0.101  1.000  0.325 -0.016\n",
            "        4  0.47901  -0.474  0.044  0.325  1.000 -0.009\n",
            "        5  0.09949   0.015 -0.099 -0.016 -0.009  1.000\n",
            " **********\n",
            " **   79 **SET ERR         0.5\n",
            " **********\n",
            " **********\n",
            " **   80 **SET PRINT           1\n",
            " **********\n",
            " **********\n",
            " **   81 **HESSE        2500\n",
            " **********\n",
            " COVARIANCE MATRIX CALCULATED SUCCESSFULLY\n",
            " FCN=-193836 FROM HESSE     STATUS=OK             31 CALLS         463 TOTAL\n",
            "                     EDM=2.11954e-05    STRATEGY= 1      ERROR MATRIX ACCURATE \n",
            "  EXT PARAMETER                                INTERNAL      INTERNAL  \n",
            "  NO.   NAME      VALUE            ERROR       STEP SIZE       VALUE   \n",
            "   1  Gauss_Norm   3.73939e+03   1.44497e+02   6.92436e-06  -1.53261e+00\n",
            "   2  Mean         5.28301e+03   7.89311e-01   1.91645e-04   1.32439e-01\n",
            "   3  Width        1.97341e+01   7.92902e-01   3.26452e-04   3.35382e+00\n",
            "   4  exp_Norm     4.65416e+04   2.52348e+02   4.80207e-06  -1.40564e+00\n",
            "   5  exponent    -1.18967e-03   4.06114e-05   1.22862e-06  -5.94835e-04\n",
            "                               ERR DEF= 0.5\n",
            " EXTERNAL ERROR MATRIX.    NDIM=  25    NPAR=  5    ERR DEF=0.5\n",
            "  2.088e+04 -8.483e+00 -6.359e+01 -1.714e+04  8.523e-05 \n",
            " -8.483e+00  6.230e-01  6.485e-02  8.482e+00 -3.179e-06 \n",
            " -6.359e+01  6.485e-02  6.289e-01  6.358e+01 -5.203e-07 \n",
            " -1.714e+04  8.482e+00  6.358e+01  6.368e+04 -8.522e-05 \n",
            "  8.523e-05 -3.179e-06 -5.203e-07 -8.522e-05  1.649e-09 \n",
            " PARAMETER  CORRELATION COEFFICIENTS  \n",
            "       NO.  GLOBAL      1      2      3      4      5\n",
            "        1  0.63568   1.000 -0.074 -0.555 -0.470  0.015\n",
            "        2  0.14364  -0.074  1.000  0.104  0.043 -0.099\n",
            "        3  0.56208  -0.555  0.104  1.000  0.318 -0.016\n",
            "        4  0.47498  -0.470  0.043  0.318  1.000 -0.008\n",
            "        5  0.09945   0.015 -0.099 -0.016 -0.008  1.000\n",
            "[#1] INFO:Minization -- RooMinimizer::optimizeConst: deactivating const optimization\n"
          ],
          "name": "stdout"
        }
      ]
    },
    {
      "cell_type": "code",
      "metadata": {
        "id": "bUhgxlRGd4XO",
        "colab": {
          "base_uri": "https://localhost:8080/",
          "height": 581
        },
        "outputId": "06cd15ab-e008-4f3e-8965-dbccae59844a"
      },
      "source": [
        "#Now to plot it all\r\n",
        "c1=ROOT.TCanvas(\"c1\",\"c1\")\r\n",
        "frame=mass.frame()\r\n",
        "data_to_fit.plotOn(frame)\r\n",
        "model.plotOn(frame, ROOT.RooFit.Components(\"Gaussian Signal\"),ROOT.RooFit.LineColor(8),ROOT.RooFit.LineStyle(2))\r\n",
        "model.plotOn(frame, ROOT.RooFit.Components(\"Exponential Background\"),ROOT.RooFit.LineColor(46),ROOT.RooFit.LineStyle(2))\r\n",
        "model.plotOn(frame)\r\n",
        "frame.Draw()\r\n",
        "c1.Update()\r\n",
        "c1.Draw()"
      ],
      "execution_count": 73,
      "outputs": [
        {
          "output_type": "stream",
          "text": [
            "[#1] INFO:Plotting -- RooAbsPdf::plotOn(Full Model) directly selected PDF components: (Gaussian Signal)\n",
            "[#1] INFO:Plotting -- RooAbsPdf::plotOn(Full Model) indirectly selected PDF components: ()\n",
            "[#1] INFO:Plotting -- RooAbsPdf::plotOn(Full Model) directly selected PDF components: (Exponential Background)\n",
            "[#1] INFO:Plotting -- RooAbsPdf::plotOn(Full Model) indirectly selected PDF components: ()\n"
          ],
          "name": "stdout"
        },
        {
          "output_type": "stream",
          "text": [
            "Warning in <TCanvas::Constructor>: Deleting canvas with same name: c1\n"
          ],
          "name": "stderr"
        },
        {
          "output_type": "display_data",
          "data": {
            "image/png": "[encoded data removed]",
            "text/plain": [
              "<IPython.core.display.Image object>"
            ]
          },
          "metadata": {
            "tags": []
          }
        }
      ]
    },
    {
      "cell_type": "markdown",
      "metadata": {
        "id": "60b4bs1od4M_"
      },
      "source": [
        "Using this structure, you can in theory build whatever models you like!\r\n",
        "\r\n",
        "Some recommendations (but not necessary to do all):-\r\n",
        "\r\n",
        "\r\n",
        "\r\n",
        "*   Gauss+Exponential (as above)\r\n",
        "*   Crystal Ball + Exponential\r\n",
        "*   Gauss+Crystal Ball+Exponential (now you need to weigh the two signal peaks and then the total signal against total background)\r\n",
        "*   Gauss+Chebychev\r\n",
        "*   Two Crystal Balls + Exponential"
      ]
    },
    {
      "cell_type": "markdown",
      "metadata": {
        "id": "vHivSaH1dwy7"
      },
      "source": [
        "So how good was the fit, and how many events do you have?\r\n",
        "\r\n",
        "We can use the .getValV() function on our signal and background *normalisation* components, e.g. Gauss_Norm=Gauss.getValV()\r\n",
        "\r\n",
        "To find the error (on this number) we can use .getError()\r\n",
        "\r\n",
        "Neither of these measures would tell us if this was a good fit or not. Normally we use a χ2 test to do so - this is built into the image we made (so we can do frame.chiSquare() to get this data)\r\n",
        "\r\n",
        "For each model you made, print the signal and background yields (with errors) and report the χ2"
      ]
    },
    {
      "cell_type": "code",
      "metadata": {
        "colab": {
          "base_uri": "https://localhost:8080/"
        },
        "id": "8_BuRtlrQKpf",
        "outputId": "9352d980-a09a-462f-ed5c-f6dd0d1b7667"
      },
      "source": [
        "print(Gauss_Norm.getValV())\r\n",
        "print(Gauss_Norm.getError())\r\n",
        "print(frame.chiSquare())"
      ],
      "execution_count": 74,
      "outputs": [
        {
          "output_type": "stream",
          "text": [
            "3739.39009313\n",
            "144.497073878\n",
            "1.96162279868\n"
          ],
          "name": "stdout"
        }
      ]
    },
    {
      "cell_type": "markdown",
      "metadata": {
        "id": "ob2HARgWoTGe"
      },
      "source": [
        "#Counting\r\n",
        "\r\n",
        "So we have now loaded our data; we have reconstructed information about the mother B meson and we have cut away any data which looks like it might not be what we are looking for. We have then plotted histograms of the mass of the B meson and used this to fit a model, a function to describe the events there. We now have to identify which of our events belong to the B<sup>+</sup> and how many of them belong to B<sup>-</sup>.\r\n",
        "\r\n",
        "To do this, should split out data into two groups (and throw away data which doesn't comply with either decay)\r\n",
        "\r\n",
        "We will be looking for the events which are\r\n",
        "\r\n",
        "\r\n",
        "B<sup>+</sup>->K<sup>+</sup> + K<sup>+</sup>  + K<sup>-</sup>\r\n",
        "\r\n",
        "or\r\n",
        "\r\n",
        "B<sup>-</sup>->K<sup>-</sup> + K<sup>-</sup>  + K<sup>+</sup>\r\n",
        "\r\n",
        "We can look for the number of positive and negative charges in H1, H2 and H3 (using the variable ```H1_Charge``` etc.). If we have 0 or 3 positive charges, we should throw the event away and if we have 1 it should be assigned be a B<sup>-</sup>, with 2 it should be a B<sup>+</sup>"
      ]
    },
    {
      "cell_type": "code",
      "metadata": {
        "colab": {
          "base_uri": "https://localhost:8080/",
          "height": 507
        },
        "id": "5fLMUGUGSfMX",
        "outputId": "5b17e874-3259-4887-b77b-2096fb0a8736"
      },
      "source": [
        "Pselection = ((\"H1_Charge + H2_Charge + H3_Charge == 1\"))\r\n",
        "Mselection = ((\"H1_Charge + H2_Charge + H3_Charge == -1\"))\r\n",
        "\r\n",
        "c = ROOT.TCanvas(\"c\",\"c\")\r\n",
        "CutTreePlus = CutTree.CopyTree(Pselection)\r\n",
        "CutTreeMinus = CutTree.CopyTree(Mselection)\r\n",
        "\r\n",
        "CutTreePlus.Draw(\"M_m0\" + \">>Plus Meson Mass(250,5000,6500)\")\r\n",
        "histogramPlus = ROOT.gDirectory.Get(\"Plus Meson Mass\")\r\n",
        "histogramPlus.SetLineColor(3)\r\n",
        "\r\n",
        "\r\n",
        "CutTreeMinus.Draw(\"M_m0\" + \">>Minus Meson Mass(250,5000,6500)\")\r\n",
        "histogramMinus = ROOT.gDirectory.Get(\"Minus Meson Mass\")\r\n",
        "histogramMinus.SetLineColor(2)\r\n",
        "\r\n",
        "histogramPlus.Draw()\r\n",
        "histogramMinus.Draw(\"same\")\r\n",
        "c.Draw()"
      ],
      "execution_count": 75,
      "outputs": [
        {
          "output_type": "stream",
          "text": [
            "Warning in <TCanvas::Constructor>: Deleting canvas with same name: c\n"
          ],
          "name": "stderr"
        },
        {
          "output_type": "display_data",
          "data": {
            "image/png": "[encoded data removed]",
            "text/plain": [
              "<IPython.core.display.Image object>"
            ]
          },
          "metadata": {
            "tags": []
          }
        }
      ]
    },
    {
      "cell_type": "code",
      "metadata": {
        "id": "WSZltTOaYdzI"
      },
      "source": [
        "\r\n",
        "Gauss_NormPlus= ROOT.RooRealVar(\"Gauss_Norm\",\"Signal Yield\", CutTreePlus.GetEntries()/30, 0, CutTreePlus.GetEntries() * 3)\r\n",
        "Gauss_NormMinus= ROOT.RooRealVar(\"Gauss_Norm\",\"Signal Yield\", CutTreeMinus.GetEntries()/30, 0, CutTreeMinus.GetEntries() * 3)\r\n",
        "#We also need a background, so let's use a (simple) exponential:\r\n",
        "\r\n",
        "\r\n",
        "exp_NormPlus= ROOT.RooRealVar(\"exp_Norm\",\"Background Yield\", CutTreePlus.GetEntries()/30, 0, CutTreePlus.GetEntries() * 2)\r\n",
        "exp_NormMinus= ROOT.RooRealVar(\"exp_Norm\",\"Background Yield\", CutTreeMinus.GetEntries()/30, 0, CutTreeMinus.GetEntries() * 2)\r\n",
        "\r\n",
        "\r\n",
        "\r\n",
        "modelPlus=ROOT.RooAddPdf(\"Full Model\",\"model\",ROOT.RooArgList(Gauss,Bkgnd),ROOT.RooArgList(Gauss_NormPlus, exp_NormPlus) )\r\n",
        "modelMinus=ROOT.RooAddPdf(\"Full Model\",\"model\",ROOT.RooArgList(Gauss,Bkgnd),ROOT.RooArgList(Gauss_NormMinus, exp_NormMinus) )"
      ],
      "execution_count": 76,
      "outputs": []
    },
    {
      "cell_type": "code",
      "metadata": {
        "colab": {
          "base_uri": "https://localhost:8080/"
        },
        "id": "eVSf8kBoZf3D",
        "outputId": "f1780b51-24d5-4a96-d969-38a8c284de18"
      },
      "source": [
        "data_to_fitPlus=ROOT.RooDataSet(\"Data Set\",\"data_to_fit\", CutTreePlus, ROOT.RooArgSet(mass))\r\n",
        "data_to_fitMinus=ROOT.RooDataSet(\"Data Set\",\"data_to_fit\", CutTreeMinus, ROOT.RooArgSet(mass))\r\n",
        "\r\n",
        "#Then we can do the fitting:\r\n",
        "\r\n",
        "modelPlus.fitTo(data_to_fitPlus)\r\n",
        "modelMinus.fitTo(data_to_fitMinus)\r\n",
        "\r\n",
        "#if everything went well, you will see the outputs of RooFit below"
      ],
      "execution_count": 77,
      "outputs": [
        {
          "output_type": "execute_result",
          "data": {
            "text/plain": [
              "<ROOT.RooFitResult object at 0x(nil)>"
            ]
          },
          "metadata": {
            "tags": []
          },
          "execution_count": 77
        },
        {
          "output_type": "stream",
          "text": [
            "[#1] INFO:Eval -- RooAbsReal::attachToTree(M_m0) TTree Float_t branch M_m0 will be converted to double precision\n",
            "[#1] INFO:Eval -- RooTreeDataStore::loadValues(Data Set) Ignored 69389 out of range events\n",
            "[#1] INFO:Eval -- RooAbsReal::attachToTree(M_m0) TTree Float_t branch M_m0 will be converted to double precision\n",
            "[#1] INFO:Eval -- RooTreeDataStore::loadValues(Data Set) Ignored 68518 out of range events\n",
            "[#1] INFO:Minization -- p.d.f. provides expected number of events, including extended term in likelihood.\n",
            "[#1] INFO:Minization -- RooMinimizer::optimizeConst: activating const optimization\n",
            "[#1] INFO:Minization --  The following expressions will be evaluated in cache-and-track mode: (Gaussian Signal,Exponential Background)\n",
            " **********\n",
            " **   82 **SET PRINT           1\n",
            " **********\n",
            " **********\n",
            " **   83 **SET NOGRAD\n",
            " **********\n",
            " PARAMETER DEFINITIONS:\n",
            "    NO.   NAME         VALUE      STEP SIZE      LIMITS\n",
            "     1 Gauss_Norm   3.15100e+03  1.57550e+03    0.00000e+00  2.83614e+05\n",
            "     2 Mean         5.28301e+03  7.89311e-01    5.00000e+03  5.50000e+03\n",
            "     3 Width        1.97341e+01  7.92902e-01    0.00000e+00  5.00000e+01\n",
            "     4 exp_Norm     3.15100e+03  1.57550e+03    0.00000e+00  1.89076e+05\n",
            "     5 exponent    -1.18967e-03  4.06114e-05   -2.00000e+00  2.00000e+00\n",
            " **********\n",
            " **   84 **SET ERR         0.5\n",
            " **********\n",
            " **********\n",
            " **   85 **SET PRINT           1\n",
            " **********\n",
            " **********\n",
            " **   86 **SET STR           1\n",
            " **********\n",
            " NOW USING STRATEGY  1: TRY TO BALANCE SPEED AGAINST RELIABILITY\n",
            " **********\n",
            " **   87 **MIGRAD        2500           1\n",
            " **********\n",
            " FIRST CALL TO USER FUNCTION AT NEW START POINT, WITH IFLAG=4.\n",
            " START MIGRAD MINIMIZATION.  STRATEGY  1.  CONVERGENCE WHEN EDM .LT. 1.00e-03\n",
            " FCN=-57532.3 FROM MIGRAD    STATUS=INITIATE       20 CALLS          21 TOTAL\n",
            "                     EDM= unknown      STRATEGY= 1      NO ERROR MATRIX       \n",
            "  EXT PARAMETER               CURRENT GUESS       STEP         FIRST   \n",
            "  NO.   NAME      VALUE            ERROR          SIZE      DERIVATIVE \n",
            "   1  Gauss_Norm   3.15100e+03   1.57550e+03   5.48536e-02  -2.47080e+04\n",
            "   2  Mean         5.28301e+03   7.89311e-01   3.18514e-03   1.82503e+02\n",
            "   3  Width        1.97341e+01   7.92902e-01   3.24504e-02  -4.83030e+03\n",
            "   4  exp_Norm     3.15100e+03   1.57550e+03   6.73630e-02  -1.24656e+05\n",
            "   5  exponent    -1.18967e-03   4.06114e-05   2.03057e-05  -3.17681e+04\n",
            "                               ERR DEF= 0.5\n",
            " MINUIT WARNING IN MIGRAD  \n",
            " ============== Negative diagonal element 3 in Error Matrix\n",
            " MINUIT WARNING IN MIGRAD  \n",
            " ============== 1.03149 added to diagonal of error matrix\n",
            "[#0] WARNING:Minization -- RooMinimizerFcn: Minimized function has error status.\n",
            "Returning maximum FCN so far (-56104) to force MIGRAD to back out of this region. Error log follows\n",
            "Parameter values: Gauss_Norm=14214.9, Mean=5023.96, Width=15.4532, exp_Norm=188055, exponent=-1.92937\n",
            "RooExponential::Exponential Background[ x=M_m0 c=exponent ]\n",
            "     p.d.f normalization integral is zero or negative @ x=M_m0=5155.89, c=exponent=-1.92937 +/- 4.06114e-05\n",
            "     p.d.f normalization integral is zero or negative @ x=M_m0=5157.35, c=exponent=-1.92937 +/- 4.06114e-05\n",
            "     p.d.f normalization integral is zero or negative @ x=M_m0=5291.7, c=exponent=-1.92937 +/- 4.06114e-05\n",
            "     p.d.f normalization integral is zero or negative @ x=M_m0=5383, c=exponent=-1.92937 +/- 4.06114e-05\n",
            "     p.d.f normalization integral is zero or negative @ x=M_m0=5260.82, c=exponent=-1.92937 +/- 4.06114e-05\n",
            "     p.d.f normalization integral is zero or negative @ x=M_m0=5279.06, c=exponent=-1.92937 +/- 4.06114e-05\n",
            "     p.d.f normalization integral is zero or negative @ x=M_m0=5277.05, c=exponent=-1.92937 +/- 4.06114e-05\n",
            "     p.d.f normalization integral is zero or negative @ x=M_m0=5332.18, c=exponent=-1.92937 +/- 4.06114e-05\n",
            "     p.d.f normalization integral is zero or negative @ x=M_m0=5193.81, c=exponent=-1.92937 +/- 4.06114e-05\n",
            "     p.d.f normalization integral is zero or negative @ x=M_m0=5155.26, c=exponent=-1.92937 +/- 4.06114e-05\n",
            "     p.d.f normalization integral is zero or negative @ x=M_m0=5178.38, c=exponent=-1.92937 +/- 4.06114e-05\n",
            "     p.d.f normalization integral is zero or negative @ x=M_m0=5361.77, c=exponent=-1.92937 +/- 4.06114e-05\n",
            "    ... (remaining 2038 messages suppressed)\n",
            "\n",
            "[#0] WARNING:Minization -- RooMinimizerFcn: Minimized function has error status.\n",
            "Returning maximum FCN so far (-56104) to force MIGRAD to back out of this region. Error log follows\n",
            "Parameter values: Gauss_Norm=283548, Mean=5430.1, Width=32.0343, exp_Norm=124976, exponent=-1.42068\n",
            "RooExponential::Exponential Background[ x=M_m0 c=exponent ]\n",
            "     p.d.f normalization integral is zero or negative @ x=M_m0=5155.89, c=exponent=-1.42068 +/- 4.06114e-05\n",
            "     p.d.f normalization integral is zero or negative @ x=M_m0=5157.35, c=exponent=-1.42068 +/- 4.06114e-05\n",
            "     p.d.f normalization integral is zero or negative @ x=M_m0=5291.7, c=exponent=-1.42068 +/- 4.06114e-05\n",
            "     p.d.f normalization integral is zero or negative @ x=M_m0=5383, c=exponent=-1.42068 +/- 4.06114e-05\n",
            "     p.d.f normalization integral is zero or negative @ x=M_m0=5260.82, c=exponent=-1.42068 +/- 4.06114e-05\n",
            "     p.d.f normalization integral is zero or negative @ x=M_m0=5279.06, c=exponent=-1.42068 +/- 4.06114e-05\n",
            "     p.d.f normalization integral is zero or negative @ x=M_m0=5277.05, c=exponent=-1.42068 +/- 4.06114e-05\n",
            "     p.d.f normalization integral is zero or negative @ x=M_m0=5332.18, c=exponent=-1.42068 +/- 4.06114e-05\n",
            "     p.d.f normalization integral is zero or negative @ x=M_m0=5193.81, c=exponent=-1.42068 +/- 4.06114e-05\n",
            "     p.d.f normalization integral is zero or negative @ x=M_m0=5155.26, c=exponent=-1.42068 +/- 4.06114e-05\n",
            "     p.d.f normalization integral is zero or negative @ x=M_m0=5178.38, c=exponent=-1.42068 +/- 4.06114e-05\n",
            "     p.d.f normalization integral is zero or negative @ x=M_m0=5361.77, c=exponent=-1.42068 +/- 4.06114e-05\n",
            "    ... (remaining 2038 messages suppressed)\n",
            "\n",
            "[#0] WARNING:Minization -- RooMinimizerFcn: Minimized function has error status.\n",
            "Returning maximum FCN so far (-56104) to force MIGRAD to back out of this region. Error log follows\n",
            "Parameter values: Gauss_Norm=103830, Mean=5005.03, Width=39.5996, exp_Norm=128454, exponent=-1.03169\n",
            "RooExponential::Exponential Background[ x=M_m0 c=exponent ]\n",
            "     p.d.f normalization integral is zero or negative @ x=M_m0=5155.89, c=exponent=-1.03169 +/- 4.06114e-05\n",
            "     p.d.f normalization integral is zero or negative @ x=M_m0=5157.35, c=exponent=-1.03169 +/- 4.06114e-05\n",
            "     p.d.f normalization integral is zero or negative @ x=M_m0=5291.7, c=exponent=-1.03169 +/- 4.06114e-05\n",
            "     p.d.f normalization integral is zero or negative @ x=M_m0=5383, c=exponent=-1.03169 +/- 4.06114e-05\n",
            "     p.d.f normalization integral is zero or negative @ x=M_m0=5260.82, c=exponent=-1.03169 +/- 4.06114e-05\n",
            "     p.d.f normalization integral is zero or negative @ x=M_m0=5279.06, c=exponent=-1.03169 +/- 4.06114e-05\n",
            "     p.d.f normalization integral is zero or negative @ x=M_m0=5277.05, c=exponent=-1.03169 +/- 4.06114e-05\n",
            "     p.d.f normalization integral is zero or negative @ x=M_m0=5332.18, c=exponent=-1.03169 +/- 4.06114e-05\n",
            "     p.d.f normalization integral is zero or negative @ x=M_m0=5193.81, c=exponent=-1.03169 +/- 4.06114e-05\n",
            "     p.d.f normalization integral is zero or negative @ x=M_m0=5155.26, c=exponent=-1.03169 +/- 4.06114e-05\n",
            "     p.d.f normalization integral is zero or negative @ x=M_m0=5178.38, c=exponent=-1.03169 +/- 4.06114e-05\n",
            "     p.d.f normalization integral is zero or negative @ x=M_m0=5361.77, c=exponent=-1.03169 +/- 4.06114e-05\n",
            "    ... (remaining 2038 messages suppressed)\n",
            "\n",
            "[#0] WARNING:Minization -- RooMinimizerFcn: Minimized function has error status.\n",
            "Returning maximum FCN so far (-56104) to force MIGRAD to back out of this region. Error log follows\n",
            "Parameter values: Gauss_Norm=10918.9, Mean=5408.23, Width=7.19577, exp_Norm=166004, exponent=0.845146\n",
            "RooAddPdf::Full Model[ Gauss_Norm * Gaussian Signal + exp_Norm * Exponential Background ]\n",
            "     p.d.f value is Not-a-Number (-nan), forcing value to zero @ !refCoefNorm=(), !pdfs=(Gaussian Signal = 3.76515e-84/18.0371,Exponential Background = inf/-nan), !coefficients=(Gauss_Norm = 10918.9,exp_Norm = 166004)\n",
            "     getLogVal() top-level p.d.f evaluates to zero @ !refCoefNorm=(), !pdfs=(Gaussian Signal = 3.76515e-84/18.0371,Exponential Background = inf/-nan), !coefficients=(Gauss_Norm = 10918.9,exp_Norm = 166004)\n",
            "     p.d.f value is Not-a-Number (-nan), forcing value to zero @ !refCoefNorm=(), !pdfs=(Gaussian Signal = 0.312095/18.0371,Exponential Background = inf/-nan), !coefficients=(Gauss_Norm = 10918.9,exp_Norm = 166004)\n",
            "     getLogVal() top-level p.d.f evaluates to zero @ !refCoefNorm=(), !pdfs=(Gaussian Signal = 0.312095/18.0371,Exponential Background = inf/-nan), !coefficients=(Gauss_Norm = 10918.9,exp_Norm = 166004)\n",
            "     p.d.f value is Not-a-Number (-nan), forcing value to zero @ !refCoefNorm=(), !pdfs=(Gaussian Signal = 1.73253e-15/18.0371,Exponential Background = inf/-nan), !coefficients=(Gauss_Norm = 10918.9,exp_Norm = 166004)\n",
            "     getLogVal() top-level p.d.f evaluates to zero @ !refCoefNorm=(), !pdfs=(Gaussian Signal = 1.73253e-15/18.0371,Exponential Background = inf/-nan), !coefficients=(Gauss_Norm = 10918.9,exp_Norm = 166004)\n",
            "     p.d.f value is Not-a-Number (-nan), forcing value to zero @ !refCoefNorm=(), !pdfs=(Gaussian Signal = 2.92236e-23/18.0371,Exponential Background = inf/-nan), !coefficients=(Gauss_Norm = 10918.9,exp_Norm = 166004)\n",
            "     getLogVal() top-level p.d.f evaluates to zero @ !refCoefNorm=(), !pdfs=(Gaussian Signal = 2.92236e-23/18.0371,Exponential Background = inf/-nan), !coefficients=(Gauss_Norm = 10918.9,exp_Norm = 166004)\n",
            "     p.d.f value is Not-a-Number (-nan), forcing value to zero @ !refCoefNorm=(), !pdfs=(Gaussian Signal = 4.00144e-95/18.0371,Exponential Background = inf/-nan), !coefficients=(Gauss_Norm = 10918.9,exp_Norm = 166004)\n",
            "     getLogVal() top-level p.d.f evaluates to zero @ !refCoefNorm=(), !pdfs=(Gaussian Signal = 4.00144e-95/18.0371,Exponential Background = inf/-nan), !coefficients=(Gauss_Norm = 10918.9,exp_Norm = 166004)\n",
            "     p.d.f value is Not-a-Number (-nan), forcing value to zero @ !refCoefNorm=(), !pdfs=(Gaussian Signal = 6.73146e-100/18.0371,Exponential Background = inf/-nan), !coefficients=(Gauss_Norm = 10918.9,exp_Norm = 166004)\n",
            "     getLogVal() top-level p.d.f evaluates to zero @ !refCoefNorm=(), !pdfs=(Gaussian Signal = 6.73146e-100/18.0371,Exponential Background = inf/-nan), !coefficients=(Gauss_Norm = 10918.9,exp_Norm = 166004)\n",
            "    ... (remaining 2038 messages suppressed)\n",
            "RooRealIntegral::Exponential Background_Int[M_m0][ Int Exponential Backgroundd[Ana](M_m0) ]\n",
            "     function value is NAN @ !sumList=(), !intList=(), !anaList=(M_m0 = 5262.75), !jacList=(), !facList=(), !func=Exponential Background=inf/-0, !sumCat=()\n",
            "RooNLLVar::nll_Full Model_Data Set[ paramSet=(Gauss_Norm,Mean,Width,exp_Norm,exponent) ]\n",
            "     function value is NAN @ paramSet=(Gauss_Norm = 10918.9,Mean = 5408.23 +/- 0.789311,Width = 7.19577 +/- 0.792902,exp_Norm = 166004,exponent = 0.845146 +/- 4.06114e-05)\n",
            "\n",
            "[#0] WARNING:Minization -- RooMinimizerFcn: Minimized function has error status.\n",
            "Returning maximum FCN so far (-56104) to force MIGRAD to back out of this region. Error log follows\n",
            "Parameter values: Gauss_Norm=217.364, Mean=5497.42, Width=9.00531, exp_Norm=104021, exponent=1.8262\n",
            "RooAddPdf::Full Model[ Gauss_Norm * Gaussian Signal + exp_Norm * Exponential Background ]\n",
            "     p.d.f value is Not-a-Number (-nan), forcing value to zero @ !refCoefNorm=(), !pdfs=(Gaussian Signal = 1.15079e-142/13.8278,Exponential Background = inf/-nan), !coefficients=(Gauss_Norm = 217.364,exp_Norm = 104021)\n",
            "     getLogVal() top-level p.d.f evaluates to zero @ !refCoefNorm=(), !pdfs=(Gaussian Signal = 1.15079e-142/13.8278,Exponential Background = inf/-nan), !coefficients=(Gauss_Norm = 217.364,exp_Norm = 104021)\n",
            "     p.d.f value is Not-a-Number (-nan), forcing value to zero @ !refCoefNorm=(), !pdfs=(Gaussian Signal = 1.34664e-27/13.8278,Exponential Background = inf/-nan), !coefficients=(Gauss_Norm = 217.364,exp_Norm = 104021)\n",
            "     getLogVal() top-level p.d.f evaluates to zero @ !refCoefNorm=(), !pdfs=(Gaussian Signal = 1.34664e-27/13.8278,Exponential Background = inf/-nan), !coefficients=(Gauss_Norm = 217.364,exp_Norm = 104021)\n",
            "     p.d.f value is Not-a-Number (-nan), forcing value to zero @ !refCoefNorm=(), !pdfs=(Gaussian Signal = 8.5773e-60/13.8278,Exponential Background = inf/-nan), !coefficients=(Gauss_Norm = 217.364,exp_Norm = 104021)\n",
            "     getLogVal() top-level p.d.f evaluates to zero @ !refCoefNorm=(), !pdfs=(Gaussian Signal = 8.5773e-60/13.8278,Exponential Background = inf/-nan), !coefficients=(Gauss_Norm = 217.364,exp_Norm = 104021)\n",
            "     p.d.f value is Not-a-Number (-nan), forcing value to zero @ !refCoefNorm=(), !pdfs=(Gaussian Signal = 1.97322e-71/13.8278,Exponential Background = inf/-nan), !coefficients=(Gauss_Norm = 217.364,exp_Norm = 104021)\n",
            "     getLogVal() top-level p.d.f evaluates to zero @ !refCoefNorm=(), !pdfs=(Gaussian Signal = 1.97322e-71/13.8278,Exponential Background = inf/-nan), !coefficients=(Gauss_Norm = 217.364,exp_Norm = 104021)\n",
            "     p.d.f value is Not-a-Number (-nan), forcing value to zero @ !refCoefNorm=(), !pdfs=(Gaussian Signal = 5.75885e-154/13.8278,Exponential Background = inf/-nan), !coefficients=(Gauss_Norm = 217.364,exp_Norm = 104021)\n",
            "     getLogVal() top-level p.d.f evaluates to zero @ !refCoefNorm=(), !pdfs=(Gaussian Signal = 5.75885e-154/13.8278,Exponential Background = inf/-nan), !coefficients=(Gauss_Norm = 217.364,exp_Norm = 104021)\n",
            "     p.d.f value is Not-a-Number (-nan), forcing value to zero @ !refCoefNorm=(), !pdfs=(Gaussian Signal = 8.36075e-159/13.8278,Exponential Background = inf/-nan), !coefficients=(Gauss_Norm = 217.364,exp_Norm = 104021)\n",
            "     getLogVal() top-level p.d.f evaluates to zero @ !refCoefNorm=(), !pdfs=(Gaussian Signal = 8.36075e-159/13.8278,Exponential Background = inf/-nan), !coefficients=(Gauss_Norm = 217.364,exp_Norm = 104021)\n",
            "    ... (remaining 2038 messages suppressed)\n",
            "RooRealIntegral::Exponential Background_Int[M_m0][ Int Exponential Backgroundd[Ana](M_m0) ]\n",
            "     function value is NAN @ !sumList=(), !intList=(), !anaList=(M_m0 = 5262.75), !jacList=(), !facList=(), !func=Exponential Background=inf/-nan, !sumCat=()\n",
            "RooNLLVar::nll_Full Model_Data Set[ paramSet=(Gauss_Norm,Mean,Width,exp_Norm,exponent) ]\n",
            "     function value is NAN @ paramSet=(Gauss_Norm = 217.364,Mean = 5497.42 +/- 0.789311,Width = 9.00531 +/- 0.792902,exp_Norm = 104021,exponent = 1.8262 +/- 4.06114e-05)\n",
            "\n",
            "[#0] WARNING:Minization -- RooMinimizerFcn: Minimized function has error status.\n",
            "Returning maximum FCN so far (-56104) to force MIGRAD to back out of this region. Error log follows\n",
            "Parameter values: Gauss_Norm=278224, Mean=5052.71, Width=28.2953, exp_Norm=173778, exponent=0.592092\n",
            "RooAddPdf::Full Model[ Gauss_Norm * Gaussian Signal + exp_Norm * Exponential Background ]\n",
            "     p.d.f value is Not-a-Number (-nan), forcing value to zero @ !refCoefNorm=(), !pdfs=(Gaussian Signal = 3.33725e-13/3.35673,Exponential Background = inf/-nan), !coefficients=(Gauss_Norm = 278224,exp_Norm = 173778)\n",
            "     getLogVal() top-level p.d.f evaluates to zero @ !refCoefNorm=(), !pdfs=(Gaussian Signal = 3.33725e-13/3.35673,Exponential Background = inf/-nan), !coefficients=(Gauss_Norm = 278224,exp_Norm = 173778)\n",
            "     p.d.f value is Not-a-Number (-nan), forcing value to zero @ !refCoefNorm=(), !pdfs=(Gaussian Signal = 6.36668e-33/3.35673,Exponential Background = inf/-nan), !coefficients=(Gauss_Norm = 278224,exp_Norm = 173778)\n",
            "     getLogVal() top-level p.d.f evaluates to zero @ !refCoefNorm=(), !pdfs=(Gaussian Signal = 6.36668e-33/3.35673,Exponential Background = inf/-nan), !coefficients=(Gauss_Norm = 278224,exp_Norm = 173778)\n",
            "     p.d.f value is Not-a-Number (-nan), forcing value to zero @ !refCoefNorm=(), !pdfs=(Gaussian Signal = 1.60587e-24/3.35673,Exponential Background = inf/-nan), !coefficients=(Gauss_Norm = 278224,exp_Norm = 173778)\n",
            "     getLogVal() top-level p.d.f evaluates to zero @ !refCoefNorm=(), !pdfs=(Gaussian Signal = 1.60587e-24/3.35673,Exponential Background = inf/-nan), !coefficients=(Gauss_Norm = 278224,exp_Norm = 173778)\n",
            "     p.d.f value is Not-a-Number (-nan), forcing value to zero @ !refCoefNorm=(), !pdfs=(Gaussian Signal = 2.50042e-22/3.35673,Exponential Background = inf/-nan), !coefficients=(Gauss_Norm = 278224,exp_Norm = 173778)\n",
            "     getLogVal() top-level p.d.f evaluates to zero @ !refCoefNorm=(), !pdfs=(Gaussian Signal = 2.50042e-22/3.35673,Exponential Background = inf/-nan), !coefficients=(Gauss_Norm = 278224,exp_Norm = 173778)\n",
            "     p.d.f value is Not-a-Number (-nan), forcing value to zero @ !refCoefNorm=(), !pdfs=(Gaussian Signal = 3.52667e-12/3.35673,Exponential Background = inf/-nan), !coefficients=(Gauss_Norm = 278224,exp_Norm = 173778)\n",
            "     getLogVal() top-level p.d.f evaluates to zero @ !refCoefNorm=(), !pdfs=(Gaussian Signal = 3.52667e-12/3.35673,Exponential Background = inf/-nan), !coefficients=(Gauss_Norm = 278224,exp_Norm = 173778)\n",
            "     p.d.f value is Not-a-Number (-nan), forcing value to zero @ !refCoefNorm=(), !pdfs=(Gaussian Signal = 9.14597e-12/3.35673,Exponential Background = inf/-nan), !coefficients=(Gauss_Norm = 278224,exp_Norm = 173778)\n",
            "     getLogVal() top-level p.d.f evaluates to zero @ !refCoefNorm=(), !pdfs=(Gaussian Signal = 9.14597e-12/3.35673,Exponential Background = inf/-nan), !coefficients=(Gauss_Norm = 278224,exp_Norm = 173778)\n",
            "    ... (remaining 2038 messages suppressed)\n",
            "RooRealIntegral::Exponential Background_Int[M_m0][ Int Exponential Backgroundd[Ana](M_m0) ]\n",
            "     function value is NAN @ !sumList=(), !intList=(), !anaList=(M_m0 = 5262.75), !jacList=(), !facList=(), !func=Exponential Background=inf/-nan, !sumCat=()\n",
            "RooNLLVar::nll_Full Model_Data Set[ paramSet=(Gauss_Norm,Mean,Width,exp_Norm,exponent) ]\n",
            "     function value is NAN @ paramSet=(Gauss_Norm = 278224,Mean = 5052.71 +/- 0.789311,Width = 28.2953 +/- 0.792902,exp_Norm = 173778,exponent = 0.592092 +/- 4.06114e-05)\n",
            "\n",
            "[#0] WARNING:Minization -- RooMinimizerFcn: Minimized function has error status.\n",
            "Returning maximum FCN so far (-56104) to force MIGRAD to back out of this region. Error log follows\n",
            "Parameter values: Gauss_Norm=89298.4, Mean=5050.14, Width=37.9277, exp_Norm=92190.5, exponent=-0.533531\n",
            "RooExponential::Exponential Background[ x=M_m0 c=exponent ]\n",
            "     p.d.f normalization integral is zero or negative @ x=M_m0=5155.89, c=exponent=-0.533531 +/- 4.06114e-05\n",
            "     p.d.f normalization integral is zero or negative @ x=M_m0=5157.35, c=exponent=-0.533531 +/- 4.06114e-05\n",
            "     p.d.f normalization integral is zero or negative @ x=M_m0=5291.7, c=exponent=-0.533531 +/- 4.06114e-05\n",
            "     p.d.f normalization integral is zero or negative @ x=M_m0=5383, c=exponent=-0.533531 +/- 4.06114e-05\n",
            "     p.d.f normalization integral is zero or negative @ x=M_m0=5260.82, c=exponent=-0.533531 +/- 4.06114e-05\n",
            "     p.d.f normalization integral is zero or negative @ x=M_m0=5279.06, c=exponent=-0.533531 +/- 4.06114e-05\n",
            "     p.d.f normalization integral is zero or negative @ x=M_m0=5277.05, c=exponent=-0.533531 +/- 4.06114e-05\n",
            "     p.d.f normalization integral is zero or negative @ x=M_m0=5332.18, c=exponent=-0.533531 +/- 4.06114e-05\n",
            "     p.d.f normalization integral is zero or negative @ x=M_m0=5193.81, c=exponent=-0.533531 +/- 4.06114e-05\n",
            "     p.d.f normalization integral is zero or negative @ x=M_m0=5155.26, c=exponent=-0.533531 +/- 4.06114e-05\n",
            "     p.d.f normalization integral is zero or negative @ x=M_m0=5178.38, c=exponent=-0.533531 +/- 4.06114e-05\n",
            "     p.d.f normalization integral is zero or negative @ x=M_m0=5361.77, c=exponent=-0.533531 +/- 4.06114e-05\n",
            "    ... (remaining 2038 messages suppressed)\n",
            "\n",
            "[#0] WARNING:Minization -- RooMinimizerFcn: Minimized function has error status.\n",
            "Returning maximum FCN so far (-56104) to force MIGRAD to back out of this region. Error log follows\n",
            "Parameter values: Gauss_Norm=9609.44, Mean=5179.58, Width=41.9546, exp_Norm=47173, exponent=1.49129\n",
            "RooAddPdf::Full Model[ Gauss_Norm * Gaussian Signal + exp_Norm * Exponential Background ]\n",
            "     p.d.f value is Not-a-Number (-nan), forcing value to zero @ !refCoefNorm=(), !pdfs=(Gaussian Signal = 0.113002/102.122,Exponential Background = inf/-nan), !coefficients=(Gauss_Norm = 9609.44,exp_Norm = 47173)\n",
            "     getLogVal() top-level p.d.f evaluates to zero @ !refCoefNorm=(), !pdfs=(Gaussian Signal = 0.113002/102.122,Exponential Background = inf/-nan), !coefficients=(Gauss_Norm = 9609.44,exp_Norm = 47173)\n",
            "     p.d.f value is Not-a-Number (-nan), forcing value to zero @ !refCoefNorm=(), !pdfs=(Gaussian Signal = 1.42839e-06/102.122,Exponential Background = inf/-nan), !coefficients=(Gauss_Norm = 9609.44,exp_Norm = 47173)\n",
            "     getLogVal() top-level p.d.f evaluates to zero @ !refCoefNorm=(), !pdfs=(Gaussian Signal = 1.42839e-06/102.122,Exponential Background = inf/-nan), !coefficients=(Gauss_Norm = 9609.44,exp_Norm = 47173)\n",
            "     p.d.f value is Not-a-Number (-nan), forcing value to zero @ !refCoefNorm=(), !pdfs=(Gaussian Signal = 0.000290425/102.122,Exponential Background = inf/-nan), !coefficients=(Gauss_Norm = 9609.44,exp_Norm = 47173)\n",
            "     getLogVal() top-level p.d.f evaluates to zero @ !refCoefNorm=(), !pdfs=(Gaussian Signal = 0.000290425/102.122,Exponential Background = inf/-nan), !coefficients=(Gauss_Norm = 9609.44,exp_Norm = 47173)\n",
            "     p.d.f value is Not-a-Number (-nan), forcing value to zero @ !refCoefNorm=(), !pdfs=(Gaussian Signal = 0.00105382/102.122,Exponential Background = inf/-nan), !coefficients=(Gauss_Norm = 9609.44,exp_Norm = 47173)\n",
            "     getLogVal() top-level p.d.f evaluates to zero @ !refCoefNorm=(), !pdfs=(Gaussian Signal = 0.00105382/102.122,Exponential Background = inf/-nan), !coefficients=(Gauss_Norm = 9609.44,exp_Norm = 47173)\n",
            "     p.d.f value is Not-a-Number (-nan), forcing value to zero @ !refCoefNorm=(), !pdfs=(Gaussian Signal = 0.172759/102.122,Exponential Background = inf/-nan), !coefficients=(Gauss_Norm = 9609.44,exp_Norm = 47173)\n",
            "     getLogVal() top-level p.d.f evaluates to zero @ !refCoefNorm=(), !pdfs=(Gaussian Signal = 0.172759/102.122,Exponential Background = inf/-nan), !coefficients=(Gauss_Norm = 9609.44,exp_Norm = 47173)\n",
            "     p.d.f value is Not-a-Number (-nan), forcing value to zero @ !refCoefNorm=(), !pdfs=(Gaussian Signal = 0.203421/102.122,Exponential Background = inf/-nan), !coefficients=(Gauss_Norm = 9609.44,exp_Norm = 47173)\n",
            "     getLogVal() top-level p.d.f evaluates to zero @ !refCoefNorm=(), !pdfs=(Gaussian Signal = 0.203421/102.122,Exponential Background = inf/-nan), !coefficients=(Gauss_Norm = 9609.44,exp_Norm = 47173)\n",
            "    ... (remaining 2038 messages suppressed)\n",
            "RooRealIntegral::Exponential Background_Int[M_m0][ Int Exponential Backgroundd[Ana](M_m0) ]\n",
            "     function value is NAN @ !sumList=(), !intList=(), !anaList=(M_m0 = 5262.75), !jacList=(), !facList=(), !func=Exponential Background=inf/-0, !sumCat=()\n",
            "RooNLLVar::nll_Full Model_Data Set[ paramSet=(Gauss_Norm,Mean,Width,exp_Norm,exponent) ]\n",
            "     function value is NAN @ paramSet=(Gauss_Norm = 9609.44,Mean = 5179.58 +/- 0.789311,Width = 41.9546 +/- 0.792902,exp_Norm = 47173,exponent = 1.49129 +/- 4.06114e-05)\n",
            "\n",
            "[#0] WARNING:Minization -- RooMinimizerFcn: Minimized function has error status.\n",
            "Returning maximum FCN so far (-56104) to force MIGRAD to back out of this region. Error log follows\n",
            "Parameter values: Gauss_Norm=8.95585, Mean=5253.03, Width=43.6001, exp_Norm=29613.8, exponent=0.186193\n",
            "RooAddPdf::Full Model[ Gauss_Norm * Gaussian Signal + exp_Norm * Exponential Background ]\n",
            "     p.d.f value is Not-a-Number (-nan), forcing value to zero @ !refCoefNorm=(), !pdfs=(Gaussian Signal = 0.94863/109.265,Exponential Background = inf/-nan), !coefficients=(Gauss_Norm = 8.95585,exp_Norm = 29613.8)\n",
            "     getLogVal() top-level p.d.f evaluates to zero @ !refCoefNorm=(), !pdfs=(Gaussian Signal = 0.94863/109.265,Exponential Background = inf/-nan), !coefficients=(Gauss_Norm = 8.95585,exp_Norm = 29613.8)\n",
            "     p.d.f value is Not-a-Number (-nan), forcing value to zero @ !refCoefNorm=(), !pdfs=(Gaussian Signal = 0.00420811/109.265,Exponential Background = inf/-nan), !coefficients=(Gauss_Norm = 8.95585,exp_Norm = 29613.8)\n",
            "     getLogVal() top-level p.d.f evaluates to zero @ !refCoefNorm=(), !pdfs=(Gaussian Signal = 0.00420811/109.265,Exponential Background = inf/-nan), !coefficients=(Gauss_Norm = 8.95585,exp_Norm = 29613.8)\n",
            "     p.d.f value is Not-a-Number (-nan), forcing value to zero @ !refCoefNorm=(), !pdfs=(Gaussian Signal = 0.0891345/109.265,Exponential Background = inf/-nan), !coefficients=(Gauss_Norm = 8.95585,exp_Norm = 29613.8)\n",
            "     getLogVal() top-level p.d.f evaluates to zero @ !refCoefNorm=(), !pdfs=(Gaussian Signal = 0.0891345/109.265,Exponential Background = inf/-nan), !coefficients=(Gauss_Norm = 8.95585,exp_Norm = 29613.8)\n",
            "     p.d.f value is Not-a-Number (-nan), forcing value to zero @ !refCoefNorm=(), !pdfs=(Gaussian Signal = 0.171327/109.265,Exponential Background = inf/-nan), !coefficients=(Gauss_Norm = 8.95585,exp_Norm = 29613.8)\n",
            "     getLogVal() top-level p.d.f evaluates to zero @ !refCoefNorm=(), !pdfs=(Gaussian Signal = 0.171327/109.265,Exponential Background = inf/-nan), !coefficients=(Gauss_Norm = 8.95585,exp_Norm = 29613.8)\n",
            "     p.d.f value is Not-a-Number (-nan), forcing value to zero @ !refCoefNorm=(), !pdfs=(Gaussian Signal = 0.992994/109.265,Exponential Background = inf/-nan), !coefficients=(Gauss_Norm = 8.95585,exp_Norm = 29613.8)\n",
            "     getLogVal() top-level p.d.f evaluates to zero @ !refCoefNorm=(), !pdfs=(Gaussian Signal = 0.992994/109.265,Exponential Background = inf/-nan), !coefficients=(Gauss_Norm = 8.95585,exp_Norm = 29613.8)\n",
            "     p.d.f value is Not-a-Number (-nan), forcing value to zero @ !refCoefNorm=(), !pdfs=(Gaussian Signal = 0.999468/109.265,Exponential Background = inf/-nan), !coefficients=(Gauss_Norm = 8.95585,exp_Norm = 29613.8)\n",
            "     getLogVal() top-level p.d.f evaluates to zero @ !refCoefNorm=(), !pdfs=(Gaussian Signal = 0.999468/109.265,Exponential Background = inf/-nan), !coefficients=(Gauss_Norm = 8.95585,exp_Norm = 29613.8)\n",
            "    ... (remaining 2038 messages suppressed)\n",
            "RooRealIntegral::Exponential Background_Int[M_m0][ Int Exponential Backgroundd[Ana](M_m0) ]\n",
            "     function value is NAN @ !sumList=(), !intList=(), !anaList=(M_m0 = 5262.75), !jacList=(), !facList=(), !func=Exponential Background=inf/-nan, !sumCat=()\n",
            "RooNLLVar::nll_Full Model_Data Set[ paramSet=(Gauss_Norm,Mean,Width,exp_Norm,exponent) ]\n",
            "     function value is NAN @ paramSet=(Gauss_Norm = 8.95585,Mean = 5253.03 +/- 0.789311,Width = 43.6001 +/- 0.792902,exp_Norm = 29613.8,exponent = 0.186193 +/- 4.06114e-05)\n",
            "\n",
            "[#0] WARNING:Minization -- RooMinimizerFcn: Minimized function has error status.\n",
            "Returning maximum FCN so far (-56104) to force MIGRAD to back out of this region. Error log follows\n",
            "Parameter values: Gauss_Norm=1723.56, Mean=5281.2, Width=44.1827, exp_Norm=23814.9, exponent=-1.07144\n",
            "RooExponential::Exponential Background[ x=M_m0 c=exponent ]\n",
            "     p.d.f normalization integral is zero or negative @ x=M_m0=5155.89, c=exponent=-1.07144 +/- 4.06114e-05\n",
            "     p.d.f normalization integral is zero or negative @ x=M_m0=5157.35, c=exponent=-1.07144 +/- 4.06114e-05\n",
            "     p.d.f normalization integral is zero or negative @ x=M_m0=5291.7, c=exponent=-1.07144 +/- 4.06114e-05\n",
            "     p.d.f normalization integral is zero or negative @ x=M_m0=5383, c=exponent=-1.07144 +/- 4.06114e-05\n",
            "     p.d.f normalization integral is zero or negative @ x=M_m0=5260.82, c=exponent=-1.07144 +/- 4.06114e-05\n",
            "     p.d.f normalization integral is zero or negative @ x=M_m0=5279.06, c=exponent=-1.07144 +/- 4.06114e-05\n",
            "     p.d.f normalization integral is zero or negative @ x=M_m0=5277.05, c=exponent=-1.07144 +/- 4.06114e-05\n",
            "     p.d.f normalization integral is zero or negative @ x=M_m0=5332.18, c=exponent=-1.07144 +/- 4.06114e-05\n",
            "     p.d.f normalization integral is zero or negative @ x=M_m0=5193.81, c=exponent=-1.07144 +/- 4.06114e-05\n",
            "     p.d.f normalization integral is zero or negative @ x=M_m0=5155.26, c=exponent=-1.07144 +/- 4.06114e-05\n",
            "     p.d.f normalization integral is zero or negative @ x=M_m0=5178.38, c=exponent=-1.07144 +/- 4.06114e-05\n",
            "     p.d.f normalization integral is zero or negative @ x=M_m0=5361.77, c=exponent=-1.07144 +/- 4.06114e-05\n",
            "    ... (remaining 2038 messages suppressed)\n",
            "\n",
            " MIGRAD FAILS TO FIND IMPROVEMENT\n",
            " MINUIT WARNING IN HESSE   \n",
            " ============== Negative diagonal element 3 in Error Matrix\n",
            " MINUIT WARNING IN HESSE   \n",
            " ============== 75.6742 added to diagonal of error matrix\n",
            " EIGENVALUES OF SECOND-DERIVATIVE MATRIX:\n",
            "        -1.7402e+00  5.2661e-01  1.0353e+00  1.4543e+00  3.7240e+00\n",
            " MINUIT WARNING IN HESSE   \n",
            " ============== MATRIX FORCED POS-DEF BY ADDING 1.743941 TO DIAGONAL.\n",
            " FCN=-79383.8 FROM HESSE     STATUS=NOT POSDEF     31 CALLS         196 TOTAL\n",
            "                     EDM=193261    STRATEGY= 1      ERR MATRIX NOT POS-DEF\n",
            "  EXT PARAMETER                APPROXIMATE        STEP         FIRST   \n",
            "  NO.   NAME      VALUE            ERROR          SIZE      DERIVATIVE \n",
            "   1  Gauss_Norm   2.46463e+03   8.56303e+02   8.36497e-04   2.08266e+02\n",
            "   2  Mean         5.28712e+03   1.76544e+01   1.99557e-03   1.62533e+02\n",
            "   3  Width        4.43029e+01   2.65996e+01   2.18645e-02   5.27314e+01\n",
            "   4  exp_Norm     2.26571e+04   4.58237e+02   4.98458e-04  -1.26823e+02\n",
            "   5  exponent    -1.17356e-03   6.84808e-05   5.66648e-06   3.83986e+03\n",
            "                               ERR DEF= 0.5\n",
            " MINUIT WARNING IN MIGRAD  \n",
            " ============== Negative diagonal element 3 in Error Matrix\n",
            " MINUIT WARNING IN MIGRAD  \n",
            " ============== 1.02542 added to diagonal of error matrix\n",
            "[#0] WARNING:Minization -- RooMinimizerFcn: Minimized function has error status.\n",
            "Returning maximum FCN so far (192141) to force MIGRAD to back out of this region. Error log follows\n",
            "Parameter values: Gauss_Norm=32712.5, Mean=5430.25, Width=45.9066, exp_Norm=186573, exponent=1.3019\n",
            "RooAddPdf::Full Model[ Gauss_Norm * Gaussian Signal + exp_Norm * Exponential Background ]\n",
            "     p.d.f value is Not-a-Number (-nan), forcing value to zero @ !refCoefNorm=(), !pdfs=(Gaussian Signal = 0.00182054/107.667,Exponential Background = inf/-nan), !coefficients=(Gauss_Norm = 32712.5,exp_Norm = 186573)\n",
            "     getLogVal() top-level p.d.f evaluates to zero @ !refCoefNorm=(), !pdfs=(Gaussian Signal = 0.00182054/107.667,Exponential Background = inf/-nan), !coefficients=(Gauss_Norm = 32712.5,exp_Norm = 186573)\n",
            "     p.d.f value is Not-a-Number (-nan), forcing value to zero @ !refCoefNorm=(), !pdfs=(Gaussian Signal = 0.772264/107.667,Exponential Background = inf/-nan), !coefficients=(Gauss_Norm = 32712.5,exp_Norm = 186573)\n",
            "     getLogVal() top-level p.d.f evaluates to zero @ !refCoefNorm=(), !pdfs=(Gaussian Signal = 0.772264/107.667,Exponential Background = inf/-nan), !coefficients=(Gauss_Norm = 32712.5,exp_Norm = 186573)\n",
            "     p.d.f value is Not-a-Number (-nan), forcing value to zero @ !refCoefNorm=(), !pdfs=(Gaussian Signal = 0.208013/107.667,Exponential Background = inf/-nan), !coefficients=(Gauss_Norm = 32712.5,exp_Norm = 186573)\n",
            "     getLogVal() top-level p.d.f evaluates to zero @ !refCoefNorm=(), !pdfs=(Gaussian Signal = 0.208013/107.667,Exponential Background = inf/-nan), !coefficients=(Gauss_Norm = 32712.5,exp_Norm = 186573)\n",
            "     p.d.f value is Not-a-Number (-nan), forcing value to zero @ !refCoefNorm=(), !pdfs=(Gaussian Signal = 0.115794/107.667,Exponential Background = inf/-nan), !coefficients=(Gauss_Norm = 32712.5,exp_Norm = 186573)\n",
            "     getLogVal() top-level p.d.f evaluates to zero @ !refCoefNorm=(), !pdfs=(Gaussian Signal = 0.115794/107.667,Exponential Background = inf/-nan), !coefficients=(Gauss_Norm = 32712.5,exp_Norm = 186573)\n",
            "     p.d.f value is Not-a-Number (-nan), forcing value to zero @ !refCoefNorm=(), !pdfs=(Gaussian Signal = 0.000890803/107.667,Exponential Background = inf/-nan), !coefficients=(Gauss_Norm = 32712.5,exp_Norm = 186573)\n",
            "     getLogVal() top-level p.d.f evaluates to zero @ !refCoefNorm=(), !pdfs=(Gaussian Signal = 0.000890803/107.667,Exponential Background = inf/-nan), !coefficients=(Gauss_Norm = 32712.5,exp_Norm = 186573)\n",
            "     p.d.f value is Not-a-Number (-nan), forcing value to zero @ !refCoefNorm=(), !pdfs=(Gaussian Signal = 0.000653847/107.667,Exponential Background = inf/-nan), !coefficients=(Gauss_Norm = 32712.5,exp_Norm = 186573)\n",
            "     getLogVal() top-level p.d.f evaluates to zero @ !refCoefNorm=(), !pdfs=(Gaussian Signal = 0.000653847/107.667,Exponential Background = inf/-nan), !coefficients=(Gauss_Norm = 32712.5,exp_Norm = 186573)\n",
            "    ... (remaining 2038 messages suppressed)\n",
            "RooRealIntegral::Exponential Background_Int[M_m0][ Int Exponential Backgroundd[Ana](M_m0) ]\n",
            "     function value is NAN @ !sumList=(), !intList=(), !anaList=(M_m0 = 5262.75), !jacList=(), !facList=(), !func=Exponential Background=inf/0.759153, !sumCat=()\n",
            "RooNLLVar::nll_Full Model_Data Set[ paramSet=(Gauss_Norm,Mean,Width,exp_Norm,exponent) ]\n",
            "     function value is NAN @ paramSet=(Gauss_Norm = 32712.5,Mean = 5430.25 +/- 0.789311,Width = 45.9066 +/- 0.792902,exp_Norm = 186573,exponent = 1.3019 +/- 4.06114e-05)\n",
            "\n",
            "[#0] WARNING:Minization -- RooMinimizerFcn: Minimized function has error status.\n",
            "Returning maximum FCN so far (248104) to force MIGRAD to back out of this region. Error log follows\n",
            "Parameter values: Gauss_Norm=225890, Mean=5108.67, Width=37.1299, exp_Norm=124387, exponent=1.92331\n",
            "RooAddPdf::Full Model[ Gauss_Norm * Gaussian Signal + exp_Norm * Exponential Background ]\n",
            "     p.d.f value is Not-a-Number (-nan), forcing value to zero @ !refCoefNorm=(), !pdfs=(Gaussian Signal = 0.000110127/55.1235,Exponential Background = inf/-nan), !coefficients=(Gauss_Norm = 225890,exp_Norm = 124387)\n",
            "     getLogVal() top-level p.d.f evaluates to zero @ !refCoefNorm=(), !pdfs=(Gaussian Signal = 0.000110127/55.1235,Exponential Background = inf/-nan), !coefficients=(Gauss_Norm = 225890,exp_Norm = 124387)\n",
            "     p.d.f value is Not-a-Number (-nan), forcing value to zero @ !refCoefNorm=(), !pdfs=(Gaussian Signal = 7.63243e-14/55.1235,Exponential Background = inf/-nan), !coefficients=(Gauss_Norm = 225890,exp_Norm = 124387)\n",
            "     getLogVal() top-level p.d.f evaluates to zero @ !refCoefNorm=(), !pdfs=(Gaussian Signal = 7.63243e-14/55.1235,Exponential Background = inf/-nan), !coefficients=(Gauss_Norm = 225890,exp_Norm = 124387)\n",
            "     p.d.f value is Not-a-Number (-nan), forcing value to zero @ !refCoefNorm=(), !pdfs=(Gaussian Signal = 8.1222e-10/55.1235,Exponential Background = inf/-nan), !coefficients=(Gauss_Norm = 225890,exp_Norm = 124387)\n",
            "     getLogVal() top-level p.d.f evaluates to zero @ !refCoefNorm=(), !pdfs=(Gaussian Signal = 8.1222e-10/55.1235,Exponential Background = inf/-nan), !coefficients=(Gauss_Norm = 225890,exp_Norm = 124387)\n",
            "     p.d.f value is Not-a-Number (-nan), forcing value to zero @ !refCoefNorm=(), !pdfs=(Gaussian Signal = 8.63956e-09/55.1235,Exponential Background = inf/-nan), !coefficients=(Gauss_Norm = 225890,exp_Norm = 124387)\n",
            "     getLogVal() top-level p.d.f evaluates to zero @ !refCoefNorm=(), !pdfs=(Gaussian Signal = 8.63956e-09/55.1235,Exponential Background = inf/-nan), !coefficients=(Gauss_Norm = 225890,exp_Norm = 124387)\n",
            "     p.d.f value is Not-a-Number (-nan), forcing value to zero @ !refCoefNorm=(), !pdfs=(Gaussian Signal = 0.000300671/55.1235,Exponential Background = inf/-nan), !coefficients=(Gauss_Norm = 225890,exp_Norm = 124387)\n",
            "     getLogVal() top-level p.d.f evaluates to zero @ !refCoefNorm=(), !pdfs=(Gaussian Signal = 0.000300671/55.1235,Exponential Background = inf/-nan), !coefficients=(Gauss_Norm = 225890,exp_Norm = 124387)\n",
            "     p.d.f value is Not-a-Number (-nan), forcing value to zero @ !refCoefNorm=(), !pdfs=(Gaussian Signal = 0.000449146/55.1235,Exponential Background = inf/-nan), !coefficients=(Gauss_Norm = 225890,exp_Norm = 124387)\n",
            "     getLogVal() top-level p.d.f evaluates to zero @ !refCoefNorm=(), !pdfs=(Gaussian Signal = 0.000449146/55.1235,Exponential Background = inf/-nan), !coefficients=(Gauss_Norm = 225890,exp_Norm = 124387)\n",
            "    ... (remaining 2038 messages suppressed)\n",
            "RooRealIntegral::Exponential Background_Int[M_m0][ Int Exponential Backgroundd[Ana](M_m0) ]\n",
            "     function value is NAN @ !sumList=(), !intList=(), !anaList=(M_m0 = 5262.75), !jacList=(), !facList=(), !func=Exponential Background=inf/1.02352e-155, !sumCat=()\n",
            "RooNLLVar::nll_Full Model_Data Set[ paramSet=(Gauss_Norm,Mean,Width,exp_Norm,exponent) ]\n",
            "     function value is NAN @ paramSet=(Gauss_Norm = 225890,Mean = 5108.67 +/- 0.789311,Width = 37.1299 +/- 0.792902,exp_Norm = 124387,exponent = 1.92331 +/- 4.06114e-05)\n",
            "\n",
            "[#0] WARNING:Minization -- RooMinimizerFcn: Minimized function has error status.\n",
            "Returning maximum FCN so far (248104) to force MIGRAD to back out of this region. Error log follows\n",
            "Parameter values: Gauss_Norm=225053, Mean=5029.06, Width=0.40607, exp_Norm=19578.6, exponent=1.43963\n",
            "RooAddPdf::Full Model[ Gauss_Norm * Gaussian Signal + exp_Norm * Exponential Background ]\n",
            "     p.d.f value is Not-a-Number (-nan), forcing value to zero @ !refCoefNorm=(), !pdfs=(Gaussian Signal = 0/0,Exponential Background = inf/-nan), !coefficients=(Gauss_Norm = 225053,exp_Norm = 19578.6)\n",
            "     getLogVal() top-level p.d.f evaluates to zero @ !refCoefNorm=(), !pdfs=(Gaussian Signal = 0/0,Exponential Background = inf/-nan), !coefficients=(Gauss_Norm = 225053,exp_Norm = 19578.6)\n",
            "     p.d.f value is Not-a-Number (-nan), forcing value to zero @ !refCoefNorm=(), !pdfs=(Gaussian Signal = 0/0,Exponential Background = inf/-nan), !coefficients=(Gauss_Norm = 225053,exp_Norm = 19578.6)\n",
            "     getLogVal() top-level p.d.f evaluates to zero @ !refCoefNorm=(), !pdfs=(Gaussian Signal = 0/0,Exponential Background = inf/-nan), !coefficients=(Gauss_Norm = 225053,exp_Norm = 19578.6)\n",
            "     p.d.f value is Not-a-Number (-nan), forcing value to zero @ !refCoefNorm=(), !pdfs=(Gaussian Signal = 0/0,Exponential Background = inf/-nan), !coefficients=(Gauss_Norm = 225053,exp_Norm = 19578.6)\n",
            "     getLogVal() top-level p.d.f evaluates to zero @ !refCoefNorm=(), !pdfs=(Gaussian Signal = 0/0,Exponential Background = inf/-nan), !coefficients=(Gauss_Norm = 225053,exp_Norm = 19578.6)\n",
            "     p.d.f value is Not-a-Number (-nan), forcing value to zero @ !refCoefNorm=(), !pdfs=(Gaussian Signal = 0/0,Exponential Background = inf/-nan), !coefficients=(Gauss_Norm = 225053,exp_Norm = 19578.6)\n",
            "     getLogVal() top-level p.d.f evaluates to zero @ !refCoefNorm=(), !pdfs=(Gaussian Signal = 0/0,Exponential Background = inf/-nan), !coefficients=(Gauss_Norm = 225053,exp_Norm = 19578.6)\n",
            "     p.d.f value is Not-a-Number (-nan), forcing value to zero @ !refCoefNorm=(), !pdfs=(Gaussian Signal = 0/0,Exponential Background = inf/-nan), !coefficients=(Gauss_Norm = 225053,exp_Norm = 19578.6)\n",
            "     getLogVal() top-level p.d.f evaluates to zero @ !refCoefNorm=(), !pdfs=(Gaussian Signal = 0/0,Exponential Background = inf/-nan), !coefficients=(Gauss_Norm = 225053,exp_Norm = 19578.6)\n",
            "     p.d.f value is Not-a-Number (-nan), forcing value to zero @ !refCoefNorm=(), !pdfs=(Gaussian Signal = 0/0,Exponential Background = inf/-nan), !coefficients=(Gauss_Norm = 225053,exp_Norm = 19578.6)\n",
            "     getLogVal() top-level p.d.f evaluates to zero @ !refCoefNorm=(), !pdfs=(Gaussian Signal = 0/0,Exponential Background = inf/-nan), !coefficients=(Gauss_Norm = 225053,exp_Norm = 19578.6)\n",
            "    ... (remaining 2038 messages suppressed)\n",
            "RooRealIntegral::Exponential Background_Int[M_m0][ Int Exponential Backgroundd[Ana](M_m0) ]\n",
            "     function value is NAN @ !sumList=(), !intList=(), !anaList=(M_m0 = 5262.75), !jacList=(), !facList=(), !func=Exponential Background=inf/-nan, !sumCat=()\n",
            "RooNLLVar::nll_Full Model_Data Set[ paramSet=(Gauss_Norm,Mean,Width,exp_Norm,exponent) ]\n",
            "     function value is NAN @ paramSet=(Gauss_Norm = 225053,Mean = 5029.06 +/- 0.789311,Width = 0.40607 +/- 0.792902,exp_Norm = 19578.6,exponent = 1.43963 +/- 4.06114e-05)\n",
            "RooGaussian::Gaussian Signal[ x=M_m0 mean=Mean sigma=Width ]\n",
            "     p.d.f normalization integral is zero or negative @ x=M_m0=5155.89, mean=Mean=5029.06 +/- 0.789311, sigma=Width=0.40607 +/- 0.792902\n",
            "     p.d.f normalization integral is zero or negative @ x=M_m0=5157.35, mean=Mean=5029.06 +/- 0.789311, sigma=Width=0.40607 +/- 0.792902\n",
            "     p.d.f normalization integral is zero or negative @ x=M_m0=5291.7, mean=Mean=5029.06 +/- 0.789311, sigma=Width=0.40607 +/- 0.792902\n",
            "     p.d.f normalization integral is zero or negative @ x=M_m0=5383, mean=Mean=5029.06 +/- 0.789311, sigma=Width=0.40607 +/- 0.792902\n",
            "     p.d.f normalization integral is zero or negative @ x=M_m0=5260.82, mean=Mean=5029.06 +/- 0.789311, sigma=Width=0.40607 +/- 0.792902\n",
            "     p.d.f normalization integral is zero or negative @ x=M_m0=5279.06, mean=Mean=5029.06 +/- 0.789311, sigma=Width=0.40607 +/- 0.792902\n",
            "     p.d.f normalization integral is zero or negative @ x=M_m0=5277.05, mean=Mean=5029.06 +/- 0.789311, sigma=Width=0.40607 +/- 0.792902\n",
            "     p.d.f normalization integral is zero or negative @ x=M_m0=5332.18, mean=Mean=5029.06 +/- 0.789311, sigma=Width=0.40607 +/- 0.792902\n",
            "     p.d.f normalization integral is zero or negative @ x=M_m0=5193.81, mean=Mean=5029.06 +/- 0.789311, sigma=Width=0.40607 +/- 0.792902\n",
            "     p.d.f normalization integral is zero or negative @ x=M_m0=5155.26, mean=Mean=5029.06 +/- 0.789311, sigma=Width=0.40607 +/- 0.792902\n",
            "     p.d.f normalization integral is zero or negative @ x=M_m0=5178.38, mean=Mean=5029.06 +/- 0.789311, sigma=Width=0.40607 +/- 0.792902\n",
            "     p.d.f normalization integral is zero or negative @ x=M_m0=5361.77, mean=Mean=5029.06 +/- 0.789311, sigma=Width=0.40607 +/- 0.792902\n",
            "    ... (remaining 2038 messages suppressed)\n",
            "\n",
            "[#0] WARNING:Minization -- RooMinimizerFcn: Minimized function has error status.\n",
            "Returning maximum FCN so far (248104) to force MIGRAD to back out of this region. Error log follows\n",
            "Parameter values: Gauss_Norm=273287, Mean=5017.57, Width=26.3484, exp_Norm=167060, exponent=1.99945\n",
            "RooAddPdf::Full Model[ Gauss_Norm * Gaussian Signal + exp_Norm * Exponential Background ]\n",
            "     p.d.f value is Not-a-Number (-nan), forcing value to zero @ !refCoefNorm=(), !pdfs=(Gaussian Signal = 3.24408e-20/0.0580556,Exponential Background = inf/-nan), !coefficients=(Gauss_Norm = 273287,exp_Norm = 167060)\n",
            "     getLogVal() top-level p.d.f evaluates to zero @ !refCoefNorm=(), !pdfs=(Gaussian Signal = 3.24408e-20/0.0580556,Exponential Background = inf/-nan), !coefficients=(Gauss_Norm = 273287,exp_Norm = 167060)\n",
            "     p.d.f value is Not-a-Number (-nan), forcing value to zero @ !refCoefNorm=(), !pdfs=(Gaussian Signal = 8.14706e-46/0.0580556,Exponential Background = inf/-nan), !coefficients=(Gauss_Norm = 273287,exp_Norm = 167060)\n",
            "     getLogVal() top-level p.d.f evaluates to zero @ !refCoefNorm=(), !pdfs=(Gaussian Signal = 8.14706e-46/0.0580556,Exponential Background = inf/-nan), !coefficients=(Gauss_Norm = 273287,exp_Norm = 167060)\n",
            "     p.d.f value is Not-a-Number (-nan), forcing value to zero @ !refCoefNorm=(), !pdfs=(Gaussian Signal = 4.60255e-35/0.0580556,Exponential Background = inf/-nan), !coefficients=(Gauss_Norm = 273287,exp_Norm = 167060)\n",
            "     getLogVal() top-level p.d.f evaluates to zero @ !refCoefNorm=(), !pdfs=(Gaussian Signal = 4.60255e-35/0.0580556,Exponential Background = inf/-nan), !coefficients=(Gauss_Norm = 273287,exp_Norm = 167060)\n",
            "     p.d.f value is Not-a-Number (-nan), forcing value to zero @ !refCoefNorm=(), !pdfs=(Gaussian Signal = 3.1508e-32/0.0580556,Exponential Background = inf/-nan), !coefficients=(Gauss_Norm = 273287,exp_Norm = 167060)\n",
            "     getLogVal() top-level p.d.f evaluates to zero @ !refCoefNorm=(), !pdfs=(Gaussian Signal = 3.1508e-32/0.0580556,Exponential Background = inf/-nan), !coefficients=(Gauss_Norm = 273287,exp_Norm = 167060)\n",
            "     p.d.f value is Not-a-Number (-nan), forcing value to zero @ !refCoefNorm=(), !pdfs=(Gaussian Signal = 7.75495e-19/0.0580556,Exponential Background = inf/-nan), !coefficients=(Gauss_Norm = 273287,exp_Norm = 167060)\n",
            "     getLogVal() top-level p.d.f evaluates to zero @ !refCoefNorm=(), !pdfs=(Gaussian Signal = 7.75495e-19/0.0580556,Exponential Background = inf/-nan), !coefficients=(Gauss_Norm = 273287,exp_Norm = 167060)\n",
            "     p.d.f value is Not-a-Number (-nan), forcing value to zero @ !refCoefNorm=(), !pdfs=(Gaussian Signal = 2.81337e-18/0.0580556,Exponential Background = inf/-nan), !coefficients=(Gauss_Norm = 273287,exp_Norm = 167060)\n",
            "     getLogVal() top-level p.d.f evaluates to zero @ !refCoefNorm=(), !pdfs=(Gaussian Signal = 2.81337e-18/0.0580556,Exponential Background = inf/-nan), !coefficients=(Gauss_Norm = 273287,exp_Norm = 167060)\n",
            "    ... (remaining 2038 messages suppressed)\n",
            "RooRealIntegral::Exponential Background_Int[M_m0][ Int Exponential Backgroundd[Ana](M_m0) ]\n",
            "     function value is NAN @ !sumList=(), !intList=(), !anaList=(M_m0 = 5262.75), !jacList=(), !facList=(), !func=Exponential Background=inf/-nan, !sumCat=()\n",
            "RooNLLVar::nll_Full Model_Data Set[ paramSet=(Gauss_Norm,Mean,Width,exp_Norm,exponent) ]\n",
            "     function value is NAN @ paramSet=(Gauss_Norm = 273287,Mean = 5017.57 +/- 0.789311,Width = 26.3484 +/- 0.792902,exp_Norm = 167060,exponent = 1.99945 +/- 4.06114e-05)\n",
            "\n",
            "[#0] WARNING:Minization -- RooMinimizerFcn: Minimized function has error status.\n",
            "Returning maximum FCN so far (248104) to force MIGRAD to back out of this region. Error log follows\n",
            "Parameter values: Gauss_Norm=2737.99, Mean=5218.93, Width=40.3551, exp_Norm=38267.9, exponent=1.99996\n",
            "RooAddPdf::Full Model[ Gauss_Norm * Gaussian Signal + exp_Norm * Exponential Background ]\n",
            "     p.d.f value is Not-a-Number (-nan), forcing value to zero @ !refCoefNorm=(), !pdfs=(Gaussian Signal = 0.489152/100.993,Exponential Background = inf/-nan), !coefficients=(Gauss_Norm = 2737.99,exp_Norm = 38267.9)\n",
            "     getLogVal() top-level p.d.f evaluates to zero @ !refCoefNorm=(), !pdfs=(Gaussian Signal = 0.489152/100.993,Exponential Background = inf/-nan), !coefficients=(Gauss_Norm = 2737.99,exp_Norm = 38267.9)\n",
            "     p.d.f value is Not-a-Number (-nan), forcing value to zero @ !refCoefNorm=(), !pdfs=(Gaussian Signal = 5.75519e-05/100.993,Exponential Background = inf/-nan), !coefficients=(Gauss_Norm = 2737.99,exp_Norm = 38267.9)\n",
            "     getLogVal() top-level p.d.f evaluates to zero @ !refCoefNorm=(), !pdfs=(Gaussian Signal = 5.75519e-05/100.993,Exponential Background = inf/-nan), !coefficients=(Gauss_Norm = 2737.99,exp_Norm = 38267.9)\n",
            "     p.d.f value is Not-a-Number (-nan), forcing value to zero @ !refCoefNorm=(), !pdfs=(Gaussian Signal = 0.00559107/100.993,Exponential Background = inf/-nan), !coefficients=(Gauss_Norm = 2737.99,exp_Norm = 38267.9)\n",
            "     getLogVal() top-level p.d.f evaluates to zero @ !refCoefNorm=(), !pdfs=(Gaussian Signal = 0.00559107/100.993,Exponential Background = inf/-nan), !coefficients=(Gauss_Norm = 2737.99,exp_Norm = 38267.9)\n",
            "     p.d.f value is Not-a-Number (-nan), forcing value to zero @ !refCoefNorm=(), !pdfs=(Gaussian Signal = 0.0160631/100.993,Exponential Background = inf/-nan), !coefficients=(Gauss_Norm = 2737.99,exp_Norm = 38267.9)\n",
            "     getLogVal() top-level p.d.f evaluates to zero @ !refCoefNorm=(), !pdfs=(Gaussian Signal = 0.0160631/100.993,Exponential Background = inf/-nan), !coefficients=(Gauss_Norm = 2737.99,exp_Norm = 38267.9)\n",
            "     p.d.f value is Not-a-Number (-nan), forcing value to zero @ !refCoefNorm=(), !pdfs=(Gaussian Signal = 0.622825/100.993,Exponential Background = inf/-nan), !coefficients=(Gauss_Norm = 2737.99,exp_Norm = 38267.9)\n",
            "     getLogVal() top-level p.d.f evaluates to zero @ !refCoefNorm=(), !pdfs=(Gaussian Signal = 0.622825/100.993,Exponential Background = inf/-nan), !coefficients=(Gauss_Norm = 2737.99,exp_Norm = 38267.9)\n",
            "     p.d.f value is Not-a-Number (-nan), forcing value to zero @ !refCoefNorm=(), !pdfs=(Gaussian Signal = 0.67879/100.993,Exponential Background = inf/-nan), !coefficients=(Gauss_Norm = 2737.99,exp_Norm = 38267.9)\n",
            "     getLogVal() top-level p.d.f evaluates to zero @ !refCoefNorm=(), !pdfs=(Gaussian Signal = 0.67879/100.993,Exponential Background = inf/-nan), !coefficients=(Gauss_Norm = 2737.99,exp_Norm = 38267.9)\n",
            "    ... (remaining 2038 messages suppressed)\n",
            "RooRealIntegral::Exponential Background_Int[M_m0][ Int Exponential Backgroundd[Ana](M_m0) ]\n",
            "     function value is NAN @ !sumList=(), !intList=(), !anaList=(M_m0 = 5262.75), !jacList=(), !facList=(), !func=Exponential Background=inf/-nan, !sumCat=()\n",
            "RooNLLVar::nll_Full Model_Data Set[ paramSet=(Gauss_Norm,Mean,Width,exp_Norm,exponent) ]\n",
            "     function value is NAN @ paramSet=(Gauss_Norm = 2737.99,Mean = 5218.93 +/- 0.789311,Width = 40.3551 +/- 0.792902,exp_Norm = 38267.9,exponent = 1.99996 +/- 4.06114e-05)\n",
            "\n",
            "[#0] WARNING:Minization -- RooMinimizerFcn: Minimized function has error status.\n",
            "Returning maximum FCN so far (248104) to force MIGRAD to back out of this region. Error log follows\n",
            "Parameter values: Gauss_Norm=1977.2, Mean=5283.54, Width=41.9993, exp_Norm=23361.4, exponent=-0.46734\n",
            "RooExponential::Exponential Background[ x=M_m0 c=exponent ]\n",
            "     p.d.f normalization integral is zero or negative @ x=M_m0=5155.89, c=exponent=-0.46734 +/- 4.06114e-05\n",
            "     p.d.f normalization integral is zero or negative @ x=M_m0=5157.35, c=exponent=-0.46734 +/- 4.06114e-05\n",
            "     p.d.f normalization integral is zero or negative @ x=M_m0=5291.7, c=exponent=-0.46734 +/- 4.06114e-05\n",
            "     p.d.f normalization integral is zero or negative @ x=M_m0=5383, c=exponent=-0.46734 +/- 4.06114e-05\n",
            "     p.d.f normalization integral is zero or negative @ x=M_m0=5260.82, c=exponent=-0.46734 +/- 4.06114e-05\n",
            "     p.d.f normalization integral is zero or negative @ x=M_m0=5279.06, c=exponent=-0.46734 +/- 4.06114e-05\n",
            "     p.d.f normalization integral is zero or negative @ x=M_m0=5277.05, c=exponent=-0.46734 +/- 4.06114e-05\n",
            "     p.d.f normalization integral is zero or negative @ x=M_m0=5332.18, c=exponent=-0.46734 +/- 4.06114e-05\n",
            "     p.d.f normalization integral is zero or negative @ x=M_m0=5193.81, c=exponent=-0.46734 +/- 4.06114e-05\n",
            "     p.d.f normalization integral is zero or negative @ x=M_m0=5155.26, c=exponent=-0.46734 +/- 4.06114e-05\n",
            "     p.d.f normalization integral is zero or negative @ x=M_m0=5178.38, c=exponent=-0.46734 +/- 4.06114e-05\n",
            "     p.d.f normalization integral is zero or negative @ x=M_m0=5361.77, c=exponent=-0.46734 +/- 4.06114e-05\n",
            "    ... (remaining 2038 messages suppressed)\n",
            "\n",
            "[#0] WARNING:Minization -- RooMinimizerFcn: Minimized function has error status.\n",
            "Returning maximum FCN so far (248104) to force MIGRAD to back out of this region. Error log follows\n",
            "Parameter values: Gauss_Norm=42622.4, Mean=5457.07, Width=45.9427, exp_Norm=185911, exponent=0.173726\n",
            "RooAddPdf::Full Model[ Gauss_Norm * Gaussian Signal + exp_Norm * Exponential Background ]\n",
            "     p.d.f value is Not-a-Number (-nan), forcing value to zero @ !refCoefNorm=(), !pdfs=(Gaussian Signal = 0.000195386/95.0056,Exponential Background = inf/-nan), !coefficients=(Gauss_Norm = 42622.4,exp_Norm = 185911)\n",
            "     getLogVal() top-level p.d.f evaluates to zero @ !refCoefNorm=(), !pdfs=(Gaussian Signal = 0.000195386/95.0056,Exponential Background = inf/-nan), !coefficients=(Gauss_Norm = 42622.4,exp_Norm = 185911)\n",
            "     p.d.f value is Not-a-Number (-nan), forcing value to zero @ !refCoefNorm=(), !pdfs=(Gaussian Signal = 0.428437/95.0056,Exponential Background = inf/-nan), !coefficients=(Gauss_Norm = 42622.4,exp_Norm = 185911)\n",
            "     getLogVal() top-level p.d.f evaluates to zero @ !refCoefNorm=(), !pdfs=(Gaussian Signal = 0.428437/95.0056,Exponential Background = inf/-nan), !coefficients=(Gauss_Norm = 42622.4,exp_Norm = 185911)\n",
            "     p.d.f value is Not-a-Number (-nan), forcing value to zero @ !refCoefNorm=(), !pdfs=(Gaussian Signal = 0.0625703/95.0056,Exponential Background = inf/-nan), !coefficients=(Gauss_Norm = 42622.4,exp_Norm = 185911)\n",
            "     getLogVal() top-level p.d.f evaluates to zero @ !refCoefNorm=(), !pdfs=(Gaussian Signal = 0.0625703/95.0056,Exponential Background = inf/-nan), !coefficients=(Gauss_Norm = 42622.4,exp_Norm = 185911)\n",
            "     p.d.f value is Not-a-Number (-nan), forcing value to zero @ !refCoefNorm=(), !pdfs=(Gaussian Signal = 0.0291921/95.0056,Exponential Background = inf/-nan), !coefficients=(Gauss_Norm = 42622.4,exp_Norm = 185911)\n",
            "     getLogVal() top-level p.d.f evaluates to zero @ !refCoefNorm=(), !pdfs=(Gaussian Signal = 0.0291921/95.0056,Exponential Background = inf/-nan), !coefficients=(Gauss_Norm = 42622.4,exp_Norm = 185911)\n",
            "     p.d.f value is Not-a-Number (-nan), forcing value to zero @ !refCoefNorm=(), !pdfs=(Gaussian Signal = 8.53818e-05/95.0056,Exponential Background = inf/-nan), !coefficients=(Gauss_Norm = 42622.4,exp_Norm = 185911)\n",
            "     getLogVal() top-level p.d.f evaluates to zero @ !refCoefNorm=(), !pdfs=(Gaussian Signal = 8.53818e-05/95.0056,Exponential Background = inf/-nan), !coefficients=(Gauss_Norm = 42622.4,exp_Norm = 185911)\n",
            "     p.d.f value is Not-a-Number (-nan), forcing value to zero @ !refCoefNorm=(), !pdfs=(Gaussian Signal = 5.97858e-05/95.0056,Exponential Background = inf/-nan), !coefficients=(Gauss_Norm = 42622.4,exp_Norm = 185911)\n",
            "     getLogVal() top-level p.d.f evaluates to zero @ !refCoefNorm=(), !pdfs=(Gaussian Signal = 5.97858e-05/95.0056,Exponential Background = inf/-nan), !coefficients=(Gauss_Norm = 42622.4,exp_Norm = 185911)\n",
            "    ... (remaining 2038 messages suppressed)\n",
            "RooRealIntegral::Exponential Background_Int[M_m0][ Int Exponential Backgroundd[Ana](M_m0) ]\n",
            "     function value is NAN @ !sumList=(), !intList=(), !anaList=(M_m0 = 5262.75), !jacList=(), !facList=(), !func=Exponential Background=inf/0.737896, !sumCat=()\n",
            "RooNLLVar::nll_Full Model_Data Set[ paramSet=(Gauss_Norm,Mean,Width,exp_Norm,exponent) ]\n",
            "     function value is NAN @ paramSet=(Gauss_Norm = 42622.4,Mean = 5457.07 +/- 0.789311,Width = 45.9427 +/- 0.792902,exp_Norm = 185911,exponent = 0.173726 +/- 4.06114e-05)\n",
            "\n",
            "[#0] WARNING:Minization -- RooMinimizerFcn: Minimized function has error status.\n",
            "Returning maximum FCN so far (248104) to force MIGRAD to back out of this region. Error log follows\n",
            "Parameter values: Gauss_Norm=204505, Mean=5027.27, Width=0.616, exp_Norm=25875.3, exponent=0.0131208\n",
            "RooGaussian::Gaussian Signal[ x=M_m0 mean=Mean sigma=Width ]\n",
            "     p.d.f normalization integral is zero or negative @ x=M_m0=5155.89, mean=Mean=5027.27 +/- 0.789311, sigma=Width=0.616 +/- 0.792902\n",
            "     p.d.f normalization integral is zero or negative @ x=M_m0=5157.35, mean=Mean=5027.27 +/- 0.789311, sigma=Width=0.616 +/- 0.792902\n",
            "     p.d.f normalization integral is zero or negative @ x=M_m0=5291.7, mean=Mean=5027.27 +/- 0.789311, sigma=Width=0.616 +/- 0.792902\n",
            "     p.d.f normalization integral is zero or negative @ x=M_m0=5383, mean=Mean=5027.27 +/- 0.789311, sigma=Width=0.616 +/- 0.792902\n",
            "     p.d.f normalization integral is zero or negative @ x=M_m0=5260.82, mean=Mean=5027.27 +/- 0.789311, sigma=Width=0.616 +/- 0.792902\n",
            "     p.d.f normalization integral is zero or negative @ x=M_m0=5279.06, mean=Mean=5027.27 +/- 0.789311, sigma=Width=0.616 +/- 0.792902\n",
            "     p.d.f normalization integral is zero or negative @ x=M_m0=5277.05, mean=Mean=5027.27 +/- 0.789311, sigma=Width=0.616 +/- 0.792902\n",
            "     p.d.f normalization integral is zero or negative @ x=M_m0=5332.18, mean=Mean=5027.27 +/- 0.789311, sigma=Width=0.616 +/- 0.792902\n",
            "     p.d.f normalization integral is zero or negative @ x=M_m0=5193.81, mean=Mean=5027.27 +/- 0.789311, sigma=Width=0.616 +/- 0.792902\n",
            "     p.d.f normalization integral is zero or negative @ x=M_m0=5155.26, mean=Mean=5027.27 +/- 0.789311, sigma=Width=0.616 +/- 0.792902\n",
            "     p.d.f normalization integral is zero or negative @ x=M_m0=5178.38, mean=Mean=5027.27 +/- 0.789311, sigma=Width=0.616 +/- 0.792902\n",
            "     p.d.f normalization integral is zero or negative @ x=M_m0=5361.77, mean=Mean=5027.27 +/- 0.789311, sigma=Width=0.616 +/- 0.792902\n",
            "    ... (remaining 2038 messages suppressed)\n",
            "\n",
            "[#0] WARNING:Minization -- RooMinimizerFcn: Minimized function has error status.\n",
            "Returning maximum FCN so far (542547) to force MIGRAD to back out of this region. Error log follows\n",
            "Parameter values: Gauss_Norm=3035.41, Mean=5065.11, Width=1.23746, exp_Norm=128842, exponent=0.0730041\n",
            "RooGaussian::Gaussian Signal[ x=M_m0 mean=Mean sigma=Width ]\n",
            "     p.d.f normalization integral is zero or negative @ x=M_m0=5155.89, mean=Mean=5065.11 +/- 0.789311, sigma=Width=1.23746 +/- 0.792902\n",
            "     p.d.f normalization integral is zero or negative @ x=M_m0=5157.35, mean=Mean=5065.11 +/- 0.789311, sigma=Width=1.23746 +/- 0.792902\n",
            "     p.d.f normalization integral is zero or negative @ x=M_m0=5291.7, mean=Mean=5065.11 +/- 0.789311, sigma=Width=1.23746 +/- 0.792902\n",
            "     p.d.f normalization integral is zero or negative @ x=M_m0=5383, mean=Mean=5065.11 +/- 0.789311, sigma=Width=1.23746 +/- 0.792902\n",
            "     p.d.f normalization integral is zero or negative @ x=M_m0=5260.82, mean=Mean=5065.11 +/- 0.789311, sigma=Width=1.23746 +/- 0.792902\n",
            "     p.d.f normalization integral is zero or negative @ x=M_m0=5279.06, mean=Mean=5065.11 +/- 0.789311, sigma=Width=1.23746 +/- 0.792902\n",
            "     p.d.f normalization integral is zero or negative @ x=M_m0=5277.05, mean=Mean=5065.11 +/- 0.789311, sigma=Width=1.23746 +/- 0.792902\n",
            "     p.d.f normalization integral is zero or negative @ x=M_m0=5332.18, mean=Mean=5065.11 +/- 0.789311, sigma=Width=1.23746 +/- 0.792902\n",
            "     p.d.f normalization integral is zero or negative @ x=M_m0=5193.81, mean=Mean=5065.11 +/- 0.789311, sigma=Width=1.23746 +/- 0.792902\n",
            "     p.d.f normalization integral is zero or negative @ x=M_m0=5155.26, mean=Mean=5065.11 +/- 0.789311, sigma=Width=1.23746 +/- 0.792902\n",
            "     p.d.f normalization integral is zero or negative @ x=M_m0=5178.38, mean=Mean=5065.11 +/- 0.789311, sigma=Width=1.23746 +/- 0.792902\n",
            "     p.d.f normalization integral is zero or negative @ x=M_m0=5361.77, mean=Mean=5065.11 +/- 0.789311, sigma=Width=1.23746 +/- 0.792902\n",
            "    ... (remaining 2038 messages suppressed)\n",
            "\n",
            "[#0] WARNING:Minization -- RooMinimizerFcn: Minimized function has error status.\n",
            "Returning maximum FCN so far (542547) to force MIGRAD to back out of this region. Error log follows\n",
            "Parameter values: Gauss_Norm=43682, Mean=5035.1, Width=4.61709, exp_Norm=15378.7, exponent=0.00254509\n",
            "RooGaussian::Gaussian Signal[ x=M_m0 mean=Mean sigma=Width ]\n",
            "     p.d.f normalization integral is zero or negative @ x=M_m0=5155.89, mean=Mean=5035.1 +/- 0.789311, sigma=Width=4.61709 +/- 0.792902\n",
            "     p.d.f normalization integral is zero or negative @ x=M_m0=5157.35, mean=Mean=5035.1 +/- 0.789311, sigma=Width=4.61709 +/- 0.792902\n",
            "     p.d.f normalization integral is zero or negative @ x=M_m0=5291.7, mean=Mean=5035.1 +/- 0.789311, sigma=Width=4.61709 +/- 0.792902\n",
            "     p.d.f normalization integral is zero or negative @ x=M_m0=5383, mean=Mean=5035.1 +/- 0.789311, sigma=Width=4.61709 +/- 0.792902\n",
            "     p.d.f normalization integral is zero or negative @ x=M_m0=5260.82, mean=Mean=5035.1 +/- 0.789311, sigma=Width=4.61709 +/- 0.792902\n",
            "     p.d.f normalization integral is zero or negative @ x=M_m0=5279.06, mean=Mean=5035.1 +/- 0.789311, sigma=Width=4.61709 +/- 0.792902\n",
            "     p.d.f normalization integral is zero or negative @ x=M_m0=5277.05, mean=Mean=5035.1 +/- 0.789311, sigma=Width=4.61709 +/- 0.792902\n",
            "     p.d.f normalization integral is zero or negative @ x=M_m0=5332.18, mean=Mean=5035.1 +/- 0.789311, sigma=Width=4.61709 +/- 0.792902\n",
            "     p.d.f normalization integral is zero or negative @ x=M_m0=5193.81, mean=Mean=5035.1 +/- 0.789311, sigma=Width=4.61709 +/- 0.792902\n",
            "     p.d.f normalization integral is zero or negative @ x=M_m0=5155.26, mean=Mean=5035.1 +/- 0.789311, sigma=Width=4.61709 +/- 0.792902\n",
            "     p.d.f normalization integral is zero or negative @ x=M_m0=5178.38, mean=Mean=5035.1 +/- 0.789311, sigma=Width=4.61709 +/- 0.792902\n",
            "     p.d.f normalization integral is zero or negative @ x=M_m0=5361.77, mean=Mean=5035.1 +/- 0.789311, sigma=Width=4.61709 +/- 0.792902\n",
            "    ... (remaining 2038 messages suppressed)\n",
            "\n",
            " MINUIT WARNING IN MIGRAD  \n",
            " ============== Negative diagonal element 3 in Error Matrix\n",
            " MINUIT WARNING IN MIGRAD  \n",
            " ============== 1.02436 added to diagonal of error matrix\n",
            "[#0] WARNING:Minization -- RooMinimizerFcn: Minimized function has error status.\n",
            "Returning maximum FCN so far (542547) to force MIGRAD to back out of this region. Error log follows\n",
            "Parameter values: Gauss_Norm=9823.5, Mean=5261.57, Width=3.73585, exp_Norm=129255, exponent=1.70195\n",
            "RooAddPdf::Full Model[ Gauss_Norm * Gaussian Signal + exp_Norm * Exponential Background ]\n",
            "     p.d.f value is Not-a-Number (-nan), forcing value to zero @ !refCoefNorm=(), !pdfs=(Gaussian Signal = 0.322245/9.36439,Exponential Background = inf/-nan), !coefficients=(Gauss_Norm = 9823.5,exp_Norm = 129255)\n",
            "     getLogVal() top-level p.d.f evaluates to zero @ !refCoefNorm=(), !pdfs=(Gaussian Signal = 0.322245/9.36439,Exponential Background = inf/-nan), !coefficients=(Gauss_Norm = 9823.5,exp_Norm = 129255)\n",
            "     p.d.f value is Not-a-Number (-nan), forcing value to zero @ !refCoefNorm=(), !pdfs=(Gaussian Signal = 3.69698e-287/9.36439,Exponential Background = inf/-nan), !coefficients=(Gauss_Norm = 9823.5,exp_Norm = 129255)\n",
            "     getLogVal() top-level p.d.f evaluates to zero @ !refCoefNorm=(), !pdfs=(Gaussian Signal = 3.69698e-287/9.36439,Exponential Background = inf/-nan), !coefficients=(Gauss_Norm = 9823.5,exp_Norm = 129255)\n",
            "     p.d.f value is Not-a-Number (-nan), forcing value to zero @ !refCoefNorm=(), !pdfs=(Gaussian Signal = 2.12117e-119/9.36439,Exponential Background = inf/-nan), !coefficients=(Gauss_Norm = 9823.5,exp_Norm = 129255)\n",
            "     getLogVal() top-level p.d.f evaluates to zero @ !refCoefNorm=(), !pdfs=(Gaussian Signal = 2.12117e-119/9.36439,Exponential Background = inf/-nan), !coefficients=(Gauss_Norm = 9823.5,exp_Norm = 129255)\n",
            "     p.d.f value is Not-a-Number (-nan), forcing value to zero @ !refCoefNorm=(), !pdfs=(Gaussian Signal = 1.84617e-84/9.36439,Exponential Background = inf/-nan), !coefficients=(Gauss_Norm = 9823.5,exp_Norm = 129255)\n",
            "     getLogVal() top-level p.d.f evaluates to zero @ !refCoefNorm=(), !pdfs=(Gaussian Signal = 1.84617e-84/9.36439,Exponential Background = inf/-nan), !coefficients=(Gauss_Norm = 9823.5,exp_Norm = 129255)\n",
            "     p.d.f value is Not-a-Number (-nan), forcing value to zero @ !refCoefNorm=(), !pdfs=(Gaussian Signal = 0.666141/9.36439,Exponential Background = inf/-nan), !coefficients=(Gauss_Norm = 9823.5,exp_Norm = 129255)\n",
            "     getLogVal() top-level p.d.f evaluates to zero @ !refCoefNorm=(), !pdfs=(Gaussian Signal = 0.666141/9.36439,Exponential Background = inf/-nan), !coefficients=(Gauss_Norm = 9823.5,exp_Norm = 129255)\n",
            "     p.d.f value is Not-a-Number (-nan), forcing value to zero @ !refCoefNorm=(), !pdfs=(Gaussian Signal = 0.163105/9.36439,Exponential Background = inf/-nan), !coefficients=(Gauss_Norm = 9823.5,exp_Norm = 129255)\n",
            "     getLogVal() top-level p.d.f evaluates to zero @ !refCoefNorm=(), !pdfs=(Gaussian Signal = 0.163105/9.36439,Exponential Background = inf/-nan), !coefficients=(Gauss_Norm = 9823.5,exp_Norm = 129255)\n",
            "    ... (remaining 2038 messages suppressed)\n",
            "RooRealIntegral::Exponential Background_Int[M_m0][ Int Exponential Backgroundd[Ana](M_m0) ]\n",
            "     function value is NAN @ !sumList=(), !intList=(), !anaList=(M_m0 = 5262.75), !jacList=(), !facList=(), !func=Exponential Background=inf/0.86269, !sumCat=()\n",
            "RooNLLVar::nll_Full Model_Data Set[ paramSet=(Gauss_Norm,Mean,Width,exp_Norm,exponent) ]\n",
            "     function value is NAN @ paramSet=(Gauss_Norm = 9823.5,Mean = 5261.57 +/- 0.789311,Width = 3.73585 +/- 0.792902,exp_Norm = 129255,exponent = 1.70195 +/- 4.06114e-05)\n",
            "\n",
            "[#0] WARNING:Minization -- RooMinimizerFcn: Minimized function has error status.\n",
            "Returning maximum FCN so far (542547) to force MIGRAD to back out of this region. Error log follows\n",
            "Parameter values: Gauss_Norm=188166, Mean=5498.91, Width=11.6748, exp_Norm=55348.8, exponent=1.56197\n",
            "RooAddPdf::Full Model[ Gauss_Norm * Gaussian Signal + exp_Norm * Exponential Background ]\n",
            "     p.d.f value is Not-a-Number (-nan), forcing value to zero @ !refCoefNorm=(), !pdfs=(Gaussian Signal = 2.85902e-86/15.7203,Exponential Background = inf/-nan), !coefficients=(Gauss_Norm = 188166,exp_Norm = 55348.8)\n",
            "     getLogVal() top-level p.d.f evaluates to zero @ !refCoefNorm=(), !pdfs=(Gaussian Signal = 2.85902e-86/15.7203,Exponential Background = inf/-nan), !coefficients=(Gauss_Norm = 188166,exp_Norm = 55348.8)\n",
            "     p.d.f value is Not-a-Number (-nan), forcing value to zero @ !refCoefNorm=(), !pdfs=(Gaussian Signal = 3.42515e-17/15.7203,Exponential Background = inf/-nan), !coefficients=(Gauss_Norm = 188166,exp_Norm = 55348.8)\n",
            "     getLogVal() top-level p.d.f evaluates to zero @ !refCoefNorm=(), !pdfs=(Gaussian Signal = 3.42515e-17/15.7203,Exponential Background = inf/-nan), !coefficients=(Gauss_Norm = 188166,exp_Norm = 55348.8)\n",
            "     p.d.f value is Not-a-Number (-nan), forcing value to zero @ !refCoefNorm=(), !pdfs=(Gaussian Signal = 1.41259e-36/15.7203,Exponential Background = inf/-nan), !coefficients=(Gauss_Norm = 188166,exp_Norm = 55348.8)\n",
            "     getLogVal() top-level p.d.f evaluates to zero @ !refCoefNorm=(), !pdfs=(Gaussian Signal = 1.41259e-36/15.7203,Exponential Background = inf/-nan), !coefficients=(Gauss_Norm = 188166,exp_Norm = 55348.8)\n",
            "     p.d.f value is Not-a-Number (-nan), forcing value to zero @ !refCoefNorm=(), !pdfs=(Gaussian Signal = 1.44356e-43/15.7203,Exponential Background = inf/-nan), !coefficients=(Gauss_Norm = 188166,exp_Norm = 55348.8)\n",
            "     getLogVal() top-level p.d.f evaluates to zero @ !refCoefNorm=(), !pdfs=(Gaussian Signal = 1.44356e-43/15.7203,Exponential Background = inf/-nan), !coefficients=(Gauss_Norm = 188166,exp_Norm = 55348.8)\n",
            "     p.d.f value is Not-a-Number (-nan), forcing value to zero @ !refCoefNorm=(), !pdfs=(Gaussian Signal = 4.89839e-93/15.7203,Exponential Background = inf/-nan), !coefficients=(Gauss_Norm = 188166,exp_Norm = 55348.8)\n",
            "     getLogVal() top-level p.d.f evaluates to zero @ !refCoefNorm=(), !pdfs=(Gaussian Signal = 4.89839e-93/15.7203,Exponential Background = inf/-nan), !coefficients=(Gauss_Norm = 188166,exp_Norm = 55348.8)\n",
            "     p.d.f value is Not-a-Number (-nan), forcing value to zero @ !refCoefNorm=(), !pdfs=(Gaussian Signal = 6.21977e-96/15.7203,Exponential Background = inf/-nan), !coefficients=(Gauss_Norm = 188166,exp_Norm = 55348.8)\n",
            "     getLogVal() top-level p.d.f evaluates to zero @ !refCoefNorm=(), !pdfs=(Gaussian Signal = 6.21977e-96/15.7203,Exponential Background = inf/-nan), !coefficients=(Gauss_Norm = 188166,exp_Norm = 55348.8)\n",
            "    ... (remaining 2038 messages suppressed)\n",
            "RooRealIntegral::Exponential Background_Int[M_m0][ Int Exponential Backgroundd[Ana](M_m0) ]\n",
            "     function value is NAN @ !sumList=(), !intList=(), !anaList=(M_m0 = 5262.75), !jacList=(), !facList=(), !func=Exponential Background=inf/-nan, !sumCat=()\n",
            "RooNLLVar::nll_Full Model_Data Set[ paramSet=(Gauss_Norm,Mean,Width,exp_Norm,exponent) ]\n",
            "     function value is NAN @ paramSet=(Gauss_Norm = 188166,Mean = 5498.91 +/- 0.789311,Width = 11.6748 +/- 0.792902,exp_Norm = 55348.8,exponent = 1.56197 +/- 4.06114e-05)\n",
            "\n",
            "[#0] WARNING:Minization -- RooMinimizerFcn: Minimized function has error status.\n",
            "Returning maximum FCN so far (542547) to force MIGRAD to back out of this region. Error log follows\n",
            "Parameter values: Gauss_Norm=80049.5, Mean=5490.77, Width=9.1377, exp_Norm=29230.3, exponent=1.99405\n",
            "RooAddPdf::Full Model[ Gauss_Norm * Gaussian Signal + exp_Norm * Exponential Background ]\n",
            "     p.d.f value is Not-a-Number (-nan), forcing value to zero @ !refCoefNorm=(), !pdfs=(Gaussian Signal = 9.9693e-131/19.3272,Exponential Background = inf/-nan), !coefficients=(Gauss_Norm = 80049.5,exp_Norm = 29230.3)\n",
            "     getLogVal() top-level p.d.f evaluates to zero @ !refCoefNorm=(), !pdfs=(Gaussian Signal = 9.9693e-131/19.3272,Exponential Background = inf/-nan), !coefficients=(Gauss_Norm = 80049.5,exp_Norm = 29230.3)\n",
            "     p.d.f value is Not-a-Number (-nan), forcing value to zero @ !refCoefNorm=(), !pdfs=(Gaussian Signal = 1.79742e-23/19.3272,Exponential Background = inf/-nan), !coefficients=(Gauss_Norm = 80049.5,exp_Norm = 29230.3)\n",
            "     getLogVal() top-level p.d.f evaluates to zero @ !refCoefNorm=(), !pdfs=(Gaussian Signal = 1.79742e-23/19.3272,Exponential Background = inf/-nan), !coefficients=(Gauss_Norm = 80049.5,exp_Norm = 29230.3)\n",
            "     p.d.f value is Not-a-Number (-nan), forcing value to zero @ !refCoefNorm=(), !pdfs=(Gaussian Signal = 4.55496e-53/19.3272,Exponential Background = inf/-nan), !coefficients=(Gauss_Norm = 80049.5,exp_Norm = 29230.3)\n",
            "     getLogVal() top-level p.d.f evaluates to zero @ !refCoefNorm=(), !pdfs=(Gaussian Signal = 4.55496e-53/19.3272,Exponential Background = inf/-nan), !coefficients=(Gauss_Norm = 80049.5,exp_Norm = 29230.3)\n",
            "     p.d.f value is Not-a-Number (-nan), forcing value to zero @ !refCoefNorm=(), !pdfs=(Gaussian Signal = 6.89989e-64/19.3272,Exponential Background = inf/-nan), !coefficients=(Gauss_Norm = 80049.5,exp_Norm = 29230.3)\n",
            "     getLogVal() top-level p.d.f evaluates to zero @ !refCoefNorm=(), !pdfs=(Gaussian Signal = 6.89989e-64/19.3272,Exponential Background = inf/-nan), !coefficients=(Gauss_Norm = 80049.5,exp_Norm = 29230.3)\n",
            "     p.d.f value is Not-a-Number (-nan), forcing value to zero @ !refCoefNorm=(), !pdfs=(Gaussian Signal = 2.15912e-141/19.3272,Exponential Background = inf/-nan), !coefficients=(Gauss_Norm = 80049.5,exp_Norm = 29230.3)\n",
            "     getLogVal() top-level p.d.f evaluates to zero @ !refCoefNorm=(), !pdfs=(Gaussian Signal = 2.15912e-141/19.3272,Exponential Background = inf/-nan), !coefficients=(Gauss_Norm = 80049.5,exp_Norm = 29230.3)\n",
            "     p.d.f value is Not-a-Number (-nan), forcing value to zero @ !refCoefNorm=(), !pdfs=(Gaussian Signal = 5.82198e-146/19.3272,Exponential Background = inf/-nan), !coefficients=(Gauss_Norm = 80049.5,exp_Norm = 29230.3)\n",
            "     getLogVal() top-level p.d.f evaluates to zero @ !refCoefNorm=(), !pdfs=(Gaussian Signal = 5.82198e-146/19.3272,Exponential Background = inf/-nan), !coefficients=(Gauss_Norm = 80049.5,exp_Norm = 29230.3)\n",
            "    ... (remaining 2038 messages suppressed)\n",
            "RooRealIntegral::Exponential Background_Int[M_m0][ Int Exponential Backgroundd[Ana](M_m0) ]\n",
            "     function value is NAN @ !sumList=(), !intList=(), !anaList=(M_m0 = 5262.75), !jacList=(), !facList=(), !func=Exponential Background=inf/-nan, !sumCat=()\n",
            "RooNLLVar::nll_Full Model_Data Set[ paramSet=(Gauss_Norm,Mean,Width,exp_Norm,exponent) ]\n",
            "     function value is NAN @ paramSet=(Gauss_Norm = 80049.5,Mean = 5490.77 +/- 0.789311,Width = 9.1377 +/- 0.792902,exp_Norm = 29230.3,exponent = 1.99405 +/- 4.06114e-05)\n",
            "\n",
            "[#0] WARNING:Minization -- RooMinimizerFcn: Minimized function has error status.\n",
            "Returning maximum FCN so far (542547) to force MIGRAD to back out of this region. Error log follows\n",
            "Parameter values: Gauss_Norm=4416.11, Mean=5315.21, Width=34.6223, exp_Norm=23384, exponent=1.75736\n",
            "RooAddPdf::Full Model[ Gauss_Norm * Gaussian Signal + exp_Norm * Exponential Background ]\n",
            "     p.d.f value is Not-a-Number (-nan), forcing value to zero @ !refCoefNorm=(), !pdfs=(Gaussian Signal = 0.382178/86.7852,Exponential Background = inf/-nan), !coefficients=(Gauss_Norm = 4416.11,exp_Norm = 23384)\n",
            "     getLogVal() top-level p.d.f evaluates to zero @ !refCoefNorm=(), !pdfs=(Gaussian Signal = 0.382178/86.7852,Exponential Background = inf/-nan), !coefficients=(Gauss_Norm = 4416.11,exp_Norm = 23384)\n",
            "     p.d.f value is Not-a-Number (-nan), forcing value to zero @ !refCoefNorm=(), !pdfs=(Gaussian Signal = 0.0603625/86.7852,Exponential Background = inf/-nan), !coefficients=(Gauss_Norm = 4416.11,exp_Norm = 23384)\n",
            "     getLogVal() top-level p.d.f evaluates to zero @ !refCoefNorm=(), !pdfs=(Gaussian Signal = 0.0603625/86.7852,Exponential Background = inf/-nan), !coefficients=(Gauss_Norm = 4416.11,exp_Norm = 23384)\n",
            "     p.d.f value is Not-a-Number (-nan), forcing value to zero @ !refCoefNorm=(), !pdfs=(Gaussian Signal = 0.622821/86.7852,Exponential Background = inf/-nan), !coefficients=(Gauss_Norm = 4416.11,exp_Norm = 23384)\n",
            "     getLogVal() top-level p.d.f evaluates to zero @ !refCoefNorm=(), !pdfs=(Gaussian Signal = 0.622821/86.7852,Exponential Background = inf/-nan), !coefficients=(Gauss_Norm = 4416.11,exp_Norm = 23384)\n",
            "     p.d.f value is Not-a-Number (-nan), forcing value to zero @ !refCoefNorm=(), !pdfs=(Gaussian Signal = 0.850299/86.7852,Exponential Background = inf/-nan), !coefficients=(Gauss_Norm = 4416.11,exp_Norm = 23384)\n",
            "     getLogVal() top-level p.d.f evaluates to zero @ !refCoefNorm=(), !pdfs=(Gaussian Signal = 0.850299/86.7852,Exponential Background = inf/-nan), !coefficients=(Gauss_Norm = 4416.11,exp_Norm = 23384)\n",
            "     p.d.f value is Not-a-Number (-nan), forcing value to zero @ !refCoefNorm=(), !pdfs=(Gaussian Signal = 0.257764/86.7852,Exponential Background = inf/-nan), !coefficients=(Gauss_Norm = 4416.11,exp_Norm = 23384)\n",
            "     getLogVal() top-level p.d.f evaluates to zero @ !refCoefNorm=(), !pdfs=(Gaussian Signal = 0.257764/86.7852,Exponential Background = inf/-nan), !coefficients=(Gauss_Norm = 4416.11,exp_Norm = 23384)\n",
            "     p.d.f value is Not-a-Number (-nan), forcing value to zero @ !refCoefNorm=(), !pdfs=(Gaussian Signal = 0.214428/86.7852,Exponential Background = inf/-nan), !coefficients=(Gauss_Norm = 4416.11,exp_Norm = 23384)\n",
            "     getLogVal() top-level p.d.f evaluates to zero @ !refCoefNorm=(), !pdfs=(Gaussian Signal = 0.214428/86.7852,Exponential Background = inf/-nan), !coefficients=(Gauss_Norm = 4416.11,exp_Norm = 23384)\n",
            "    ... (remaining 2038 messages suppressed)\n",
            "RooRealIntegral::Exponential Background_Int[M_m0][ Int Exponential Backgroundd[Ana](M_m0) ]\n",
            "     function value is NAN @ !sumList=(), !intList=(), !anaList=(M_m0 = 5262.75), !jacList=(), !facList=(), !func=Exponential Background=inf/-nan, !sumCat=()\n",
            "RooNLLVar::nll_Full Model_Data Set[ paramSet=(Gauss_Norm,Mean,Width,exp_Norm,exponent) ]\n",
            "     function value is NAN @ paramSet=(Gauss_Norm = 4416.11,Mean = 5315.21 +/- 0.789311,Width = 34.6223 +/- 0.792902,exp_Norm = 23384,exponent = 1.75736 +/- 4.06114e-05)\n",
            "\n",
            "[#0] WARNING:Minization -- RooMinimizerFcn: Minimized function has error status.\n",
            "Returning maximum FCN so far (542547) to force MIGRAD to back out of this region. Error log follows\n",
            "Parameter values: Gauss_Norm=2318.08, Mean=5284.47, Width=39.5583, exp_Norm=22943.1, exponent=-0.516191\n",
            "RooExponential::Exponential Background[ x=M_m0 c=exponent ]\n",
            "     p.d.f normalization integral is zero or negative @ x=M_m0=5155.89, c=exponent=-0.516191 +/- 4.06114e-05\n",
            "     p.d.f normalization integral is zero or negative @ x=M_m0=5157.35, c=exponent=-0.516191 +/- 4.06114e-05\n",
            "     p.d.f normalization integral is zero or negative @ x=M_m0=5291.7, c=exponent=-0.516191 +/- 4.06114e-05\n",
            "     p.d.f normalization integral is zero or negative @ x=M_m0=5383, c=exponent=-0.516191 +/- 4.06114e-05\n",
            "     p.d.f normalization integral is zero or negative @ x=M_m0=5260.82, c=exponent=-0.516191 +/- 4.06114e-05\n",
            "     p.d.f normalization integral is zero or negative @ x=M_m0=5279.06, c=exponent=-0.516191 +/- 4.06114e-05\n",
            "     p.d.f normalization integral is zero or negative @ x=M_m0=5277.05, c=exponent=-0.516191 +/- 4.06114e-05\n",
            "     p.d.f normalization integral is zero or negative @ x=M_m0=5332.18, c=exponent=-0.516191 +/- 4.06114e-05\n",
            "     p.d.f normalization integral is zero or negative @ x=M_m0=5193.81, c=exponent=-0.516191 +/- 4.06114e-05\n",
            "     p.d.f normalization integral is zero or negative @ x=M_m0=5155.26, c=exponent=-0.516191 +/- 4.06114e-05\n",
            "     p.d.f normalization integral is zero or negative @ x=M_m0=5178.38, c=exponent=-0.516191 +/- 4.06114e-05\n",
            "     p.d.f normalization integral is zero or negative @ x=M_m0=5361.77, c=exponent=-0.516191 +/- 4.06114e-05\n",
            "    ... (remaining 2038 messages suppressed)\n",
            "\n",
            " MINUIT WARNING IN MIGRAD  \n",
            " ============== Negative diagonal element 3 in Error Matrix\n",
            " MINUIT WARNING IN MIGRAD  \n",
            " ============== 1.02446 added to diagonal of error matrix\n",
            "[#0] WARNING:Minization -- RooMinimizerFcn: Minimized function has error status.\n",
            "Returning maximum FCN so far (542547) to force MIGRAD to back out of this region. Error log follows\n",
            "Parameter values: Gauss_Norm=13484.2, Mean=5005.04, Width=12.5782, exp_Norm=83529.3, exponent=-1.98414\n",
            "RooAddPdf::Full Model[ Gauss_Norm * Gaussian Signal + exp_Norm * Exponential Background ]\n",
            "     getLogVal() top-level p.d.f evaluates to zero @ !refCoefNorm=(), !pdfs=(Gaussian Signal = 0/6.87831e-13,Exponential Background = 0/-0), !coefficients=(Gauss_Norm = 13484.2,exp_Norm = 83529.3)\n",
            "     getLogVal() top-level p.d.f evaluates to zero @ !refCoefNorm=(), !pdfs=(Gaussian Signal = 0/6.87831e-13,Exponential Background = 0/-0), !coefficients=(Gauss_Norm = 13484.2,exp_Norm = 83529.3)\n",
            "     getLogVal() top-level p.d.f evaluates to zero @ !refCoefNorm=(), !pdfs=(Gaussian Signal = 0/6.87831e-13,Exponential Background = 0/-0), !coefficients=(Gauss_Norm = 13484.2,exp_Norm = 83529.3)\n",
            "     getLogVal() top-level p.d.f evaluates to zero @ !refCoefNorm=(), !pdfs=(Gaussian Signal = 0/6.87831e-13,Exponential Background = 0/-0), !coefficients=(Gauss_Norm = 13484.2,exp_Norm = 83529.3)\n",
            "     getLogVal() top-level p.d.f evaluates to zero @ !refCoefNorm=(), !pdfs=(Gaussian Signal = 0/6.87831e-13,Exponential Background = 0/-0), !coefficients=(Gauss_Norm = 13484.2,exp_Norm = 83529.3)\n",
            "     getLogVal() top-level p.d.f evaluates to zero @ !refCoefNorm=(), !pdfs=(Gaussian Signal = 0/6.87831e-13,Exponential Background = 0/-0), !coefficients=(Gauss_Norm = 13484.2,exp_Norm = 83529.3)\n",
            "     getLogVal() top-level p.d.f evaluates to zero @ !refCoefNorm=(), !pdfs=(Gaussian Signal = 0/6.87831e-13,Exponential Background = 0/-0), !coefficients=(Gauss_Norm = 13484.2,exp_Norm = 83529.3)\n",
            "     getLogVal() top-level p.d.f evaluates to zero @ !refCoefNorm=(), !pdfs=(Gaussian Signal = 0/6.87831e-13,Exponential Background = 0/-0), !coefficients=(Gauss_Norm = 13484.2,exp_Norm = 83529.3)\n",
            "     getLogVal() top-level p.d.f evaluates to zero @ !refCoefNorm=(), !pdfs=(Gaussian Signal = 0/6.87831e-13,Exponential Background = 0/-0), !coefficients=(Gauss_Norm = 13484.2,exp_Norm = 83529.3)\n",
            "     getLogVal() top-level p.d.f evaluates to zero @ !refCoefNorm=(), !pdfs=(Gaussian Signal = 0/6.87831e-13,Exponential Background = 0/-0), !coefficients=(Gauss_Norm = 13484.2,exp_Norm = 83529.3)\n",
            "     getLogVal() top-level p.d.f evaluates to zero @ !refCoefNorm=(), !pdfs=(Gaussian Signal = 0/6.87831e-13,Exponential Background = 0/-0), !coefficients=(Gauss_Norm = 13484.2,exp_Norm = 83529.3)\n",
            "     getLogVal() top-level p.d.f evaluates to zero @ !refCoefNorm=(), !pdfs=(Gaussian Signal = 0/6.87831e-13,Exponential Background = 0/-0), !coefficients=(Gauss_Norm = 13484.2,exp_Norm = 83529.3)\n",
            "    ... (remaining 479 messages suppressed)\n",
            "RooExponential::Exponential Background[ x=M_m0 c=exponent ]\n",
            "     p.d.f normalization integral is zero or negative @ x=M_m0=5155.89, c=exponent=-1.98414 +/- 4.06114e-05\n",
            "     p.d.f normalization integral is zero or negative @ x=M_m0=5157.35, c=exponent=-1.98414 +/- 4.06114e-05\n",
            "     p.d.f normalization integral is zero or negative @ x=M_m0=5291.7, c=exponent=-1.98414 +/- 4.06114e-05\n",
            "     p.d.f normalization integral is zero or negative @ x=M_m0=5383, c=exponent=-1.98414 +/- 4.06114e-05\n",
            "     p.d.f normalization integral is zero or negative @ x=M_m0=5260.82, c=exponent=-1.98414 +/- 4.06114e-05\n",
            "     p.d.f normalization integral is zero or negative @ x=M_m0=5279.06, c=exponent=-1.98414 +/- 4.06114e-05\n",
            "     p.d.f normalization integral is zero or negative @ x=M_m0=5277.05, c=exponent=-1.98414 +/- 4.06114e-05\n",
            "     p.d.f normalization integral is zero or negative @ x=M_m0=5332.18, c=exponent=-1.98414 +/- 4.06114e-05\n",
            "     p.d.f normalization integral is zero or negative @ x=M_m0=5193.81, c=exponent=-1.98414 +/- 4.06114e-05\n",
            "     p.d.f normalization integral is zero or negative @ x=M_m0=5155.26, c=exponent=-1.98414 +/- 4.06114e-05\n",
            "     p.d.f normalization integral is zero or negative @ x=M_m0=5178.38, c=exponent=-1.98414 +/- 4.06114e-05\n",
            "     p.d.f normalization integral is zero or negative @ x=M_m0=5361.77, c=exponent=-1.98414 +/- 4.06114e-05\n",
            "    ... (remaining 2038 messages suppressed)\n",
            "RooNLLVar::nll_Full Model_Data Set[ paramSet=(Gauss_Norm,Mean,Width,exp_Norm,exponent) ]\n",
            "     function value is NAN @ paramSet=(Gauss_Norm = 13484.2,Mean = 5005.04 +/- 0.789311,Width = 12.5782 +/- 0.792902,exp_Norm = 83529.3,exponent = -1.98414 +/- 4.06114e-05)\n",
            "\n",
            "[#0] WARNING:Minization -- RooMinimizerFcn: Minimized function has error status.\n",
            "Returning maximum FCN so far (542547) to force MIGRAD to back out of this region. Error log follows\n",
            "Parameter values: Gauss_Norm=268811, Mean=5350.03, Width=11.5238, exp_Norm=2759.46, exponent=-1.3808\n",
            "RooExponential::Exponential Background[ x=M_m0 c=exponent ]\n",
            "     p.d.f normalization integral is zero or negative @ x=M_m0=5155.89, c=exponent=-1.3808 +/- 4.06114e-05\n",
            "     p.d.f normalization integral is zero or negative @ x=M_m0=5157.35, c=exponent=-1.3808 +/- 4.06114e-05\n",
            "     p.d.f normalization integral is zero or negative @ x=M_m0=5291.7, c=exponent=-1.3808 +/- 4.06114e-05\n",
            "     p.d.f normalization integral is zero or negative @ x=M_m0=5383, c=exponent=-1.3808 +/- 4.06114e-05\n",
            "     p.d.f normalization integral is zero or negative @ x=M_m0=5260.82, c=exponent=-1.3808 +/- 4.06114e-05\n",
            "     p.d.f normalization integral is zero or negative @ x=M_m0=5279.06, c=exponent=-1.3808 +/- 4.06114e-05\n",
            "     p.d.f normalization integral is zero or negative @ x=M_m0=5277.05, c=exponent=-1.3808 +/- 4.06114e-05\n",
            "     p.d.f normalization integral is zero or negative @ x=M_m0=5332.18, c=exponent=-1.3808 +/- 4.06114e-05\n",
            "     p.d.f normalization integral is zero or negative @ x=M_m0=5193.81, c=exponent=-1.3808 +/- 4.06114e-05\n",
            "     p.d.f normalization integral is zero or negative @ x=M_m0=5155.26, c=exponent=-1.3808 +/- 4.06114e-05\n",
            "     p.d.f normalization integral is zero or negative @ x=M_m0=5178.38, c=exponent=-1.3808 +/- 4.06114e-05\n",
            "     p.d.f normalization integral is zero or negative @ x=M_m0=5361.77, c=exponent=-1.3808 +/- 4.06114e-05\n",
            "    ... (remaining 2038 messages suppressed)\n",
            "\n",
            "[#0] WARNING:Minization -- RooMinimizerFcn: Minimized function has error status.\n",
            "Returning maximum FCN so far (542547) to force MIGRAD to back out of this region. Error log follows\n",
            "Parameter values: Gauss_Norm=256524, Mean=5081.23, Width=13.8157, exp_Norm=85141.5, exponent=1.71471\n",
            "RooAddPdf::Full Model[ Gauss_Norm * Gaussian Signal + exp_Norm * Exponential Background ]\n",
            "     p.d.f value is Not-a-Number (-nan), forcing value to zero @ !refCoefNorm=(), !pdfs=(Gaussian Signal = 4.54674e-40/3.01577,Exponential Background = inf/-nan), !coefficients=(Gauss_Norm = 256524,exp_Norm = 85141.5)\n",
            "     getLogVal() top-level p.d.f evaluates to zero @ !refCoefNorm=(), !pdfs=(Gaussian Signal = 4.54674e-40/3.01577,Exponential Background = inf/-nan), !coefficients=(Gauss_Norm = 256524,exp_Norm = 85141.5)\n",
            "     p.d.f value is Not-a-Number (-nan), forcing value to zero @ !refCoefNorm=(), !pdfs=(Gaussian Signal = 2.41478e-114/3.01577,Exponential Background = inf/-nan), !coefficients=(Gauss_Norm = 256524,exp_Norm = 85141.5)\n",
            "     getLogVal() top-level p.d.f evaluates to zero @ !refCoefNorm=(), !pdfs=(Gaussian Signal = 2.41478e-114/3.01577,Exponential Background = inf/-nan), !coefficients=(Gauss_Norm = 256524,exp_Norm = 85141.5)\n",
            "     p.d.f value is Not-a-Number (-nan), forcing value to zero @ !refCoefNorm=(), !pdfs=(Gaussian Signal = 3.07169e-82/3.01577,Exponential Background = inf/-nan), !coefficients=(Gauss_Norm = 256524,exp_Norm = 85141.5)\n",
            "     getLogVal() top-level p.d.f evaluates to zero @ !refCoefNorm=(), !pdfs=(Gaussian Signal = 3.07169e-82/3.01577,Exponential Background = inf/-nan), !coefficients=(Gauss_Norm = 256524,exp_Norm = 85141.5)\n",
            "     p.d.f value is Not-a-Number (-nan), forcing value to zero @ !refCoefNorm=(), !pdfs=(Gaussian Signal = 5.97438e-74/3.01577,Exponential Background = inf/-nan), !coefficients=(Gauss_Norm = 256524,exp_Norm = 85141.5)\n",
            "     getLogVal() top-level p.d.f evaluates to zero @ !refCoefNorm=(), !pdfs=(Gaussian Signal = 5.97438e-74/3.01577,Exponential Background = inf/-nan), !coefficients=(Gauss_Norm = 256524,exp_Norm = 85141.5)\n",
            "     p.d.f value is Not-a-Number (-nan), forcing value to zero @ !refCoefNorm=(), !pdfs=(Gaussian Signal = 2.3415e-36/3.01577,Exponential Background = inf/-nan), !coefficients=(Gauss_Norm = 256524,exp_Norm = 85141.5)\n",
            "     getLogVal() top-level p.d.f evaluates to zero @ !refCoefNorm=(), !pdfs=(Gaussian Signal = 2.3415e-36/3.01577,Exponential Background = inf/-nan), !coefficients=(Gauss_Norm = 256524,exp_Norm = 85141.5)\n",
            "     p.d.f value is Not-a-Number (-nan), forcing value to zero @ !refCoefNorm=(), !pdfs=(Gaussian Signal = 7.28342e-35/3.01577,Exponential Background = inf/-nan), !coefficients=(Gauss_Norm = 256524,exp_Norm = 85141.5)\n",
            "     getLogVal() top-level p.d.f evaluates to zero @ !refCoefNorm=(), !pdfs=(Gaussian Signal = 7.28342e-35/3.01577,Exponential Background = inf/-nan), !coefficients=(Gauss_Norm = 256524,exp_Norm = 85141.5)\n",
            "    ... (remaining 2038 messages suppressed)\n",
            "RooRealIntegral::Exponential Background_Int[M_m0][ Int Exponential Backgroundd[Ana](M_m0) ]\n",
            "     function value is NAN @ !sumList=(), !intList=(), !anaList=(M_m0 = 5262.75), !jacList=(), !facList=(), !func=Exponential Background=inf/-0, !sumCat=()\n",
            "RooNLLVar::nll_Full Model_Data Set[ paramSet=(Gauss_Norm,Mean,Width,exp_Norm,exponent) ]\n",
            "     function value is NAN @ paramSet=(Gauss_Norm = 256524,Mean = 5081.23 +/- 0.789311,Width = 13.8157 +/- 0.792902,exp_Norm = 85141.5,exponent = 1.71471 +/- 4.06114e-05)\n",
            "\n",
            "[#0] WARNING:Minization -- RooMinimizerFcn: Minimized function has error status.\n",
            "Returning maximum FCN so far (542547) to force MIGRAD to back out of this region. Error log follows\n",
            "Parameter values: Gauss_Norm=4945.93, Mean=5003.91, Width=21.0173, exp_Norm=184249, exponent=-1.9868\n",
            "RooExponential::Exponential Background[ x=M_m0 c=exponent ]\n",
            "     p.d.f normalization integral is zero or negative @ x=M_m0=5155.89, c=exponent=-1.9868 +/- 4.06114e-05\n",
            "     p.d.f normalization integral is zero or negative @ x=M_m0=5157.35, c=exponent=-1.9868 +/- 4.06114e-05\n",
            "     p.d.f normalization integral is zero or negative @ x=M_m0=5291.7, c=exponent=-1.9868 +/- 4.06114e-05\n",
            "     p.d.f normalization integral is zero or negative @ x=M_m0=5383, c=exponent=-1.9868 +/- 4.06114e-05\n",
            "     p.d.f normalization integral is zero or negative @ x=M_m0=5260.82, c=exponent=-1.9868 +/- 4.06114e-05\n",
            "     p.d.f normalization integral is zero or negative @ x=M_m0=5279.06, c=exponent=-1.9868 +/- 4.06114e-05\n",
            "     p.d.f normalization integral is zero or negative @ x=M_m0=5277.05, c=exponent=-1.9868 +/- 4.06114e-05\n",
            "     p.d.f normalization integral is zero or negative @ x=M_m0=5332.18, c=exponent=-1.9868 +/- 4.06114e-05\n",
            "     p.d.f normalization integral is zero or negative @ x=M_m0=5193.81, c=exponent=-1.9868 +/- 4.06114e-05\n",
            "     p.d.f normalization integral is zero or negative @ x=M_m0=5155.26, c=exponent=-1.9868 +/- 4.06114e-05\n",
            "     p.d.f normalization integral is zero or negative @ x=M_m0=5178.38, c=exponent=-1.9868 +/- 4.06114e-05\n",
            "     p.d.f normalization integral is zero or negative @ x=M_m0=5361.77, c=exponent=-1.9868 +/- 4.06114e-05\n",
            "    ... (remaining 2038 messages suppressed)\n",
            "\n",
            "[#0] WARNING:Minization -- RooMinimizerFcn: Minimized function has error status.\n",
            "Returning maximum FCN so far (542547) to force MIGRAD to back out of this region. Error log follows\n",
            "Parameter values: Gauss_Norm=283258, Mean=5291.62, Width=14.5873, exp_Norm=100576, exponent=0.571759\n",
            "RooAddPdf::Full Model[ Gauss_Norm * Gaussian Signal + exp_Norm * Exponential Background ]\n",
            "     p.d.f value is Not-a-Number (-nan), forcing value to zero @ !refCoefNorm=(), !pdfs=(Gaussian Signal = 0.245932/36.565,Exponential Background = inf/-nan), !coefficients=(Gauss_Norm = 283258,exp_Norm = 100576)\n",
            "     getLogVal() top-level p.d.f evaluates to zero @ !refCoefNorm=(), !pdfs=(Gaussian Signal = 0.245932/36.565,Exponential Background = inf/-nan), !coefficients=(Gauss_Norm = 283258,exp_Norm = 100576)\n",
            "     p.d.f value is Not-a-Number (-nan), forcing value to zero @ !refCoefNorm=(), !pdfs=(Gaussian Signal = 4.1158e-12/36.565,Exponential Background = inf/-nan), !coefficients=(Gauss_Norm = 283258,exp_Norm = 100576)\n",
            "     getLogVal() top-level p.d.f evaluates to zero @ !refCoefNorm=(), !pdfs=(Gaussian Signal = 4.1158e-12/36.565,Exponential Background = inf/-nan), !coefficients=(Gauss_Norm = 283258,exp_Norm = 100576)\n",
            "     p.d.f value is Not-a-Number (-nan), forcing value to zero @ !refCoefNorm=(), !pdfs=(Gaussian Signal = 0.000448556/36.565,Exponential Background = inf/-nan), !coefficients=(Gauss_Norm = 283258,exp_Norm = 100576)\n",
            "     getLogVal() top-level p.d.f evaluates to zero @ !refCoefNorm=(), !pdfs=(Gaussian Signal = 0.000448556/36.565,Exponential Background = inf/-nan), !coefficients=(Gauss_Norm = 283258,exp_Norm = 100576)\n",
            "     p.d.f value is Not-a-Number (-nan), forcing value to zero @ !refCoefNorm=(), !pdfs=(Gaussian Signal = 0.0121966/36.565,Exponential Background = inf/-nan), !coefficients=(Gauss_Norm = 283258,exp_Norm = 100576)\n",
            "     getLogVal() top-level p.d.f evaluates to zero @ !refCoefNorm=(), !pdfs=(Gaussian Signal = 0.0121966/36.565,Exponential Background = inf/-nan), !coefficients=(Gauss_Norm = 283258,exp_Norm = 100576)\n",
            "     p.d.f value is Not-a-Number (-nan), forcing value to zero @ !refCoefNorm=(), !pdfs=(Gaussian Signal = 0.072454/36.565,Exponential Background = inf/-nan), !coefficients=(Gauss_Norm = 283258,exp_Norm = 100576)\n",
            "     getLogVal() top-level p.d.f evaluates to zero @ !refCoefNorm=(), !pdfs=(Gaussian Signal = 0.072454/36.565,Exponential Background = inf/-nan), !coefficients=(Gauss_Norm = 283258,exp_Norm = 100576)\n",
            "     p.d.f value is Not-a-Number (-nan), forcing value to zero @ !refCoefNorm=(), !pdfs=(Gaussian Signal = 0.0389164/36.565,Exponential Background = inf/-nan), !coefficients=(Gauss_Norm = 283258,exp_Norm = 100576)\n",
            "     getLogVal() top-level p.d.f evaluates to zero @ !refCoefNorm=(), !pdfs=(Gaussian Signal = 0.0389164/36.565,Exponential Background = inf/-nan), !coefficients=(Gauss_Norm = 283258,exp_Norm = 100576)\n",
            "    ... (remaining 2038 messages suppressed)\n",
            "RooRealIntegral::Exponential Background_Int[M_m0][ Int Exponential Backgroundd[Ana](M_m0) ]\n",
            "     function value is NAN @ !sumList=(), !intList=(), !anaList=(M_m0 = 5262.75), !jacList=(), !facList=(), !func=Exponential Background=inf/-0, !sumCat=()\n",
            "RooNLLVar::nll_Full Model_Data Set[ paramSet=(Gauss_Norm,Mean,Width,exp_Norm,exponent) ]\n",
            "     function value is NAN @ paramSet=(Gauss_Norm = 283258,Mean = 5291.62 +/- 0.789311,Width = 14.5873 +/- 0.792902,exp_Norm = 100576,exponent = 0.571759 +/- 4.06114e-05)\n",
            "\n",
            "[#0] WARNING:Minization -- RooMinimizerFcn: Minimized function has error status.\n",
            "Returning maximum FCN so far (542547) to force MIGRAD to back out of this region. Error log follows\n",
            "Parameter values: Gauss_Norm=2418.09, Mean=5282.84, Width=33.9992, exp_Norm=22253.3, exponent=0.507536\n",
            "RooAddPdf::Full Model[ Gauss_Norm * Gaussian Signal + exp_Norm * Exponential Background ]\n",
            "     p.d.f value is Not-a-Number (-nan), forcing value to zero @ !refCoefNorm=(), !pdfs=(Gaussian Signal = 0.89947/85.2235,Exponential Background = inf/-nan), !coefficients=(Gauss_Norm = 2418.09,exp_Norm = 22253.3)\n",
            "     getLogVal() top-level p.d.f evaluates to zero @ !refCoefNorm=(), !pdfs=(Gaussian Signal = 0.89947/85.2235,Exponential Background = inf/-nan), !coefficients=(Gauss_Norm = 2418.09,exp_Norm = 22253.3)\n",
            "     p.d.f value is Not-a-Number (-nan), forcing value to zero @ !refCoefNorm=(), !pdfs=(Gaussian Signal = 0.00347626/85.2235,Exponential Background = inf/-nan), !coefficients=(Gauss_Norm = 2418.09,exp_Norm = 22253.3)\n",
            "     getLogVal() top-level p.d.f evaluates to zero @ !refCoefNorm=(), !pdfs=(Gaussian Signal = 0.00347626/85.2235,Exponential Background = inf/-nan), !coefficients=(Gauss_Norm = 2418.09,exp_Norm = 22253.3)\n",
            "     p.d.f value is Not-a-Number (-nan), forcing value to zero @ !refCoefNorm=(), !pdfs=(Gaussian Signal = 0.151417/85.2235,Exponential Background = inf/-nan), !coefficients=(Gauss_Norm = 2418.09,exp_Norm = 22253.3)\n",
            "     getLogVal() top-level p.d.f evaluates to zero @ !refCoefNorm=(), !pdfs=(Gaussian Signal = 0.151417/85.2235,Exponential Background = inf/-nan), !coefficients=(Gauss_Norm = 2418.09,exp_Norm = 22253.3)\n",
            "     p.d.f value is Not-a-Number (-nan), forcing value to zero @ !refCoefNorm=(), !pdfs=(Gaussian Signal = 0.309269/85.2235,Exponential Background = inf/-nan), !coefficients=(Gauss_Norm = 2418.09,exp_Norm = 22253.3)\n",
            "     getLogVal() top-level p.d.f evaluates to zero @ !refCoefNorm=(), !pdfs=(Gaussian Signal = 0.309269/85.2235,Exponential Background = inf/-nan), !coefficients=(Gauss_Norm = 2418.09,exp_Norm = 22253.3)\n",
            "     p.d.f value is Not-a-Number (-nan), forcing value to zero @ !refCoefNorm=(), !pdfs=(Gaussian Signal = 0.769034/85.2235,Exponential Background = inf/-nan), !coefficients=(Gauss_Norm = 2418.09,exp_Norm = 22253.3)\n",
            "     getLogVal() top-level p.d.f evaluates to zero @ !refCoefNorm=(), !pdfs=(Gaussian Signal = 0.769034/85.2235,Exponential Background = inf/-nan), !coefficients=(Gauss_Norm = 2418.09,exp_Norm = 22253.3)\n",
            "     p.d.f value is Not-a-Number (-nan), forcing value to zero @ !refCoefNorm=(), !pdfs=(Gaussian Signal = 0.705699/85.2235,Exponential Background = inf/-nan), !coefficients=(Gauss_Norm = 2418.09,exp_Norm = 22253.3)\n",
            "     getLogVal() top-level p.d.f evaluates to zero @ !refCoefNorm=(), !pdfs=(Gaussian Signal = 0.705699/85.2235,Exponential Background = inf/-nan), !coefficients=(Gauss_Norm = 2418.09,exp_Norm = 22253.3)\n",
            "    ... (remaining 2038 messages suppressed)\n",
            "RooRealIntegral::Exponential Background_Int[M_m0][ Int Exponential Backgroundd[Ana](M_m0) ]\n",
            "     function value is NAN @ !sumList=(), !intList=(), !anaList=(M_m0 = 5262.75), !jacList=(), !facList=(), !func=Exponential Background=inf/6.67224e+234, !sumCat=()\n",
            "RooNLLVar::nll_Full Model_Data Set[ paramSet=(Gauss_Norm,Mean,Width,exp_Norm,exponent) ]\n",
            "     function value is NAN @ paramSet=(Gauss_Norm = 2418.09,Mean = 5282.84 +/- 0.789311,Width = 33.9992 +/- 0.792902,exp_Norm = 22253.3,exponent = 0.507536 +/- 4.06114e-05)\n",
            "\n",
            "[#0] WARNING:Minization -- RooMinimizerFcn: Minimized function has error status.\n",
            "Returning maximum FCN so far (542547) to force MIGRAD to back out of this region. Error log follows\n",
            "Parameter values: Gauss_Norm=2888.52, Mean=5129.9, Width=12.3267, exp_Norm=89387.7, exponent=0.207832\n",
            "RooAddPdf::Full Model[ Gauss_Norm * Gaussian Signal + exp_Norm * Exponential Background ]\n",
            "     p.d.f value is Not-a-Number (-nan), forcing value to zero @ !refCoefNorm=(), !pdfs=(Gaussian Signal = 1.16377e-27/30.6625,Exponential Background = inf/-nan), !coefficients=(Gauss_Norm = 2888.52,exp_Norm = 89387.7)\n",
            "     getLogVal() top-level p.d.f evaluates to zero @ !refCoefNorm=(), !pdfs=(Gaussian Signal = 1.16377e-27/30.6625,Exponential Background = inf/-nan), !coefficients=(Gauss_Norm = 2888.52,exp_Norm = 89387.7)\n",
            "     p.d.f value is Not-a-Number (-nan), forcing value to zero @ !refCoefNorm=(), !pdfs=(Gaussian Signal = 7.21045e-103/30.6625,Exponential Background = inf/-nan), !coefficients=(Gauss_Norm = 2888.52,exp_Norm = 89387.7)\n",
            "     getLogVal() top-level p.d.f evaluates to zero @ !refCoefNorm=(), !pdfs=(Gaussian Signal = 7.21045e-103/30.6625,Exponential Background = inf/-nan), !coefficients=(Gauss_Norm = 2888.52,exp_Norm = 89387.7)\n",
            "     p.d.f value is Not-a-Number (-nan), forcing value to zero @ !refCoefNorm=(), !pdfs=(Gaussian Signal = 2.88909e-69/30.6625,Exponential Background = inf/-nan), !coefficients=(Gauss_Norm = 2888.52,exp_Norm = 89387.7)\n",
            "     getLogVal() top-level p.d.f evaluates to zero @ !refCoefNorm=(), !pdfs=(Gaussian Signal = 2.88909e-69/30.6625,Exponential Background = inf/-nan), !coefficients=(Gauss_Norm = 2888.52,exp_Norm = 89387.7)\n",
            "     p.d.f value is Not-a-Number (-nan), forcing value to zero @ !refCoefNorm=(), !pdfs=(Gaussian Signal = 8.49014e-61/30.6625,Exponential Background = inf/-nan), !coefficients=(Gauss_Norm = 2888.52,exp_Norm = 89387.7)\n",
            "     getLogVal() top-level p.d.f evaluates to zero @ !refCoefNorm=(), !pdfs=(Gaussian Signal = 8.49014e-61/30.6625,Exponential Background = inf/-nan), !coefficients=(Gauss_Norm = 2888.52,exp_Norm = 89387.7)\n",
            "     p.d.f value is Not-a-Number (-nan), forcing value to zero @ !refCoefNorm=(), !pdfs=(Gaussian Signal = 3.00484e-24/30.6625,Exponential Background = inf/-nan), !coefficients=(Gauss_Norm = 2888.52,exp_Norm = 89387.7)\n",
            "     getLogVal() top-level p.d.f evaluates to zero @ !refCoefNorm=(), !pdfs=(Gaussian Signal = 3.00484e-24/30.6625,Exponential Background = inf/-nan), !coefficients=(Gauss_Norm = 2888.52,exp_Norm = 89387.7)\n",
            "     p.d.f value is Not-a-Number (-nan), forcing value to zero @ !refCoefNorm=(), !pdfs=(Gaussian Signal = 6.78851e-23/30.6625,Exponential Background = inf/-nan), !coefficients=(Gauss_Norm = 2888.52,exp_Norm = 89387.7)\n",
            "     getLogVal() top-level p.d.f evaluates to zero @ !refCoefNorm=(), !pdfs=(Gaussian Signal = 6.78851e-23/30.6625,Exponential Background = inf/-nan), !coefficients=(Gauss_Norm = 2888.52,exp_Norm = 89387.7)\n",
            "    ... (remaining 2038 messages suppressed)\n",
            "RooRealIntegral::Exponential Background_Int[M_m0][ Int Exponential Backgroundd[Ana](M_m0) ]\n",
            "     function value is NAN @ !sumList=(), !intList=(), !anaList=(M_m0 = 5262.75), !jacList=(), !facList=(), !func=Exponential Background=inf/0.707382, !sumCat=()\n",
            "RooNLLVar::nll_Full Model_Data Set[ paramSet=(Gauss_Norm,Mean,Width,exp_Norm,exponent) ]\n",
            "     function value is NAN @ paramSet=(Gauss_Norm = 2888.52,Mean = 5129.9 +/- 0.789311,Width = 12.3267 +/- 0.792902,exp_Norm = 89387.7,exponent = 0.207832 +/- 4.06114e-05)\n",
            "\n",
            "[#0] WARNING:Minization -- RooMinimizerFcn: Minimized function has error status.\n",
            "Returning maximum FCN so far (542547) to force MIGRAD to back out of this region. Error log follows\n",
            "Parameter values: Gauss_Norm=72869.8, Mean=5255.55, Width=2.31132, exp_Norm=98653.7, exponent=0.171524\n",
            "RooAddPdf::Full Model[ Gauss_Norm * Gaussian Signal + exp_Norm * Exponential Background ]\n",
            "     p.d.f value is Not-a-Number (-nan), forcing value to zero @ !refCoefNorm=(), !pdfs=(Gaussian Signal = 3.10448e-06/5.79363,Exponential Background = inf/-nan), !coefficients=(Gauss_Norm = 72869.8,exp_Norm = 98653.7)\n",
            "     getLogVal() top-level p.d.f evaluates to zero @ !refCoefNorm=(), !pdfs=(Gaussian Signal = 3.10448e-06/5.79363,Exponential Background = inf/-nan), !coefficients=(Gauss_Norm = 72869.8,exp_Norm = 98653.7)\n",
            "     p.d.f value is Not-a-Number (-nan), forcing value to zero @ !refCoefNorm=(), !pdfs=(Gaussian Signal = 0/5.79363,Exponential Background = inf/-nan), !coefficients=(Gauss_Norm = 72869.8,exp_Norm = 98653.7)\n",
            "     getLogVal() top-level p.d.f evaluates to zero @ !refCoefNorm=(), !pdfs=(Gaussian Signal = 0/5.79363,Exponential Background = inf/-nan), !coefficients=(Gauss_Norm = 72869.8,exp_Norm = 98653.7)\n",
            "     p.d.f value is Not-a-Number (-nan), forcing value to zero @ !refCoefNorm=(), !pdfs=(Gaussian Signal = 0/5.79363,Exponential Background = inf/-nan), !coefficients=(Gauss_Norm = 72869.8,exp_Norm = 98653.7)\n",
            "     getLogVal() top-level p.d.f evaluates to zero @ !refCoefNorm=(), !pdfs=(Gaussian Signal = 0/5.79363,Exponential Background = inf/-nan), !coefficients=(Gauss_Norm = 72869.8,exp_Norm = 98653.7)\n",
            "     p.d.f value is Not-a-Number (-nan), forcing value to zero @ !refCoefNorm=(), !pdfs=(Gaussian Signal = 7.57719e-257/5.79363,Exponential Background = inf/-nan), !coefficients=(Gauss_Norm = 72869.8,exp_Norm = 98653.7)\n",
            "     getLogVal() top-level p.d.f evaluates to zero @ !refCoefNorm=(), !pdfs=(Gaussian Signal = 7.57719e-257/5.79363,Exponential Background = inf/-nan), !coefficients=(Gauss_Norm = 72869.8,exp_Norm = 98653.7)\n",
            "     p.d.f value is Not-a-Number (-nan), forcing value to zero @ !refCoefNorm=(), !pdfs=(Gaussian Signal = 0.518008/5.79363,Exponential Background = inf/-nan), !coefficients=(Gauss_Norm = 72869.8,exp_Norm = 98653.7)\n",
            "     getLogVal() top-level p.d.f evaluates to zero @ !refCoefNorm=(), !pdfs=(Gaussian Signal = 0.518008/5.79363,Exponential Background = inf/-nan), !coefficients=(Gauss_Norm = 72869.8,exp_Norm = 98653.7)\n",
            "     p.d.f value is Not-a-Number (-nan), forcing value to zero @ !refCoefNorm=(), !pdfs=(Gaussian Signal = 0.893651/5.79363,Exponential Background = inf/-nan), !coefficients=(Gauss_Norm = 72869.8,exp_Norm = 98653.7)\n",
            "     getLogVal() top-level p.d.f evaluates to zero @ !refCoefNorm=(), !pdfs=(Gaussian Signal = 0.893651/5.79363,Exponential Background = inf/-nan), !coefficients=(Gauss_Norm = 72869.8,exp_Norm = 98653.7)\n",
            "    ... (remaining 2038 messages suppressed)\n",
            "RooRealIntegral::Exponential Background_Int[M_m0][ Int Exponential Backgroundd[Ana](M_m0) ]\n",
            "     function value is NAN @ !sumList=(), !intList=(), !anaList=(M_m0 = 5262.75), !jacList=(), !facList=(), !func=Exponential Background=inf/0.749371, !sumCat=()\n",
            "RooNLLVar::nll_Full Model_Data Set[ paramSet=(Gauss_Norm,Mean,Width,exp_Norm,exponent) ]\n",
            "     function value is NAN @ paramSet=(Gauss_Norm = 72869.8,Mean = 5255.55 +/- 0.789311,Width = 2.31132 +/- 0.792902,exp_Norm = 98653.7,exponent = 0.171524 +/- 4.06114e-05)\n",
            "\n",
            "[#0] WARNING:Minization -- RooMinimizerFcn: Minimized function has error status.\n",
            "Returning maximum FCN so far (542547) to force MIGRAD to back out of this region. Error log follows\n",
            "Parameter values: Gauss_Norm=258320, Mean=5030.32, Width=5.6804, exp_Norm=4496.75, exponent=0.12173\n",
            "RooGaussian::Gaussian Signal[ x=M_m0 mean=Mean sigma=Width ]\n",
            "     p.d.f normalization integral is zero or negative @ x=M_m0=5155.89, mean=Mean=5030.32 +/- 0.789311, sigma=Width=5.6804 +/- 0.792902\n",
            "     p.d.f normalization integral is zero or negative @ x=M_m0=5157.35, mean=Mean=5030.32 +/- 0.789311, sigma=Width=5.6804 +/- 0.792902\n",
            "     p.d.f normalization integral is zero or negative @ x=M_m0=5291.7, mean=Mean=5030.32 +/- 0.789311, sigma=Width=5.6804 +/- 0.792902\n",
            "     p.d.f normalization integral is zero or negative @ x=M_m0=5383, mean=Mean=5030.32 +/- 0.789311, sigma=Width=5.6804 +/- 0.792902\n",
            "     p.d.f normalization integral is zero or negative @ x=M_m0=5260.82, mean=Mean=5030.32 +/- 0.789311, sigma=Width=5.6804 +/- 0.792902\n",
            "     p.d.f normalization integral is zero or negative @ x=M_m0=5279.06, mean=Mean=5030.32 +/- 0.789311, sigma=Width=5.6804 +/- 0.792902\n",
            "     p.d.f normalization integral is zero or negative @ x=M_m0=5277.05, mean=Mean=5030.32 +/- 0.789311, sigma=Width=5.6804 +/- 0.792902\n",
            "     p.d.f normalization integral is zero or negative @ x=M_m0=5332.18, mean=Mean=5030.32 +/- 0.789311, sigma=Width=5.6804 +/- 0.792902\n",
            "     p.d.f normalization integral is zero or negative @ x=M_m0=5193.81, mean=Mean=5030.32 +/- 0.789311, sigma=Width=5.6804 +/- 0.792902\n",
            "     p.d.f normalization integral is zero or negative @ x=M_m0=5155.26, mean=Mean=5030.32 +/- 0.789311, sigma=Width=5.6804 +/- 0.792902\n",
            "     p.d.f normalization integral is zero or negative @ x=M_m0=5178.38, mean=Mean=5030.32 +/- 0.789311, sigma=Width=5.6804 +/- 0.792902\n",
            "     p.d.f normalization integral is zero or negative @ x=M_m0=5361.77, mean=Mean=5030.32 +/- 0.789311, sigma=Width=5.6804 +/- 0.792902\n",
            "    ... (remaining 2038 messages suppressed)\n",
            "\n",
            " MIGRAD MINIMIZATION HAS CONVERGED.\n",
            " MIGRAD WILL VERIFY CONVERGENCE AND ERROR MATRIX.\n",
            " COVARIANCE MATRIX CALCULATED SUCCESSFULLY\n",
            " FCN=-79465.8 FROM MIGRAD    STATUS=CONVERGED     568 CALLS         569 TOTAL\n",
            "                     EDM=4.44228e-07    STRATEGY= 1      ERROR MATRIX ACCURATE \n",
            "  EXT PARAMETER                                   STEP         FIRST   \n",
            "  NO.   NAME      VALUE            ERROR          SIZE      DERIVATIVE \n",
            "   1  Gauss_Norm   1.70028e+03   9.89730e+01   6.92104e-04  -1.23828e-01\n",
            "   2  Mean         5.28495e+03   1.21363e+00   9.43379e-04  -4.96325e-02\n",
            "   3  Width        1.97293e+01   1.14467e+00   7.69949e-03   1.36954e-02\n",
            "   4  exp_Norm     2.34487e+04   1.77549e+02   4.91304e-04   3.12895e-02\n",
            "   5  exponent    -1.16545e-03   5.71908e-05   5.53944e-06   2.23561e+00\n",
            "                               ERR DEF= 0.5\n",
            " EXTERNAL ERROR MATRIX.    NDIM=  25    NPAR=  5    ERR DEF=0.5\n",
            "  9.796e+03 -9.651e+00  5.993e+01 -8.084e+03  4.377e-05 \n",
            " -9.651e+00  1.473e+00 -1.593e-01  9.626e+00 -6.827e-06 \n",
            "  5.993e+01 -1.593e-01  1.311e+00 -5.977e+01  8.157e-07 \n",
            " -8.084e+03  9.626e+00 -5.977e+01  3.152e+04 -4.365e-05 \n",
            "  4.377e-05 -6.827e-06  8.157e-07 -4.365e-05  3.271e-09 \n",
            " PARAMETER  CORRELATION COEFFICIENTS  \n",
            "       NO.  GLOBAL      1      2      3      4      5\n",
            "        1  0.61759   1.000 -0.080  0.529 -0.460  0.008\n",
            "        2  0.15191  -0.080  1.000 -0.115  0.045 -0.098\n",
            "        3  0.53669   0.529 -0.115  1.000 -0.294  0.012\n",
            "        4  0.46391  -0.460  0.045 -0.294  1.000 -0.004\n",
            "        5  0.09837   0.008 -0.098  0.012 -0.004  1.000\n",
            " **********\n",
            " **   88 **SET ERR         0.5\n",
            " **********\n",
            " **********\n",
            " **   89 **SET PRINT           1\n",
            " **********\n",
            " **********\n",
            " **   90 **HESSE        2500\n",
            " **********\n",
            " COVARIANCE MATRIX CALCULATED SUCCESSFULLY\n",
            " FCN=-79465.8 FROM HESSE     STATUS=OK             31 CALLS         600 TOTAL\n",
            "                     EDM=4.47212e-07    STRATEGY= 1      ERROR MATRIX ACCURATE \n",
            "  EXT PARAMETER                                INTERNAL      INTERNAL  \n",
            "  NO.   NAME      VALUE            ERROR       STEP SIZE       VALUE   \n",
            "   1  Gauss_Norm   1.70028e+03   9.92505e+01   2.76841e-05  -1.41579e+00\n",
            "   2  Mean         5.28495e+03   1.21432e+00   3.77352e-05   1.40254e-01\n",
            "   3  Width        1.97293e+01   1.14860e+00   3.07980e-04  -2.12422e-01\n",
            "   4  exp_Norm     2.34487e+04   1.77759e+02   1.96522e-05  -8.51038e-01\n",
            "   5  exponent    -1.16545e-03   5.71911e-05   2.21578e-07  -5.82727e-04\n",
            "                               ERR DEF= 0.5\n",
            " EXTERNAL ERROR MATRIX.    NDIM=  25    NPAR=  5    ERR DEF=0.5\n",
            "  9.851e+03 -9.675e+00  6.073e+01 -8.150e+03  4.189e-05 \n",
            " -9.675e+00  1.475e+00 -1.677e-01  9.674e+00 -6.835e-06 \n",
            "  6.073e+01 -1.677e-01  1.320e+00 -6.072e+01  8.378e-07 \n",
            " -8.150e+03  9.674e+00 -6.072e+01  3.160e+04 -4.188e-05 \n",
            "  4.189e-05 -6.835e-06  8.378e-07 -4.188e-05  3.271e-09 \n",
            " PARAMETER  CORRELATION COEFFICIENTS  \n",
            "       NO.  GLOBAL      1      2      3      4      5\n",
            "        1  0.62038   1.000 -0.080  0.533 -0.462  0.007\n",
            "        2  0.15556  -0.080  1.000 -0.120  0.045 -0.098\n",
            "        3  0.54117   0.533 -0.120  1.000 -0.297  0.013\n",
            "        4  0.46591  -0.462  0.045 -0.297  1.000 -0.004\n",
            "        5  0.09842   0.007 -0.098  0.013 -0.004  1.000\n",
            "[#1] INFO:Minization -- RooMinimizer::optimizeConst: deactivating const optimization\n",
            "[#1] INFO:Minization -- p.d.f. provides expected number of events, including extended term in likelihood.\n",
            "[#1] INFO:Minization -- RooMinimizer::optimizeConst: activating const optimization\n",
            "[#1] INFO:Minization --  The following expressions will be evaluated in cache-and-track mode: (Gaussian Signal,Exponential Background)\n",
            " **********\n",
            " **   91 **SET PRINT           1\n",
            " **********\n",
            " **********\n",
            " **   92 **SET NOGRAD\n",
            " **********\n",
            " PARAMETER DEFINITIONS:\n",
            "    NO.   NAME         VALUE      STEP SIZE      LIMITS\n",
            "     1 Gauss_Norm   3.12100e+03  1.56050e+03    0.00000e+00  2.80950e+05\n",
            "     2 Mean         5.28495e+03  1.21432e+00    5.00000e+03  5.50000e+03\n",
            "     3 Width        1.97293e+01  1.14860e+00    0.00000e+00  5.00000e+01\n",
            "     4 exp_Norm     3.12100e+03  1.56050e+03    0.00000e+00  1.87300e+05\n",
            "     5 exponent    -1.16545e-03  5.71911e-05   -2.00000e+00  2.00000e+00\n",
            " **********\n",
            " **   93 **SET ERR         0.5\n",
            " **********\n",
            " **********\n",
            " **   94 **SET PRINT           1\n",
            " **********\n",
            " **********\n",
            " **   95 **SET STR           1\n",
            " **********\n",
            " NOW USING STRATEGY  1: TRY TO BALANCE SPEED AGAINST RELIABILITY\n",
            " **********\n",
            " **   96 **MIGRAD        2500           1\n",
            " **********\n",
            " FIRST CALL TO USER FUNCTION AT NEW START POINT, WITH IFLAG=4.\n",
            " START MIGRAD MINIMIZATION.  STRATEGY  1.  CONVERGENCE WHEN EDM .LT. 1.00e-03\n",
            " FCN=-57798.7 FROM MIGRAD    STATUS=INITIATE       18 CALLS          19 TOTAL\n",
            "                     EDM= unknown      STRATEGY= 1      NO ERROR MATRIX       \n",
            "  EXT PARAMETER               CURRENT GUESS       STEP         FIRST   \n",
            "  NO.   NAME      VALUE            ERROR          SIZE      DERIVATIVE \n",
            "   1  Gauss_Norm   3.12100e+03   1.56050e+03   5.48501e-02  -2.68492e+04\n",
            "   2  Mean         5.28495e+03   1.21432e+00   4.90547e-03   4.36189e+03\n",
            "   3  Width        1.97293e+01   1.14860e+00   4.70201e-02  -4.74356e+03\n",
            "   4  exp_Norm     3.12100e+03   1.56050e+03   6.73585e-02  -1.23253e+05\n",
            "   5  exponent    -1.16545e-03   5.71911e-05   2.85955e-05   3.40111e+04\n",
            "                               ERR DEF= 0.5\n",
            " MIGRAD MINIMIZATION HAS CONVERGED.\n",
            " MIGRAD WILL VERIFY CONVERGENCE AND ERROR MATRIX.\n",
            " COVARIANCE MATRIX CALCULATED SUCCESSFULLY\n",
            " FCN=-79525.2 FROM MIGRAD    STATUS=CONVERGED     313 CALLS         314 TOTAL\n",
            "                     EDM=4.14189e-06    STRATEGY= 1      ERROR MATRIX ACCURATE \n",
            "  EXT PARAMETER                                   STEP         FIRST   \n",
            "  NO.   NAME      VALUE            ERROR          SIZE      DERIVATIVE \n",
            "   1  Gauss_Norm   2.03647e+03   1.04117e+02   6.50759e-04  -1.59556e-01\n",
            "   2  Mean         5.28142e+03   1.02267e+00   7.95170e-04   1.66918e-02\n",
            "   3  Width        1.95561e+01   1.07978e+00   7.04924e-03   1.83546e-02\n",
            "   4  exp_Norm     2.30957e+04   1.78534e+02   4.95585e-04   5.84531e-01\n",
            "   5  exponent    -1.21463e-03   5.76692e-05   5.58714e-06   2.66778e+01\n",
            "                               ERR DEF= 0.5\n",
            " EXTERNAL ERROR MATRIX.    NDIM=  25    NPAR=  5    ERR DEF=0.5\n",
            "  1.084e+04 -8.164e+00  6.400e+01 -8.790e+03  1.277e-04 \n",
            " -8.164e+00  1.046e+00 -1.094e-01  8.143e+00 -5.809e-06 \n",
            "  6.400e+01 -1.094e-01  1.167e+00 -6.383e+01  1.272e-06 \n",
            " -8.790e+03  8.143e+00 -6.383e+01  3.187e+04 -1.275e-04 \n",
            "  1.277e-04 -5.809e-06  1.272e-06 -1.275e-04  3.326e-09 \n",
            " PARAMETER  CORRELATION COEFFICIENTS  \n",
            "       NO.  GLOBAL      1      2      3      4      5\n",
            "        1  0.64426   1.000 -0.077  0.569 -0.473  0.021\n",
            "        2  0.14030  -0.077  1.000 -0.099  0.045 -0.099\n",
            "        3  0.57604   0.569 -0.099  1.000 -0.331  0.020\n",
            "        4  0.47883  -0.473  0.045 -0.331  1.000 -0.012\n",
            "        5  0.09953   0.021 -0.099  0.020 -0.012  1.000\n",
            " **********\n",
            " **   97 **SET ERR         0.5\n",
            " **********\n",
            " **********\n",
            " **   98 **SET PRINT           1\n",
            " **********\n",
            " **********\n",
            " **   99 **HESSE        2500\n",
            " **********\n",
            " COVARIANCE MATRIX CALCULATED SUCCESSFULLY\n",
            " FCN=-79525.2 FROM HESSE     STATUS=OK             31 CALLS         345 TOTAL\n",
            "                     EDM=4.14977e-06    STRATEGY= 1      ERROR MATRIX ACCURATE \n",
            "  EXT PARAMETER                                INTERNAL      INTERNAL  \n",
            "  NO.   NAME      VALUE            ERROR       STEP SIZE       VALUE   \n",
            "   1  Gauss_Norm   2.03647e+03   1.04436e+02   2.60304e-05  -1.40031e+00\n",
            "   2  Mean         5.28142e+03   1.02327e+00   3.18068e-05   1.26027e-01\n",
            "   3  Width        1.95561e+01   1.08367e+00   2.81970e-04  -2.19516e-01\n",
            "   4  exp_Norm     2.30957e+04   1.78784e+02   9.91170e-05  -8.53191e-01\n",
            "   5  exponent    -1.21463e-03   5.76694e-05   1.11743e-06  -6.07315e-04\n",
            "                               ERR DEF= 0.5\n",
            " EXTERNAL ERROR MATRIX.    NDIM=  25    NPAR=  5    ERR DEF=0.5\n",
            "  1.091e+04 -8.339e+00  6.483e+01 -8.869e+03  1.275e-04 \n",
            " -8.339e+00  1.047e+00 -1.170e-01  8.337e+00 -5.817e-06 \n",
            "  6.483e+01 -1.170e-01  1.175e+00 -6.481e+01  1.307e-06 \n",
            " -8.869e+03  8.337e+00 -6.481e+01  3.196e+04 -1.275e-04 \n",
            "  1.275e-04 -5.817e-06  1.307e-06 -1.275e-04  3.326e-09 \n",
            " PARAMETER  CORRELATION COEFFICIENTS  \n",
            "       NO.  GLOBAL      1      2      3      4      5\n",
            "        1  0.64702   1.000 -0.078  0.573 -0.475  0.021\n",
            "        2  0.14437  -0.078  1.000 -0.105  0.046 -0.099\n",
            "        3  0.58015   0.573 -0.105  1.000 -0.334  0.021\n",
            "        4  0.48108  -0.475  0.046 -0.334  1.000 -0.012\n",
            "        5  0.09957   0.021 -0.099  0.021 -0.012  1.000\n",
            "[#1] INFO:Minization -- RooMinimizer::optimizeConst: deactivating const optimization\n"
          ],
          "name": "stdout"
        }
      ]
    },
    {
      "cell_type": "code",
      "metadata": {
        "colab": {
          "base_uri": "https://localhost:8080/",
          "height": 581
        },
        "id": "gJgQscDYZ1z5",
        "outputId": "d237cddc-a010-438c-aabe-1f847240b595"
      },
      "source": [
        "#Now to plot it all\r\n",
        "c1=ROOT.TCanvas(\"c1\",\"c1\")\r\n",
        "frame=mass.frame()\r\n",
        "data_to_fitPlus.plotOn(frame)\r\n",
        "modelPlus.plotOn(frame, ROOT.RooFit.Components(\"Gaussian Signal\"),ROOT.RooFit.LineColor(8),ROOT.RooFit.LineStyle(2))\r\n",
        "modelPlus.plotOn(frame, ROOT.RooFit.Components(\"Exponential Background\"),ROOT.RooFit.LineColor(46),ROOT.RooFit.LineStyle(2))\r\n",
        "modelPlus.plotOn(frame)\r\n",
        "frame.Draw()\r\n",
        "c1.Update()\r\n",
        "c1.Draw()"
      ],
      "execution_count": 78,
      "outputs": [
        {
          "output_type": "stream",
          "text": [
            "[#1] INFO:Plotting -- RooAbsPdf::plotOn(Full Model) directly selected PDF components: (Gaussian Signal)\n",
            "[#1] INFO:Plotting -- RooAbsPdf::plotOn(Full Model) indirectly selected PDF components: ()\n",
            "[#1] INFO:Plotting -- RooAbsPdf::plotOn(Full Model) directly selected PDF components: (Exponential Background)\n",
            "[#1] INFO:Plotting -- RooAbsPdf::plotOn(Full Model) indirectly selected PDF components: ()\n"
          ],
          "name": "stdout"
        },
        {
          "output_type": "stream",
          "text": [
            "Warning in <TCanvas::Constructor>: Deleting canvas with same name: c1\n"
          ],
          "name": "stderr"
        },
        {
          "output_type": "display_data",
          "data": {
            "image/png": "[encoded data removed]",
            "text/plain": [
              "<IPython.core.display.Image object>"
            ]
          },
          "metadata": {
            "tags": []
          }
        }
      ]
    },
    {
      "cell_type": "code",
      "metadata": {
        "colab": {
          "base_uri": "https://localhost:8080/",
          "height": 581
        },
        "id": "2RTzpJ3CaNFW",
        "outputId": "9c861163-a97f-4000-8399-a9b0090f0c23"
      },
      "source": [
        "#Now to plot it all\r\n",
        "c1=ROOT.TCanvas(\"c1\",\"c1\")\r\n",
        "frame=mass.frame()\r\n",
        "data_to_fitMinus.plotOn(frame)\r\n",
        "modelMinus.plotOn(frame, ROOT.RooFit.Components(\"Gaussian Signal\"),ROOT.RooFit.LineColor(8),ROOT.RooFit.LineStyle(2))\r\n",
        "modelMinus.plotOn(frame, ROOT.RooFit.Components(\"Exponential Background\"),ROOT.RooFit.LineColor(46),ROOT.RooFit.LineStyle(2))\r\n",
        "modelMinus.plotOn(frame)\r\n",
        "frame.Draw()\r\n",
        "c1.Update()\r\n",
        "c1.Draw()"
      ],
      "execution_count": 79,
      "outputs": [
        {
          "output_type": "stream",
          "text": [
            "[#1] INFO:Plotting -- RooAbsPdf::plotOn(Full Model) directly selected PDF components: (Gaussian Signal)\n",
            "[#1] INFO:Plotting -- RooAbsPdf::plotOn(Full Model) indirectly selected PDF components: ()\n",
            "[#1] INFO:Plotting -- RooAbsPdf::plotOn(Full Model) directly selected PDF components: (Exponential Background)\n",
            "[#1] INFO:Plotting -- RooAbsPdf::plotOn(Full Model) indirectly selected PDF components: ()\n"
          ],
          "name": "stdout"
        },
        {
          "output_type": "stream",
          "text": [
            "Warning in <TCanvas::Constructor>: Deleting canvas with same name: c1\n"
          ],
          "name": "stderr"
        },
        {
          "output_type": "display_data",
          "data": {
            "image/png": "[encoded data removed]",
            "text/plain": [
              "<IPython.core.display.Image object>"
            ]
          },
          "metadata": {
            "tags": []
          }
        }
      ]
    },
    {
      "cell_type": "markdown",
      "metadata": {
        "id": "r8VB5uN1obc4"
      },
      "source": [
        "Once we have defined if it's a B<sup>+</sup> or a B <sup>-</sup>, we should go ahead and ensure the pre-selection is applied and then plot our B mass, and fit the model to find the yield.\r\n",
        "\r\n",
        "We can then calculate the assymetry from this equation:\r\n",
        "\r\n",
        "$A=\\frac{(N^{B-}-N^{B+})}{(N^{B-}+N^{B+})}$\r\n",
        "\r\n",
        "Where N<sup>B+/- </sup> is the number of events found from the fitted yield of the signal from each data set.\r\n",
        "\r\n",
        "The uncertainty on this result is given by:\r\n",
        "\r\n",
        "$\\sigma_A=\\sqrt\\frac{1-A^2}{N^{B-}+N^{B+}}$\r\n",
        "\r\n",
        "Calculate these two values for your data and print them below:"
      ]
    },
    {
      "cell_type": "code",
      "metadata": {
        "id": "UiPNe2iuobSK",
        "colab": {
          "base_uri": "https://localhost:8080/"
        },
        "outputId": "0c998fee-2659-437e-ae3f-365bfb8dece1"
      },
      "source": [
        "#Here do your calculation of the final result\r\n",
        "import math\r\n",
        "\r\n",
        "NbP = Gauss_NormPlus.getValV()\r\n",
        "NbM = Gauss_NormMinus.getValV()\r\n",
        "\r\n",
        "A = (NbM - NbP)/(NbM + NbP)\r\n",
        "sigma = math.sqrt((1-A**2)/(NbM+NbP))\r\n",
        "\r\n",
        "print(A)\r\n",
        "print(sigma)\r\n"
      ],
      "execution_count": 92,
      "outputs": [
        {
          "output_type": "stream",
          "text": [
            "0.0899686043193\n",
            "0.0162925026439\n"
          ],
          "name": "stdout"
        }
      ]
    },
    {
      "cell_type": "markdown",
      "metadata": {
        "id": "r5B--_33okz1"
      },
      "source": [
        "#Congratulations!\r\n",
        "\r\n",
        "You just made your first LHCb physics analysis. Does this seem like a reasonable result? Did we explain why we have an excess of mass in the Universe?"
      ]
    },
    {
      "cell_type": "markdown",
      "metadata": {
        "id": "dzybWZylomGu"
      },
      "source": [
        "## **Bonus content only below here:**"
      ]
    },
    {
      "cell_type": "markdown",
      "metadata": {
        "id": "odpbRqdoou5M"
      },
      "source": [
        "To make a further anaysis, we can look into the intermediate processes.\r\n",
        "\r\n",
        "We have so far considered only that the B meson ultimately decays into three kaons. It may be that on the way, the B meson first decays into a Kaon and another particle, and then from that particle to two Kaons.\r\n",
        "\r\n",
        "We would expect this to be one of three possible modes (for B<sup>+</sup>):\r\n",
        "\r\n",
        "$R^{++} \\rightarrow K_1^+ +K_2^+$\r\n",
        "\r\n",
        "(we don't expect this to happen because of the like charges in the Kaons)\r\n",
        "\r\n",
        "$R^0 \\rightarrow K_1^+ +K_3^-$\r\n",
        "\r\n",
        "$R^0 \\rightarrow K_2^+ +K_3^-$\r\n",
        "\r\n",
        "(Expect symmetric arrangements for B<sup>-</sup>)\r\n",
        "\r\n",
        "To analyse the intermediate states we can measure the invarient masses of the intermediate states and then plot them on what is called a Dalitz plot (this is a 2D plot with two different two body decays (from the three body decay) on each axis)\r\n",
        "\r\n",
        "![Dalitz Plot](https://slideplayer.com/slide/15960097/88/images/15/Dalitz+plot%3A+%CE%9B+c+%2B+%E2%86%92%F0%9D%91%9D+%F0%9D%90%BE+%E2%88%92+%F0%9D%9C%8B+%2B.jpg)\r\n"
      ]
    },
    {
      "cell_type": "code",
      "metadata": {
        "id": "SqJxvZSKo1cW"
      },
      "source": [
        "#Define a function to find the invarient mass of two given Kaons"
      ],
      "execution_count": 81,
      "outputs": []
    },
    {
      "cell_type": "code",
      "metadata": {
        "id": "YPVqECfPo3Wc"
      },
      "source": [
        "#Then, ensuring you're still taking the data after the selection, make a Dalitz plot. This is a 2-D scatter plot (use e.g. TH2F to make the plot where we used TH1F before)\r\n",
        "#Choose an appropriate binning in your scatter "
      ],
      "execution_count": 82,
      "outputs": []
    },
    {
      "cell_type": "markdown",
      "metadata": {
        "id": "qPoPLt4Uo6QB"
      },
      "source": [
        "We can further improve our plot, since two sets of particles on each axis are exactly the same (one positive Kaon, one negative Kaon). So we can plot the maximum of the two values on one axis and the minimum on the other. We can use a quick numpy check and then plot those values."
      ]
    },
    {
      "cell_type": "code",
      "metadata": {
        "id": "KJ_fe2R3o8Aq"
      },
      "source": [
        "#Make the revised Dalitz plot here for B+ mesons"
      ],
      "execution_count": 83,
      "outputs": []
    },
    {
      "cell_type": "code",
      "metadata": {
        "id": "t46slV8Yo-Ed"
      },
      "source": [
        "#Make the revised Dalitz plot here for B- mesons"
      ],
      "execution_count": 84,
      "outputs": []
    },
    {
      "cell_type": "code",
      "metadata": {
        "id": "RfTDh69qo9_q"
      },
      "source": [
        "#Where we have a higher density of points (or a bigger value in the bin) this is indication of an intermediate resonance\r\n",
        "#Check out the possible resonances you have found in the PDG (http://pdg.lbl.gov/2020/tables/contents_tables.html)"
      ],
      "execution_count": 85,
      "outputs": []
    }
  ]
}